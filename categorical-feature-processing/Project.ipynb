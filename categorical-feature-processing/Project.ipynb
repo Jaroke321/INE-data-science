{
 "cells": [
  {
   "cell_type": "markdown",
   "metadata": {},
   "source": [
    "![ine-divider](https://user-images.githubusercontent.com/7065401/92672068-398e8080-f2ee-11ea-82d6-ad53f7feb5c0.png)\n",
    "<hr>\n",
    "\n",
    "# Feature Engineering\n",
    "\n",
    "## Categorical features and dirty cats\n",
    "\n",
    "In this project, you will be working with dirty cats again to practice all the techniques you learned on previous lessons.  \n",
    "\n",
    "**Remember**: it's important to always learn from your training data and transform your test data.  Let's gain some practice applying feature engineering to train and test sets."
   ]
  },
  {
   "cell_type": "code",
   "execution_count": 1,
   "metadata": {},
   "outputs": [],
   "source": [
    "# Import necessary packages\n",
    "import numpy as np\n",
    "import pandas as pd"
   ]
  },
  {
   "cell_type": "code",
   "execution_count": 2,
   "metadata": {},
   "outputs": [
    {
     "data": {
      "text/html": [
       "<div>\n",
       "<style scoped>\n",
       "    .dataframe tbody tr th:only-of-type {\n",
       "        vertical-align: middle;\n",
       "    }\n",
       "\n",
       "    .dataframe tbody tr th {\n",
       "        vertical-align: top;\n",
       "    }\n",
       "\n",
       "    .dataframe thead th {\n",
       "        text-align: right;\n",
       "    }\n",
       "</style>\n",
       "<table border=\"1\" class=\"dataframe\">\n",
       "  <thead>\n",
       "    <tr style=\"text-align: right;\">\n",
       "      <th></th>\n",
       "      <th>nom_0</th>\n",
       "      <th>nom_1</th>\n",
       "      <th>nom_2</th>\n",
       "      <th>nom_3</th>\n",
       "      <th>nom_4</th>\n",
       "      <th>ord_0</th>\n",
       "      <th>ord_1</th>\n",
       "      <th>ord_2</th>\n",
       "    </tr>\n",
       "  </thead>\n",
       "  <tbody>\n",
       "    <tr>\n",
       "      <th>0</th>\n",
       "      <td>Green</td>\n",
       "      <td>Triangle</td>\n",
       "      <td>Snake</td>\n",
       "      <td>Finland</td>\n",
       "      <td>Bassoon</td>\n",
       "      <td>2</td>\n",
       "      <td>Grandmaster</td>\n",
       "      <td>Cold</td>\n",
       "    </tr>\n",
       "    <tr>\n",
       "      <th>1</th>\n",
       "      <td>Green</td>\n",
       "      <td>Trapezoid</td>\n",
       "      <td>Hamster</td>\n",
       "      <td>Russia</td>\n",
       "      <td>Piano</td>\n",
       "      <td>1</td>\n",
       "      <td>Grandmaster</td>\n",
       "      <td>Hot</td>\n",
       "    </tr>\n",
       "    <tr>\n",
       "      <th>2</th>\n",
       "      <td>Blue</td>\n",
       "      <td>Trapezoid</td>\n",
       "      <td>Lion</td>\n",
       "      <td>Russia</td>\n",
       "      <td>Theremin</td>\n",
       "      <td>1</td>\n",
       "      <td>Expert</td>\n",
       "      <td>Lava Hot</td>\n",
       "    </tr>\n",
       "    <tr>\n",
       "      <th>3</th>\n",
       "      <td>Red</td>\n",
       "      <td>Trapezoid</td>\n",
       "      <td>Snake</td>\n",
       "      <td>Canada</td>\n",
       "      <td>Oboe</td>\n",
       "      <td>1</td>\n",
       "      <td>Grandmaster</td>\n",
       "      <td>Boiling Hot</td>\n",
       "    </tr>\n",
       "    <tr>\n",
       "      <th>4</th>\n",
       "      <td>Red</td>\n",
       "      <td>Trapezoid</td>\n",
       "      <td>Lion</td>\n",
       "      <td>Canada</td>\n",
       "      <td>Oboe</td>\n",
       "      <td>1</td>\n",
       "      <td>Grandmaster</td>\n",
       "      <td>Freezing</td>\n",
       "    </tr>\n",
       "  </tbody>\n",
       "</table>\n",
       "</div>"
      ],
      "text/plain": [
       "   nom_0      nom_1    nom_2    nom_3     nom_4  ord_0        ord_1  \\\n",
       "0  Green   Triangle    Snake  Finland   Bassoon      2  Grandmaster   \n",
       "1  Green  Trapezoid  Hamster   Russia     Piano      1  Grandmaster   \n",
       "2   Blue  Trapezoid     Lion   Russia  Theremin      1       Expert   \n",
       "3    Red  Trapezoid    Snake   Canada      Oboe      1  Grandmaster   \n",
       "4    Red  Trapezoid     Lion   Canada      Oboe      1  Grandmaster   \n",
       "\n",
       "         ord_2  \n",
       "0         Cold  \n",
       "1          Hot  \n",
       "2     Lava Hot  \n",
       "3  Boiling Hot  \n",
       "4     Freezing  "
      ]
     },
     "execution_count": 2,
     "metadata": {},
     "output_type": "execute_result"
    }
   ],
   "source": [
    "# Read in dirty_cats.csv\n",
    "df = pd.read_csv('datasets/dirty_cats.csv')\n",
    "df.head()"
   ]
  },
  {
   "cell_type": "markdown",
   "metadata": {},
   "source": [
    "![orange-divider](https://user-images.githubusercontent.com/7065401/98619088-44ab6000-22e1-11eb-8f6d-5532e68ab274.png)\n",
    "\n",
    "## How do we get dummies from our train set and apply them to our test set?"
   ]
  },
  {
   "cell_type": "code",
   "execution_count": 3,
   "metadata": {},
   "outputs": [],
   "source": [
    "# Let's work with our nom_0 column again\n",
    "# Get dummies for nom_0\n",
    "nom_0_dummies = pd.get_dummies(df.nom_0, drop_first=True)"
   ]
  },
  {
   "cell_type": "code",
   "execution_count": 4,
   "metadata": {},
   "outputs": [
    {
     "data": {
      "text/html": [
       "<div>\n",
       "<style scoped>\n",
       "    .dataframe tbody tr th:only-of-type {\n",
       "        vertical-align: middle;\n",
       "    }\n",
       "\n",
       "    .dataframe tbody tr th {\n",
       "        vertical-align: top;\n",
       "    }\n",
       "\n",
       "    .dataframe thead th {\n",
       "        text-align: right;\n",
       "    }\n",
       "</style>\n",
       "<table border=\"1\" class=\"dataframe\">\n",
       "  <thead>\n",
       "    <tr style=\"text-align: right;\">\n",
       "      <th></th>\n",
       "      <th>BULE</th>\n",
       "      <th>Blue</th>\n",
       "      <th>Bule</th>\n",
       "      <th>GEREN</th>\n",
       "      <th>GREEN</th>\n",
       "      <th>Geren</th>\n",
       "      <th>Green</th>\n",
       "      <th>RED</th>\n",
       "      <th>Rde</th>\n",
       "      <th>Red</th>\n",
       "      <th>blue</th>\n",
       "      <th>green</th>\n",
       "      <th>red</th>\n",
       "    </tr>\n",
       "  </thead>\n",
       "  <tbody>\n",
       "    <tr>\n",
       "      <th>0</th>\n",
       "      <td>0</td>\n",
       "      <td>0</td>\n",
       "      <td>0</td>\n",
       "      <td>0</td>\n",
       "      <td>0</td>\n",
       "      <td>0</td>\n",
       "      <td>1</td>\n",
       "      <td>0</td>\n",
       "      <td>0</td>\n",
       "      <td>0</td>\n",
       "      <td>0</td>\n",
       "      <td>0</td>\n",
       "      <td>0</td>\n",
       "    </tr>\n",
       "    <tr>\n",
       "      <th>1</th>\n",
       "      <td>0</td>\n",
       "      <td>0</td>\n",
       "      <td>0</td>\n",
       "      <td>0</td>\n",
       "      <td>0</td>\n",
       "      <td>0</td>\n",
       "      <td>1</td>\n",
       "      <td>0</td>\n",
       "      <td>0</td>\n",
       "      <td>0</td>\n",
       "      <td>0</td>\n",
       "      <td>0</td>\n",
       "      <td>0</td>\n",
       "    </tr>\n",
       "    <tr>\n",
       "      <th>2</th>\n",
       "      <td>0</td>\n",
       "      <td>1</td>\n",
       "      <td>0</td>\n",
       "      <td>0</td>\n",
       "      <td>0</td>\n",
       "      <td>0</td>\n",
       "      <td>0</td>\n",
       "      <td>0</td>\n",
       "      <td>0</td>\n",
       "      <td>0</td>\n",
       "      <td>0</td>\n",
       "      <td>0</td>\n",
       "      <td>0</td>\n",
       "    </tr>\n",
       "    <tr>\n",
       "      <th>3</th>\n",
       "      <td>0</td>\n",
       "      <td>0</td>\n",
       "      <td>0</td>\n",
       "      <td>0</td>\n",
       "      <td>0</td>\n",
       "      <td>0</td>\n",
       "      <td>0</td>\n",
       "      <td>0</td>\n",
       "      <td>0</td>\n",
       "      <td>1</td>\n",
       "      <td>0</td>\n",
       "      <td>0</td>\n",
       "      <td>0</td>\n",
       "    </tr>\n",
       "    <tr>\n",
       "      <th>4</th>\n",
       "      <td>0</td>\n",
       "      <td>0</td>\n",
       "      <td>0</td>\n",
       "      <td>0</td>\n",
       "      <td>0</td>\n",
       "      <td>0</td>\n",
       "      <td>0</td>\n",
       "      <td>0</td>\n",
       "      <td>0</td>\n",
       "      <td>1</td>\n",
       "      <td>0</td>\n",
       "      <td>0</td>\n",
       "      <td>0</td>\n",
       "    </tr>\n",
       "    <tr>\n",
       "      <th>...</th>\n",
       "      <td>...</td>\n",
       "      <td>...</td>\n",
       "      <td>...</td>\n",
       "      <td>...</td>\n",
       "      <td>...</td>\n",
       "      <td>...</td>\n",
       "      <td>...</td>\n",
       "      <td>...</td>\n",
       "      <td>...</td>\n",
       "      <td>...</td>\n",
       "      <td>...</td>\n",
       "      <td>...</td>\n",
       "      <td>...</td>\n",
       "    </tr>\n",
       "    <tr>\n",
       "      <th>299995</th>\n",
       "      <td>0</td>\n",
       "      <td>0</td>\n",
       "      <td>0</td>\n",
       "      <td>0</td>\n",
       "      <td>0</td>\n",
       "      <td>0</td>\n",
       "      <td>0</td>\n",
       "      <td>0</td>\n",
       "      <td>0</td>\n",
       "      <td>1</td>\n",
       "      <td>0</td>\n",
       "      <td>0</td>\n",
       "      <td>0</td>\n",
       "    </tr>\n",
       "    <tr>\n",
       "      <th>299996</th>\n",
       "      <td>0</td>\n",
       "      <td>0</td>\n",
       "      <td>0</td>\n",
       "      <td>0</td>\n",
       "      <td>0</td>\n",
       "      <td>0</td>\n",
       "      <td>1</td>\n",
       "      <td>0</td>\n",
       "      <td>0</td>\n",
       "      <td>0</td>\n",
       "      <td>0</td>\n",
       "      <td>0</td>\n",
       "      <td>0</td>\n",
       "    </tr>\n",
       "    <tr>\n",
       "      <th>299997</th>\n",
       "      <td>0</td>\n",
       "      <td>1</td>\n",
       "      <td>0</td>\n",
       "      <td>0</td>\n",
       "      <td>0</td>\n",
       "      <td>0</td>\n",
       "      <td>0</td>\n",
       "      <td>0</td>\n",
       "      <td>0</td>\n",
       "      <td>0</td>\n",
       "      <td>0</td>\n",
       "      <td>0</td>\n",
       "      <td>0</td>\n",
       "    </tr>\n",
       "    <tr>\n",
       "      <th>299998</th>\n",
       "      <td>0</td>\n",
       "      <td>0</td>\n",
       "      <td>0</td>\n",
       "      <td>0</td>\n",
       "      <td>0</td>\n",
       "      <td>0</td>\n",
       "      <td>1</td>\n",
       "      <td>0</td>\n",
       "      <td>0</td>\n",
       "      <td>0</td>\n",
       "      <td>0</td>\n",
       "      <td>0</td>\n",
       "      <td>0</td>\n",
       "    </tr>\n",
       "    <tr>\n",
       "      <th>299999</th>\n",
       "      <td>0</td>\n",
       "      <td>1</td>\n",
       "      <td>0</td>\n",
       "      <td>0</td>\n",
       "      <td>0</td>\n",
       "      <td>0</td>\n",
       "      <td>0</td>\n",
       "      <td>0</td>\n",
       "      <td>0</td>\n",
       "      <td>0</td>\n",
       "      <td>0</td>\n",
       "      <td>0</td>\n",
       "      <td>0</td>\n",
       "    </tr>\n",
       "  </tbody>\n",
       "</table>\n",
       "<p>300000 rows × 13 columns</p>\n",
       "</div>"
      ],
      "text/plain": [
       "        BULE  Blue  Bule  GEREN  GREEN  Geren  Green  RED  Rde  Red  blue  \\\n",
       "0          0     0     0      0      0      0      1    0    0    0     0   \n",
       "1          0     0     0      0      0      0      1    0    0    0     0   \n",
       "2          0     1     0      0      0      0      0    0    0    0     0   \n",
       "3          0     0     0      0      0      0      0    0    0    1     0   \n",
       "4          0     0     0      0      0      0      0    0    0    1     0   \n",
       "...      ...   ...   ...    ...    ...    ...    ...  ...  ...  ...   ...   \n",
       "299995     0     0     0      0      0      0      0    0    0    1     0   \n",
       "299996     0     0     0      0      0      0      1    0    0    0     0   \n",
       "299997     0     1     0      0      0      0      0    0    0    0     0   \n",
       "299998     0     0     0      0      0      0      1    0    0    0     0   \n",
       "299999     0     1     0      0      0      0      0    0    0    0     0   \n",
       "\n",
       "        green  red  \n",
       "0           0    0  \n",
       "1           0    0  \n",
       "2           0    0  \n",
       "3           0    0  \n",
       "4           0    0  \n",
       "...       ...  ...  \n",
       "299995      0    0  \n",
       "299996      0    0  \n",
       "299997      0    0  \n",
       "299998      0    0  \n",
       "299999      0    0  \n",
       "\n",
       "[300000 rows x 13 columns]"
      ]
     },
     "execution_count": 4,
     "metadata": {},
     "output_type": "execute_result"
    }
   ],
   "source": [
    "# Check out the dummy columns\n",
    "nom_0_dummies"
   ]
  },
  {
   "cell_type": "markdown",
   "metadata": {},
   "source": [
    "---\n",
    "### nom_0 has 3 categories: Green, Blue and Red\n",
    "But, the dummies (because we dropped a column) only has 2 of the 3.\n",
    "\n",
    "> How do we make sure our test dummies has the same 2 out of 3 columns?"
   ]
  },
  {
   "cell_type": "code",
   "execution_count": 5,
   "metadata": {},
   "outputs": [],
   "source": [
    "# Split the data into train and test\n",
    "# There's no target in this toy dataset.  We can just split the data randomly\n",
    "# Select 80% of the data randomly for train\n",
    "msk = np.random.rand(len(df)) < 0.8\n",
    "# Pull the train data out\n",
    "df_train = df[msk].copy()\n",
    "# Pull the test data out\n",
    "df_test = df[~msk].copy()"
   ]
  },
  {
   "cell_type": "code",
   "execution_count": 6,
   "metadata": {},
   "outputs": [
    {
     "data": {
      "text/plain": [
       "Index(['BULE', 'Blue', 'Bule', 'GEREN', 'GREEN', 'Geren', 'Green', 'RED',\n",
       "       'Rde', 'Red', 'blue', 'green', 'red'],\n",
       "      dtype='object')"
      ]
     },
     "execution_count": 6,
     "metadata": {},
     "output_type": "execute_result"
    }
   ],
   "source": [
    "# Learn our dummy columns from our train data\n",
    "# Use pd.get_dummies to get dummy columns for train data\n",
    "\n",
    "# Save the columns from the dummy data frame as a list\n",
    "df_train_dummies =  pd.get_dummies(df.nom_0, drop_first=True)\n",
    "train_dummies = df_train_dummies.columns\n",
    "train_dummies"
   ]
  },
  {
   "cell_type": "markdown",
   "metadata": {},
   "source": [
    "![orange-divider](https://user-images.githubusercontent.com/7065401/98619088-44ab6000-22e1-11eb-8f6d-5532e68ab274.png)\n",
    "\n",
    "## Checking dummy columns\n",
    "\n",
    "There are 2 things you need to check for when applying what you learned about dummies in train to the test data\n",
    "1. What dummy columns (categories) are missing from test that were in train?\n",
    "    - We'll add these and fill the values with 0\n",
    "2. What dummy columns (categories) are in test that were not in train?\n",
    "    - We'll drop these"
   ]
  },
  {
   "cell_type": "code",
   "execution_count": 7,
   "metadata": {},
   "outputs": [],
   "source": [
    "# Let's use set operations to get the sets we need to answer the questions above\n",
    "# Make the train_dummies column list into a set\n",
    "train_set = set(train_dummies)\n",
    "# Get the unique categories from test and create a set\n",
    "test_set = set(df_test.nom_0.unique().tolist())\n",
    "# cols to add exist in train, but not in test\n",
    "cols_to_add = train_set.difference(test_set)\n",
    "# cols to remove exist in test but not in train\n",
    "cols_to_remove = test_set.difference(train_set)"
   ]
  },
  {
   "cell_type": "markdown",
   "metadata": {},
   "source": [
    "![orange-divider](https://user-images.githubusercontent.com/7065401/98619088-44ab6000-22e1-11eb-8f6d-5532e68ab274.png)\n",
    "\n",
    "## Now that we know what columns to look for, let's apply what we know to our test set"
   ]
  },
  {
   "cell_type": "code",
   "execution_count": 8,
   "metadata": {},
   "outputs": [
    {
     "data": {
      "text/plain": [
       "True"
      ]
     },
     "execution_count": 8,
     "metadata": {},
     "output_type": "execute_result"
    }
   ],
   "source": [
    "# One-hot encode the test set (we want to start with all of the columns)\n",
    "df_test_onehot = pd.get_dummies(df_test.nom_0)\n",
    "# Add any cols that are missing -> fill values with 0\n",
    "for col in cols_to_add:\n",
    "    df_test_onehot[col] = 0\n",
    "# Remove any cols that weren't in train\n",
    "df_test_dummies = df_test_onehot.drop(cols_to_remove,axis=1)\n",
    "\n",
    "# Check that the width (number of columns) of train dummies and test dummies match\n",
    "df_test_dummies.shape[1] == df_train_dummies.shape[1]"
   ]
  },
  {
   "cell_type": "markdown",
   "metadata": {},
   "source": [
    "![orange-divider](https://user-images.githubusercontent.com/7065401/98619088-44ab6000-22e1-11eb-8f6d-5532e68ab274.png)\n",
    "\n",
    "## One final thing\n",
    "\n",
    "When the numbers of columns match, you have one more thing you need to check --> that the columns are in the same order."
   ]
  },
  {
   "cell_type": "code",
   "execution_count": 9,
   "metadata": {},
   "outputs": [
    {
     "name": "stdout",
     "output_type": "stream",
     "text": [
      "BULE <===> BULE\n",
      "Blue <===> Blue\n",
      "Bule <===> Bule\n",
      "GEREN <===> GEREN\n",
      "GREEN <===> GREEN\n",
      "Geren <===> Geren\n",
      "Green <===> Green\n",
      "RED <===> RED\n",
      "Rde <===> Rde\n",
      "Red <===> Red\n",
      "blue <===> blue\n",
      "green <===> green\n",
      "red <===> red\n"
     ]
    }
   ],
   "source": [
    "# We already has an ordered list of columns from train in train_dummies\n",
    "# Let's apply that column order to test dummies\n",
    "df_test_dummies = df_test_dummies[train_dummies]\n",
    "\n",
    "# Check that the columns in train and test match\n",
    "for train_col,test_col in zip(df_train_dummies.columns,df_test_dummies.columns):\n",
    "    print(train_col,'<===>',test_col)"
   ]
  },
  {
   "cell_type": "markdown",
   "metadata": {},
   "source": [
    "![orange-divider](https://user-images.githubusercontent.com/7065401/98619088-44ab6000-22e1-11eb-8f6d-5532e68ab274.png)\n",
    "\n",
    "## Incongruent data labeling\n",
    "\n",
    "Looks like we have some incongruent data labeling in this data.\n",
    "\n",
    "> Go back and fix the labeling then redo the dummy columns"
   ]
  },
  {
   "cell_type": "code",
   "execution_count": 10,
   "metadata": {},
   "outputs": [
    {
     "data": {
      "text/plain": [
       "Green    101849\n",
       "Blue      77109\n",
       "Red       61053\n",
       "blue          5\n",
       "green         4\n",
       "Rde           4\n",
       "Bule          3\n",
       "RED           3\n",
       "Geren         2\n",
       "red           2\n",
       "BLUE          2\n",
       "BULE          2\n",
       "GREEN         1\n",
       "GEREN         1\n",
       "Name: nom_0, dtype: int64"
      ]
     },
     "execution_count": 10,
     "metadata": {},
     "output_type": "execute_result"
    }
   ],
   "source": [
    "# Check unique categories in nom_0 using value_counts()\n",
    "df_train.nom_0.value_counts()"
   ]
  },
  {
   "cell_type": "code",
   "execution_count": 11,
   "metadata": {},
   "outputs": [],
   "source": [
    "# Looks like making case uniform will solve part of the problem\n",
    "# Apply .lower() to train and test\n",
    "df_train['nom_0'] = df_train.nom_0.apply(lambda x: x.lower())\n",
    "df_test['nom_0'] = df_test.nom_0.apply(lambda x: x.lower())"
   ]
  },
  {
   "cell_type": "code",
   "execution_count": 12,
   "metadata": {},
   "outputs": [
    {
     "data": {
      "text/plain": [
       "green    101854\n",
       "blue      77116\n",
       "red       61058\n",
       "bule          5\n",
       "rde           4\n",
       "geren         3\n",
       "Name: nom_0, dtype: int64"
      ]
     },
     "execution_count": 12,
     "metadata": {},
     "output_type": "execute_result"
    }
   ],
   "source": [
    "# Have another look at the train categories\n",
    "df_train.nom_0.value_counts()"
   ]
  },
  {
   "cell_type": "code",
   "execution_count": 13,
   "metadata": {},
   "outputs": [],
   "source": [
    "# Create a mapping using train data only to correct spelling\n",
    "nom_0_map = {'bule':'blue','rde':'red','geren':'green','blue':'blue','red':'red','green':'green'}\n",
    "# Use .map to apply the mapping to train data\n",
    "df_train['nom_0_mapped'] = df_train.nom_0.map(nom_0_map)\n",
    "# Use .map to apply the mapping to test data\n",
    "df_test['nom_0_mapped'] = df_test.nom_0.map(nom_0_map)"
   ]
  },
  {
   "cell_type": "code",
   "execution_count": 15,
   "metadata": {},
   "outputs": [
    {
     "data": {
      "text/plain": [
       "green    101857\n",
       "blue      77121\n",
       "red       61062\n",
       "Name: nom_0_mapped, dtype: int64"
      ]
     },
     "execution_count": 15,
     "metadata": {},
     "output_type": "execute_result"
    }
   ],
   "source": [
    "# Check categories in train\n",
    "df_train.nom_0_mapped.value_counts(dropna=False)"
   ]
  },
  {
   "cell_type": "code",
   "execution_count": 16,
   "metadata": {},
   "outputs": [
    {
     "data": {
      "text/plain": [
       "Index(['green', 'red'], dtype='object')"
      ]
     },
     "execution_count": 16,
     "metadata": {},
     "output_type": "execute_result"
    }
   ],
   "source": [
    "# Now that we've cleaned up our labeling, let's make our dummy columns again\n",
    "# Learn our dummy columns from our train data\n",
    "df_train_dummies = pd.get_dummies(df_train.nom_0_mapped, drop_first=True)\n",
    "# keep the dummy cols for use on test data\n",
    "train_dummies = df_train_dummies.columns\n",
    "train_dummies"
   ]
  },
  {
   "cell_type": "code",
   "execution_count": 17,
   "metadata": {},
   "outputs": [],
   "source": [
    "# Assuming we don't know that our test categories match our train categories \n",
    "# (this should always be your assumption)\n",
    "# Get the cols to check\n",
    "# Let's use set operations to get the sets we need to answer the questions above\n",
    "# Make the train_dummies column list into a set\n",
    "train_set = set(train_dummies)\n",
    "# Get the unique categories from test and create a set\n",
    "test_set = set(df_test.nom_0_mapped.unique().tolist())\n",
    "# cols to add exist in train, but not in test\n",
    "cols_to_add = train_set.difference(test_set)\n",
    "# cols to remove exist in test but not in train\n",
    "cols_to_remove = test_set.difference(train_set)"
   ]
  },
  {
   "cell_type": "code",
   "execution_count": 19,
   "metadata": {},
   "outputs": [
    {
     "data": {
      "text/plain": [
       "True"
      ]
     },
     "execution_count": 19,
     "metadata": {},
     "output_type": "execute_result"
    }
   ],
   "source": [
    "# One-hot encode the test set (we want to start with all of the columns)\n",
    "df_test_onehot = pd.get_dummies(df_test.nom_0_mapped)\n",
    "# Add any cols that are missing\n",
    "for col in cols_to_add:\n",
    "    df_test_onehot[col] = 0\n",
    "\n",
    "# Remove any cols that weren't in train\n",
    "df_test_dummies = df_test_onehot.drop(cols_to_remove, axis=1)\n",
    "\n",
    "# Check that the width of train dummies and test dummies match\n",
    "df_test_dummies.shape[1] == df_train_dummies.shape[1]"
   ]
  },
  {
   "cell_type": "code",
   "execution_count": 24,
   "metadata": {},
   "outputs": [
    {
     "name": "stdout",
     "output_type": "stream",
     "text": [
      "Train | Test\n",
      "\n",
      "green <==> green\n",
      "red <==> red\n"
     ]
    }
   ],
   "source": [
    "# Set make sure the order of the test columns matches the order of the train columns\n",
    "df_test_dummies = df_test_dummies[train_dummies]\n",
    "print(\"Train | Test\\n\")\n",
    "for a, b in zip(df_train_dummies.columns, df_test_dummies.columns):\n",
    "    print(\"{0} <==> {1}\".format(a, b))"
   ]
  },
  {
   "cell_type": "code",
   "execution_count": 20,
   "metadata": {},
   "outputs": [
    {
     "data": {
      "text/html": [
       "<div>\n",
       "<style scoped>\n",
       "    .dataframe tbody tr th:only-of-type {\n",
       "        vertical-align: middle;\n",
       "    }\n",
       "\n",
       "    .dataframe tbody tr th {\n",
       "        vertical-align: top;\n",
       "    }\n",
       "\n",
       "    .dataframe thead th {\n",
       "        text-align: right;\n",
       "    }\n",
       "</style>\n",
       "<table border=\"1\" class=\"dataframe\">\n",
       "  <thead>\n",
       "    <tr style=\"text-align: right;\">\n",
       "      <th></th>\n",
       "      <th>green</th>\n",
       "      <th>red</th>\n",
       "    </tr>\n",
       "  </thead>\n",
       "  <tbody>\n",
       "    <tr>\n",
       "      <th>0</th>\n",
       "      <td>1</td>\n",
       "      <td>0</td>\n",
       "    </tr>\n",
       "    <tr>\n",
       "      <th>3</th>\n",
       "      <td>0</td>\n",
       "      <td>1</td>\n",
       "    </tr>\n",
       "    <tr>\n",
       "      <th>4</th>\n",
       "      <td>0</td>\n",
       "      <td>1</td>\n",
       "    </tr>\n",
       "    <tr>\n",
       "      <th>5</th>\n",
       "      <td>0</td>\n",
       "      <td>0</td>\n",
       "    </tr>\n",
       "    <tr>\n",
       "      <th>6</th>\n",
       "      <td>1</td>\n",
       "      <td>0</td>\n",
       "    </tr>\n",
       "  </tbody>\n",
       "</table>\n",
       "</div>"
      ],
      "text/plain": [
       "   green  red\n",
       "0      1    0\n",
       "3      0    1\n",
       "4      0    1\n",
       "5      0    0\n",
       "6      1    0"
      ]
     },
     "execution_count": 20,
     "metadata": {},
     "output_type": "execute_result"
    }
   ],
   "source": [
    "# Have a look at the train data\n",
    "df_train_dummies.head()"
   ]
  },
  {
   "cell_type": "code",
   "execution_count": 21,
   "metadata": {},
   "outputs": [
    {
     "data": {
      "text/html": [
       "<div>\n",
       "<style scoped>\n",
       "    .dataframe tbody tr th:only-of-type {\n",
       "        vertical-align: middle;\n",
       "    }\n",
       "\n",
       "    .dataframe tbody tr th {\n",
       "        vertical-align: top;\n",
       "    }\n",
       "\n",
       "    .dataframe thead th {\n",
       "        text-align: right;\n",
       "    }\n",
       "</style>\n",
       "<table border=\"1\" class=\"dataframe\">\n",
       "  <thead>\n",
       "    <tr style=\"text-align: right;\">\n",
       "      <th></th>\n",
       "      <th>green</th>\n",
       "      <th>red</th>\n",
       "    </tr>\n",
       "  </thead>\n",
       "  <tbody>\n",
       "    <tr>\n",
       "      <th>1</th>\n",
       "      <td>1</td>\n",
       "      <td>0</td>\n",
       "    </tr>\n",
       "    <tr>\n",
       "      <th>2</th>\n",
       "      <td>0</td>\n",
       "      <td>0</td>\n",
       "    </tr>\n",
       "    <tr>\n",
       "      <th>13</th>\n",
       "      <td>0</td>\n",
       "      <td>0</td>\n",
       "    </tr>\n",
       "    <tr>\n",
       "      <th>16</th>\n",
       "      <td>0</td>\n",
       "      <td>1</td>\n",
       "    </tr>\n",
       "    <tr>\n",
       "      <th>19</th>\n",
       "      <td>0</td>\n",
       "      <td>1</td>\n",
       "    </tr>\n",
       "  </tbody>\n",
       "</table>\n",
       "</div>"
      ],
      "text/plain": [
       "    green  red\n",
       "1       1    0\n",
       "2       0    0\n",
       "13      0    0\n",
       "16      0    1\n",
       "19      0    1"
      ]
     },
     "execution_count": 21,
     "metadata": {},
     "output_type": "execute_result"
    }
   ],
   "source": [
    "# Have a look at the test data\n",
    "df_test_dummies.head()"
   ]
  },
  {
   "cell_type": "markdown",
   "metadata": {},
   "source": [
    "![orange-divider](https://user-images.githubusercontent.com/7065401/98619088-44ab6000-22e1-11eb-8f6d-5532e68ab274.png)\n",
    "\n",
    "## They match!\n",
    "\n",
    "You've successfully cleaned up labeling and created matching dummy columns for train and test!"
   ]
  },
  {
   "cell_type": "markdown",
   "metadata": {},
   "source": [
    "<div style=\"position: relative;\">\n",
    "<img src=\"https://user-images.githubusercontent.com/7065401/98729912-57be3e80-237a-11eb-80e4-233ac344b391.png\"></img>\n",
    "</div>"
   ]
  }
 ],
 "metadata": {
  "kernelspec": {
   "display_name": "Python 3",
   "language": "python",
   "name": "python3"
  },
  "language_info": {
   "codemirror_mode": {
    "name": "ipython",
    "version": 3
   },
   "file_extension": ".py",
   "mimetype": "text/x-python",
   "name": "python",
   "nbconvert_exporter": "python",
   "pygments_lexer": "ipython3",
   "version": "3.8.8"
  }
 },
 "nbformat": 4,
 "nbformat_minor": 4
}

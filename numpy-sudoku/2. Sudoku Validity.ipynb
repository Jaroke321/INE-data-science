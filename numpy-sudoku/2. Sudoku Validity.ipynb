{
 "cells": [
  {
   "cell_type": "markdown",
   "metadata": {},
   "source": [
    "# Numpy Project - Part 2: The Validity of a solution\n",
    "\n",
    "We'll reveal the true objective of this project: create an algorithm to solve sudokus! That'll be a ton of fun, but for now, we need to first nail down a few required functions.\n",
    "\n",
    "For this second part, we'll be trying to validate a board; if a proposed solution is valid or not. As you might know, the rules of Sudoku are straightforward: there are numbers 1-9 and they can't be repeated in either rows, columns or 3x3 blocks."
   ]
  },
  {
   "cell_type": "markdown",
   "metadata": {},
   "source": [
    "**IMPORTANT:** This 2nd part will use the `Board` class produced in Part 1. Make sure all the tests are passing."
   ]
  },
  {
   "cell_type": "code",
   "execution_count": 1,
   "metadata": {},
   "outputs": [],
   "source": [
    "import numpy as np\n",
    "import collections\n",
    "\n",
    "from sudoku import Board"
   ]
  },
  {
   "cell_type": "markdown",
   "metadata": {},
   "source": [
    "In this case, we'll use the following two sudoku boards. Our original one from part 1:\n",
    "\n",
    "<img src=\"https://user-images.githubusercontent.com/872296/68136001-49d21400-ff03-11e9-8750-acb846e23046.png\" width=\"600px\">"
   ]
  },
  {
   "cell_type": "code",
   "execution_count": 2,
   "metadata": {},
   "outputs": [],
   "source": [
    "arr_valid = np.array([\n",
    "    [0, 2, 0, 0, 8, 0, 0, 5, 0],\n",
    "    [4, 0, 0, 0, 0, 6, 8, 0, 0],\n",
    "    [6, 0, 0, 4, 5, 3, 9, 7, 0],\n",
    "    [0, 0, 0, 0, 0, 2, 0, 9, 0],\n",
    "    [0, 0, 4, 0, 0, 0, 6, 0, 0],\n",
    "    [0, 1, 0, 3, 0, 0, 0, 0, 0],\n",
    "    [0, 5, 7, 1, 3, 4, 0, 0, 9],\n",
    "    [0, 0, 9, 6, 0, 0, 0, 0, 5],\n",
    "    [0, 3, 0, 0, 2, 0, 0, 8, 0]])"
   ]
  },
  {
   "cell_type": "markdown",
   "metadata": {},
   "source": [
    "and an \"invalid\" one, that we've purposely invalidated to practice these functions. We've introduced 3 numbers that invalidate sudoku rules (marked in red):\n",
    "\n",
    "<img src=\"https://user-images.githubusercontent.com/872296/68214887-05a34a00-ffbd-11e9-9f6f-922b69599428.png\" width=\"600px\" align=\"center\">"
   ]
  },
  {
   "cell_type": "markdown",
   "metadata": {},
   "source": [
    "The number `5` added in the 2nd row, 2nd column invalidates the board because there's another number `5` in the same column. The number `8` invalidates as there's another `8` in the same block, and `4` is repeated in the same row."
   ]
  },
  {
   "cell_type": "code",
   "execution_count": 3,
   "metadata": {},
   "outputs": [],
   "source": [
    "arr_invalid = np.array([\n",
    "    [0, 2, 0, 0, 8, 0, 0, 5, 0],\n",
    "    [4, 5, 0, 0, 8, 6, 8, 0, 0],\n",
    "    [6, 0, 0, 4, 5, 3, 9, 7, 0],\n",
    "    [0, 0, 0, 0, 0, 2, 0, 9, 0],\n",
    "    [0, 0, 4, 0, 0, 0, 6, 4, 0],\n",
    "    [0, 1, 0, 3, 0, 0, 0, 0, 0],\n",
    "    [0, 5, 7, 1, 3, 4, 0, 0, 9],\n",
    "    [0, 0, 9, 6, 0, 0, 0, 0, 5],\n",
    "    [0, 3, 0, 0, 2, 0, 0, 8, 0]])"
   ]
  },
  {
   "cell_type": "markdown",
   "metadata": {},
   "source": [
    "Initializing now the boards objects:"
   ]
  },
  {
   "cell_type": "code",
   "execution_count": 4,
   "metadata": {},
   "outputs": [],
   "source": [
    "valid = Board(arr_valid)\n",
    "invalid = Board(arr_invalid)"
   ]
  },
  {
   "cell_type": "markdown",
   "metadata": {},
   "source": [
    "### Testing if a row, column or block is valid"
   ]
  },
  {
   "cell_type": "markdown",
   "metadata": {},
   "source": [
    "We'll write a function `is_subset_valid` that will receive either a row, column or block, and return if it's valid or not.\n",
    "\n",
    "##### a) Checking rows"
   ]
  },
  {
   "cell_type": "code",
   "execution_count": 5,
   "metadata": {},
   "outputs": [],
   "source": [
    "def is_subset_valid(arr):\n",
    "    clean_arr = arr[arr > 0]\n",
    "    arr_set = set(clean_arr)\n",
    "    if len(arr_set) == clean_arr.size:\n",
    "        return True\n",
    "    return False"
   ]
  },
  {
   "cell_type": "markdown",
   "metadata": {},
   "source": [
    "Let's test it with different things:"
   ]
  },
  {
   "cell_type": "code",
   "execution_count": 6,
   "metadata": {},
   "outputs": [
    {
     "data": {
      "text/plain": [
       "array([4, 0, 0, 0, 0, 6, 8, 0, 0])"
      ]
     },
     "execution_count": 6,
     "metadata": {},
     "output_type": "execute_result"
    }
   ],
   "source": [
    "valid_row = valid.get_row(1)\n",
    "valid_row"
   ]
  },
  {
   "cell_type": "code",
   "execution_count": 7,
   "metadata": {},
   "outputs": [],
   "source": [
    "assert is_subset_valid(valid_row) is True"
   ]
  },
  {
   "cell_type": "code",
   "execution_count": 8,
   "metadata": {},
   "outputs": [
    {
     "data": {
      "text/plain": [
       "array([0, 0, 4, 0, 0, 0, 6, 4, 0])"
      ]
     },
     "execution_count": 8,
     "metadata": {},
     "output_type": "execute_result"
    }
   ],
   "source": [
    "invalid_row = invalid.get_row(4)\n",
    "invalid_row  # Number 4 is repeated"
   ]
  },
  {
   "cell_type": "code",
   "execution_count": 9,
   "metadata": {},
   "outputs": [],
   "source": [
    "assert is_subset_valid(invalid_row) is False"
   ]
  },
  {
   "cell_type": "markdown",
   "metadata": {},
   "source": [
    "##### a) Checking columns"
   ]
  },
  {
   "cell_type": "code",
   "execution_count": 10,
   "metadata": {},
   "outputs": [
    {
     "data": {
      "text/plain": [
       "array([0, 0, 4, 0, 0, 3, 1, 6, 0])"
      ]
     },
     "execution_count": 10,
     "metadata": {},
     "output_type": "execute_result"
    }
   ],
   "source": [
    "valid_col = valid.get_column(3)\n",
    "valid_col"
   ]
  },
  {
   "cell_type": "code",
   "execution_count": 11,
   "metadata": {},
   "outputs": [],
   "source": [
    "assert is_subset_valid(valid_col) is True"
   ]
  },
  {
   "cell_type": "code",
   "execution_count": 12,
   "metadata": {},
   "outputs": [
    {
     "data": {
      "text/plain": [
       "array([2, 5, 0, 0, 0, 1, 5, 0, 3])"
      ]
     },
     "execution_count": 12,
     "metadata": {},
     "output_type": "execute_result"
    }
   ],
   "source": [
    "invalid_col = invalid.get_column(1)\n",
    "invalid_col  # Number 5 is repeated"
   ]
  },
  {
   "cell_type": "code",
   "execution_count": 13,
   "metadata": {},
   "outputs": [],
   "source": [
    "assert is_subset_valid(invalid_col) is False"
   ]
  },
  {
   "cell_type": "markdown",
   "metadata": {},
   "source": [
    "##### a) Checking blocks"
   ]
  },
  {
   "cell_type": "code",
   "execution_count": 14,
   "metadata": {},
   "outputs": [
    {
     "data": {
      "text/plain": [
       "array([[0, 8, 0],\n",
       "       [0, 0, 6],\n",
       "       [4, 5, 3]])"
      ]
     },
     "execution_count": 14,
     "metadata": {},
     "output_type": "execute_result"
    }
   ],
   "source": [
    "valid_block = valid.get_block(0, 1)\n",
    "valid_block"
   ]
  },
  {
   "cell_type": "code",
   "execution_count": 15,
   "metadata": {},
   "outputs": [],
   "source": [
    "assert is_subset_valid(valid_block) is True"
   ]
  },
  {
   "cell_type": "code",
   "execution_count": 16,
   "metadata": {},
   "outputs": [
    {
     "data": {
      "text/plain": [
       "array([[0, 8, 0],\n",
       "       [0, 8, 6],\n",
       "       [4, 5, 3]])"
      ]
     },
     "execution_count": 16,
     "metadata": {},
     "output_type": "execute_result"
    }
   ],
   "source": [
    "invalid_block = invalid.get_block(0, 1)\n",
    "invalid_block  # Number 8 is repeated"
   ]
  },
  {
   "cell_type": "code",
   "execution_count": 17,
   "metadata": {},
   "outputs": [],
   "source": [
    "assert is_subset_valid(invalid_block) is False"
   ]
  },
  {
   "cell_type": "markdown",
   "metadata": {},
   "source": [
    "### Testing a valid board\n",
    "\n",
    "We can now move forward to our `is_valid` function, that will receive a `Board` and will check if it's valid or not."
   ]
  },
  {
   "cell_type": "code",
   "execution_count": 18,
   "metadata": {},
   "outputs": [],
   "source": [
    "def is_valid(board):\n",
    "    \n",
    "    tests = list() # Holds all of the True and False values of the tests being run\n",
    "    \n",
    "    # Test all rows \n",
    "    for row in board.iter_rows():\n",
    "        tests.append(is_subset_valid(row))\n",
    "    \n",
    "    # Test all columns\n",
    "    for col in board.iter_columns():\n",
    "        tests.append(is_subset_valid(col))\n",
    "        \n",
    "    # Test all Blocks\n",
    "    for block in board.iter_blocks():\n",
    "        tests.append(is_subset_valid(block))\n",
    "        \n",
    "    # Return True if all values in tests are True, False otherwise\n",
    "    return all(tests)"
   ]
  },
  {
   "cell_type": "markdown",
   "metadata": {},
   "source": [
    "And now we can test it:"
   ]
  },
  {
   "cell_type": "code",
   "execution_count": 19,
   "metadata": {},
   "outputs": [],
   "source": [
    "assert is_valid(valid) is True"
   ]
  },
  {
   "cell_type": "code",
   "execution_count": 20,
   "metadata": {},
   "outputs": [],
   "source": [
    "assert is_valid(invalid) is False"
   ]
  },
  {
   "cell_type": "markdown",
   "metadata": {},
   "source": [
    "## Time to test!\n",
    "\n",
    "Now it's time to move your code to `sudoku.py` and then run all the tests; if they're passing, you can move to the next step!"
   ]
  },
  {
   "cell_type": "code",
   "execution_count": null,
   "metadata": {},
   "outputs": [],
   "source": [
    "!py.test test_part_2.py"
   ]
  }
 ],
 "metadata": {
  "kernelspec": {
   "display_name": "Python 3",
   "language": "python",
   "name": "python3"
  },
  "language_info": {
   "codemirror_mode": {
    "name": "ipython",
    "version": 3
   },
   "file_extension": ".py",
   "mimetype": "text/x-python",
   "name": "python",
   "nbconvert_exporter": "python",
   "pygments_lexer": "ipython3",
   "version": "3.8.8"
  }
 },
 "nbformat": 4,
 "nbformat_minor": 4
}

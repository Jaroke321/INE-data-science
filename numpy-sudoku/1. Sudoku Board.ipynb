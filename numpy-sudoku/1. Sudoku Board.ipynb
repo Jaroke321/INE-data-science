{
 "cells": [
  {
   "cell_type": "markdown",
   "metadata": {},
   "source": [
    "# Numpy Project - Part 1: The Sudoku Board\n",
    "\n",
    "This is the first part of our Numpy project. This project is about playing Sudoku with Numpy. Sounds like fun, right? 😃\n",
    "\n",
    "This first part will focus on array creation and the structure of the game: the board."
   ]
  },
  {
   "cell_type": "code",
   "execution_count": 1,
   "metadata": {},
   "outputs": [],
   "source": [
    "import numpy as np"
   ]
  },
  {
   "cell_type": "markdown",
   "metadata": {},
   "source": [
    "We'll use the following board as an example:"
   ]
  },
  {
   "cell_type": "markdown",
   "metadata": {},
   "source": [
    "<img src=\"https://user-images.githubusercontent.com/872296/68136001-49d21400-ff03-11e9-8750-acb846e23046.png\" width=\"600px\">"
   ]
  },
  {
   "cell_type": "markdown",
   "metadata": {},
   "source": [
    "We'll create boards from strings, as follows:"
   ]
  },
  {
   "cell_type": "code",
   "execution_count": 2,
   "metadata": {},
   "outputs": [],
   "source": [
    "puzzle_str = \"\"\"\n",
    "020080050\n",
    "400006800\n",
    "600453970\n",
    "000002090\n",
    "004000600\n",
    "010300000\n",
    "057134009\n",
    "009600005\n",
    "030020080\n",
    "\"\"\""
   ]
  },
  {
   "cell_type": "markdown",
   "metadata": {},
   "source": [
    "This is already solved, there's nothing to do here, but if you have a second, please try reading and understanding what this line does:"
   ]
  },
  {
   "cell_type": "code",
   "execution_count": 3,
   "metadata": {},
   "outputs": [
    {
     "data": {
      "text/plain": [
       "[['0', '2', '0', '0', '8', '0', '0', '5', '0'],\n",
       " ['4', '0', '0', '0', '0', '6', '8', '0', '0'],\n",
       " ['6', '0', '0', '4', '5', '3', '9', '7', '0'],\n",
       " ['0', '0', '0', '0', '0', '2', '0', '9', '0'],\n",
       " ['0', '0', '4', '0', '0', '0', '6', '0', '0'],\n",
       " ['0', '1', '0', '3', '0', '0', '0', '0', '0'],\n",
       " ['0', '5', '7', '1', '3', '4', '0', '0', '9'],\n",
       " ['0', '0', '9', '6', '0', '0', '0', '0', '5'],\n",
       " ['0', '3', '0', '0', '2', '0', '0', '8', '0']]"
      ]
     },
     "execution_count": 3,
     "metadata": {},
     "output_type": "execute_result"
    }
   ],
   "source": [
    "[list(line.strip()) for line in puzzle_str.split('\\n') if line.strip()]"
   ]
  },
  {
   "cell_type": "markdown",
   "metadata": {},
   "source": [
    "As any meaningful code we create and find useful, we'll try refactoring it into its own reusable function:"
   ]
  },
  {
   "cell_type": "code",
   "execution_count": 4,
   "metadata": {},
   "outputs": [],
   "source": [
    "def string_puzzle_to_arr(puzzle):\n",
    "    return np.array([list(line.strip()) for line in puzzle.split('\\n') if line.strip()], dtype=int)"
   ]
  },
  {
   "cell_type": "code",
   "execution_count": 5,
   "metadata": {},
   "outputs": [
    {
     "data": {
      "text/plain": [
       "array([[0, 2, 0, 0, 8, 0, 0, 5, 0],\n",
       "       [4, 0, 0, 0, 0, 6, 8, 0, 0],\n",
       "       [6, 0, 0, 4, 5, 3, 9, 7, 0],\n",
       "       [0, 0, 0, 0, 0, 2, 0, 9, 0],\n",
       "       [0, 0, 4, 0, 0, 0, 6, 0, 0],\n",
       "       [0, 1, 0, 3, 0, 0, 0, 0, 0],\n",
       "       [0, 5, 7, 1, 3, 4, 0, 0, 9],\n",
       "       [0, 0, 9, 6, 0, 0, 0, 0, 5],\n",
       "       [0, 3, 0, 0, 2, 0, 0, 8, 0]])"
      ]
     },
     "execution_count": 5,
     "metadata": {},
     "output_type": "execute_result"
    }
   ],
   "source": [
    "puzzle = string_puzzle_to_arr(puzzle_str)\n",
    "puzzle"
   ]
  },
  {
   "cell_type": "markdown",
   "metadata": {},
   "source": [
    "👆 you can use this `puzzle` variable to practice before moving to the actual assignment:\n",
    "* get rows\n",
    "* get columns\n",
    "* get _blocks_ (3x3 squares)\n"
   ]
  },
  {
   "cell_type": "markdown",
   "metadata": {},
   "source": [
    "<img width=\"452\" src=\"https://user-images.githubusercontent.com/872296/68136806-a3870e00-ff04-11e9-87d4-489485501fa3.png\">"
   ]
  },
  {
   "cell_type": "markdown",
   "metadata": {},
   "source": [
    "#### Getting a row\n",
    "\n",
    "Rows and columns are 0-indexed, as other Python collections. That means that the _third_ row (or column) is actually index `2`. Practice here how to get the row with index `2`, you should get: "
   ]
  },
  {
   "cell_type": "code",
   "execution_count": 6,
   "metadata": {},
   "outputs": [],
   "source": [
    "third_row = puzzle[2]"
   ]
  },
  {
   "cell_type": "markdown",
   "metadata": {},
   "source": [
    "expected:"
   ]
  },
  {
   "cell_type": "code",
   "execution_count": 7,
   "metadata": {},
   "outputs": [],
   "source": [
    "assert np.array_equal(third_row, np.array([6, 0, 0, 4, 5, 3, 9, 7, 0]))"
   ]
  },
  {
   "cell_type": "markdown",
   "metadata": {},
   "source": [
    "#### Getting a column\n",
    "\n",
    "Columns are also 0-indexed. Practice here how to get the _5th_ column, which is index `4`, you should get:"
   ]
  },
  {
   "cell_type": "code",
   "execution_count": 8,
   "metadata": {},
   "outputs": [],
   "source": [
    "fifth_col = puzzle[:, 4]"
   ]
  },
  {
   "cell_type": "code",
   "execution_count": 9,
   "metadata": {},
   "outputs": [],
   "source": [
    "assert np.array_equal(fifth_col, np.array([8, 0, 5, 0, 0, 0, 3, 0, 2]))"
   ]
  },
  {
   "cell_type": "markdown",
   "metadata": {},
   "source": [
    "#### Getting a column\n",
    "\n",
    "Blocks are 3x3 squares with 9 numbers, which by sudoku rules, can't contain repeated numbers, refresher image again:"
   ]
  },
  {
   "cell_type": "markdown",
   "metadata": {},
   "source": [
    "<img width=\"452\" src=\"https://user-images.githubusercontent.com/872296/68136806-a3870e00-ff04-11e9-87d4-489485501fa3.png\">"
   ]
  },
  {
   "cell_type": "markdown",
   "metadata": {},
   "source": [
    "We'll be referencing blocks by 2 indices, the first one vertically (top-bottom), the second one horizontally (left-right).\n",
    "\n",
    "The special characteristic of a block, is that it'll be a matrix, not a vector (2 dimensional, 3x3 matrix)."
   ]
  },
  {
   "cell_type": "markdown",
   "metadata": {},
   "source": [
    "For example, block `(2, 2)` is:"
   ]
  },
  {
   "cell_type": "code",
   "execution_count": 10,
   "metadata": {},
   "outputs": [
    {
     "data": {
      "text/plain": [
       "array([[0, 0, 9],\n",
       "       [0, 0, 5],\n",
       "       [0, 8, 0]])"
      ]
     },
     "execution_count": 10,
     "metadata": {},
     "output_type": "execute_result"
    }
   ],
   "source": [
    "np.array([\n",
    "    [0, 0, 9],\n",
    "    [0, 0, 5],\n",
    "    [0, 8, 0]\n",
    "])"
   ]
  },
  {
   "cell_type": "markdown",
   "metadata": {},
   "source": [
    "And block `(0, 1)` is:"
   ]
  },
  {
   "cell_type": "code",
   "execution_count": 11,
   "metadata": {},
   "outputs": [
    {
     "data": {
      "text/plain": [
       "array([[0, 8, 0],\n",
       "       [0, 0, 6],\n",
       "       [4, 5, 3]])"
      ]
     },
     "execution_count": 11,
     "metadata": {},
     "output_type": "execute_result"
    }
   ],
   "source": [
    "np.array([\n",
    "    [0, 8, 0],\n",
    "    [0, 0, 6],\n",
    "    [4, 5, 3]\n",
    "])"
   ]
  },
  {
   "cell_type": "markdown",
   "metadata": {},
   "source": [
    "Time to practice, your task is to extract the block `(1, 2)`:"
   ]
  },
  {
   "cell_type": "code",
   "execution_count": 12,
   "metadata": {},
   "outputs": [
    {
     "data": {
      "text/plain": [
       "array([[0, 9, 0],\n",
       "       [6, 0, 0],\n",
       "       [0, 0, 0]])"
      ]
     },
     "execution_count": 12,
     "metadata": {},
     "output_type": "execute_result"
    }
   ],
   "source": [
    "block_1_2 = puzzle[3:6, 6:]\n",
    "block_1_2"
   ]
  },
  {
   "cell_type": "code",
   "execution_count": 13,
   "metadata": {},
   "outputs": [],
   "source": [
    "expected_block = np.array([\n",
    "    [0, 9, 0],\n",
    "    [6, 0, 0],\n",
    "    [0, 0, 0]\n",
    "])"
   ]
  },
  {
   "cell_type": "code",
   "execution_count": 14,
   "metadata": {},
   "outputs": [],
   "source": [
    "assert np.array_equal(block_1_2, expected_block)"
   ]
  },
  {
   "cell_type": "markdown",
   "metadata": {},
   "source": [
    "### Iterating the board\n",
    "\n",
    "We'll implement now 3 methods that will be useful later:\n",
    "\n",
    "* `iter_rows()`\n",
    "* `iter_columns()`\n",
    "* `iter_blocks()`\n",
    "\n",
    "These methods are extremely simple, they'll just return a list of all the rows/columns/blocks to be used later. For example, I'll start providing the code to iterate all the rows in the board:"
   ]
  },
  {
   "cell_type": "code",
   "execution_count": 15,
   "metadata": {},
   "outputs": [
    {
     "name": "stdout",
     "output_type": "stream",
     "text": [
      "Row: [0 2 0 0 8 0 0 5 0]\n",
      "Row: [4 0 0 0 0 6 8 0 0]\n",
      "Row: [6 0 0 4 5 3 9 7 0]\n",
      "Row: [0 0 0 0 0 2 0 9 0]\n",
      "Row: [0 0 4 0 0 0 6 0 0]\n",
      "Row: [0 1 0 3 0 0 0 0 0]\n",
      "Row: [0 5 7 1 3 4 0 0 9]\n",
      "Row: [0 0 9 6 0 0 0 0 5]\n",
      "Row: [0 3 0 0 2 0 0 8 0]\n"
     ]
    }
   ],
   "source": [
    "for row in puzzle:\n",
    "    print(f\"Row: {row}\")"
   ]
  },
  {
   "cell_type": "markdown",
   "metadata": {},
   "source": [
    "Now it's your turn:\n",
    "\n",
    "##### a) Iterate over the columns:"
   ]
  },
  {
   "cell_type": "code",
   "execution_count": 16,
   "metadata": {},
   "outputs": [
    {
     "name": "stdout",
     "output_type": "stream",
     "text": [
      "Column: [0 4 6 0 0 0 0 0 0]\n",
      "Column: [2 0 0 0 0 1 5 0 3]\n",
      "Column: [0 0 0 0 4 0 7 9 0]\n",
      "Column: [0 0 4 0 0 3 1 6 0]\n",
      "Column: [8 0 5 0 0 0 3 0 2]\n",
      "Column: [0 6 3 2 0 0 4 0 0]\n",
      "Column: [0 8 9 0 6 0 0 0 0]\n",
      "Column: [5 0 7 9 0 0 0 0 8]\n",
      "Column: [0 0 0 0 0 0 9 5 0]\n"
     ]
    }
   ],
   "source": [
    "# Your Solution\n",
    "for i in range(puzzle.shape[1]):\n",
    "    print(f\"Column: {puzzle[:, i]}\")"
   ]
  },
  {
   "cell_type": "markdown",
   "metadata": {},
   "source": [
    "##### b) Iterate over the blocks:"
   ]
  },
  {
   "cell_type": "code",
   "execution_count": 17,
   "metadata": {},
   "outputs": [
    {
     "name": "stdout",
     "output_type": "stream",
     "text": [
      "\n",
      "Block 0:\n",
      " [[0 2 0]\n",
      " [4 0 0]\n",
      " [6 0 0]]\n",
      "\n",
      "Block 1:\n",
      " [[0 8 0]\n",
      " [0 0 6]\n",
      " [4 5 3]]\n",
      "\n",
      "Block 2:\n",
      " [[0 5 0]\n",
      " [8 0 0]\n",
      " [9 7 0]]\n",
      "\n",
      "Block 3:\n",
      " [[0 0 0]\n",
      " [0 0 4]\n",
      " [0 1 0]]\n",
      "\n",
      "Block 4:\n",
      " [[0 0 2]\n",
      " [0 0 0]\n",
      " [3 0 0]]\n",
      "\n",
      "Block 5:\n",
      " [[0 9 0]\n",
      " [6 0 0]\n",
      " [0 0 0]]\n",
      "\n",
      "Block 6:\n",
      " [[0 5 7]\n",
      " [0 0 9]\n",
      " [0 3 0]]\n",
      "\n",
      "Block 7:\n",
      " [[1 3 4]\n",
      " [6 0 0]\n",
      " [0 2 0]]\n",
      "\n",
      "Block 8:\n",
      " [[0 0 9]\n",
      " [0 0 5]\n",
      " [0 8 0]]\n"
     ]
    }
   ],
   "source": [
    "# Your Solution\n",
    "count = 0\n",
    "for i in range(3):\n",
    "    for j in range(3):\n",
    "        \n",
    "        r_start = i * 3\n",
    "        r_end = r_start + 3\n",
    "        c_start = j * 3\n",
    "        c_end = c_start + 3\n",
    "        \n",
    "        block = puzzle[r_start:r_end, c_start:c_end]\n",
    "        \n",
    "        print(f\"\\nBlock {count}:\\n {block}\")\n",
    "        count += 1"
   ]
  },
  {
   "cell_type": "markdown",
   "metadata": {},
   "source": [
    "## Time to test your code\n",
    "\n",
    "It's finally time to test your code. We'll use an OOP approach for our board. Here you'll find the `Board` class with empty methods. We'll provide some tests in the notebook, but your job will be to move your `Board` class to the file `sudoku.py` once it's ready. Let's get started:"
   ]
  },
  {
   "cell_type": "code",
   "execution_count": 93,
   "metadata": {},
   "outputs": [],
   "source": [
    "# Fill the methods here\n",
    "\n",
    "class Board:\n",
    "    def __init__(self, puzzle):\n",
    "        \n",
    "        # Check if the incoming puzzle is string\n",
    "        if isinstance(puzzle, str):\n",
    "            rows = [ list(r.strip()) for r in puzzle.split('\\n') if r.strip() ]\n",
    "            self.arr = np.array(rows, dtype=int)\n",
    "        else:\n",
    "            self.arr = puzzle\n",
    "        \n",
    "    def get_row(self, row_index):\n",
    "        return self.arr[row_index]\n",
    "\n",
    "    def get_column(self, col_index):\n",
    "        return self.arr[:, col_index]\n",
    "    \n",
    "    def get_block(self, pos_1, pos_2):\n",
    "        \n",
    "        r_start = pos_1 * 3\n",
    "        r_end = r_start + 3\n",
    "        \n",
    "        c_start = pos_2 * 3\n",
    "        c_end = c_start + 3\n",
    "        \n",
    "        return self.arr[r_start:r_end, c_start:c_end]\n",
    "    \n",
    "    def iter_rows(self):\n",
    "        final = list()\n",
    "        for row in self.arr:\n",
    "            final.append(row)\n",
    "            \n",
    "        return final\n",
    "            \n",
    "    \n",
    "    def iter_columns(self):\n",
    "        final = list()\n",
    "        \n",
    "        for i in range(self.arr.shape[1]):\n",
    "            final.append(self.get_column(i))\n",
    "            \n",
    "        return final\n",
    "    \n",
    "    def iter_blocks(self):\n",
    "        \n",
    "        final = list()\n",
    "        \n",
    "        for i in range(3):\n",
    "            for j in range(3):\n",
    "                \n",
    "                final.append(self.get_block(i, j))\n",
    "        \n",
    "        return final"
   ]
  },
  {
   "cell_type": "markdown",
   "metadata": {},
   "source": [
    "##### 1) Test: creating boards\n",
    "\n",
    "There are two ways of creating `Board`s: 1) from strings 2) from other Numpy arrays. Let's test that they both work:"
   ]
  },
  {
   "cell_type": "code",
   "execution_count": 94,
   "metadata": {},
   "outputs": [],
   "source": [
    "puzzle_str = \"\"\"\n",
    "020080050\n",
    "400006800\n",
    "600453970\n",
    "000002090\n",
    "004000600\n",
    "010300000\n",
    "057134009\n",
    "009600005\n",
    "030020080\n",
    "\"\"\""
   ]
  },
  {
   "cell_type": "code",
   "execution_count": 95,
   "metadata": {},
   "outputs": [
    {
     "data": {
      "text/plain": [
       "[array([0, 2, 0, 0, 8, 0, 0, 5, 0]),\n",
       " array([4, 0, 0, 0, 0, 6, 8, 0, 0]),\n",
       " array([6, 0, 0, 4, 5, 3, 9, 7, 0]),\n",
       " array([0, 0, 0, 0, 0, 2, 0, 9, 0]),\n",
       " array([0, 0, 4, 0, 0, 0, 6, 0, 0]),\n",
       " array([0, 1, 0, 3, 0, 0, 0, 0, 0]),\n",
       " array([0, 5, 7, 1, 3, 4, 0, 0, 9]),\n",
       " array([0, 0, 9, 6, 0, 0, 0, 0, 5]),\n",
       " array([0, 3, 0, 0, 2, 0, 0, 8, 0])]"
      ]
     },
     "execution_count": 95,
     "metadata": {},
     "output_type": "execute_result"
    }
   ],
   "source": [
    "board = Board(puzzle_str)\n",
    "g = board.iter_rows()\n",
    "g"
   ]
  },
  {
   "cell_type": "code",
   "execution_count": 96,
   "metadata": {},
   "outputs": [],
   "source": [
    "expected = np.array([\n",
    "    [0, 2, 0, 0, 8, 0, 0, 5, 0],\n",
    "    [4, 0, 0, 0, 0, 6, 8, 0, 0],\n",
    "    [6, 0, 0, 4, 5, 3, 9, 7, 0],\n",
    "    [0, 0, 0, 0, 0, 2, 0, 9, 0],\n",
    "    [0, 0, 4, 0, 0, 0, 6, 0, 0],\n",
    "    [0, 1, 0, 3, 0, 0, 0, 0, 0],\n",
    "    [0, 5, 7, 1, 3, 4, 0, 0, 9],\n",
    "    [0, 0, 9, 6, 0, 0, 0, 0, 5],\n",
    "    [0, 3, 0, 0, 2, 0, 0, 8, 0]\n",
    "])"
   ]
  },
  {
   "cell_type": "code",
   "execution_count": 97,
   "metadata": {},
   "outputs": [],
   "source": [
    "assert np.array_equal(board.arr, expected)"
   ]
  },
  {
   "cell_type": "code",
   "execution_count": 98,
   "metadata": {},
   "outputs": [],
   "source": [
    "board = Board(np.array([\n",
    "    [0, 2, 0, 0, 8, 0, 0, 5, 0],\n",
    "    [4, 0, 0, 0, 0, 6, 8, 0, 0],\n",
    "    [6, 0, 0, 4, 5, 3, 9, 7, 0],\n",
    "    [0, 0, 0, 0, 0, 2, 0, 9, 0],\n",
    "    [0, 0, 4, 0, 0, 0, 6, 0, 0],\n",
    "    [0, 1, 0, 3, 0, 0, 0, 0, 0],\n",
    "    [0, 5, 7, 1, 3, 4, 0, 0, 9],\n",
    "    [0, 0, 9, 6, 0, 0, 0, 0, 5],\n",
    "    [0, 3, 0, 0, 2, 0, 0, 8, 0]\n",
    "]))"
   ]
  },
  {
   "cell_type": "code",
   "execution_count": 99,
   "metadata": {},
   "outputs": [],
   "source": [
    "assert np.array_equal(board.arr, expected)"
   ]
  },
  {
   "cell_type": "markdown",
   "metadata": {},
   "source": [
    "##### 2) Test: get rows"
   ]
  },
  {
   "cell_type": "code",
   "execution_count": 100,
   "metadata": {},
   "outputs": [],
   "source": [
    "board = Board(puzzle_str)"
   ]
  },
  {
   "cell_type": "code",
   "execution_count": 101,
   "metadata": {},
   "outputs": [],
   "source": [
    "assert np.array_equal(board.get_row(2), np.array([6, 0, 0, 4, 5, 3, 9, 7, 0]))"
   ]
  },
  {
   "cell_type": "markdown",
   "metadata": {},
   "source": [
    "##### 3) Test: get columns"
   ]
  },
  {
   "cell_type": "code",
   "execution_count": 102,
   "metadata": {},
   "outputs": [],
   "source": [
    "assert np.array_equal(board.get_column(4), np.array([8, 0, 5, 0, 0, 0, 3, 0, 2]))"
   ]
  },
  {
   "cell_type": "code",
   "execution_count": 103,
   "metadata": {},
   "outputs": [
    {
     "data": {
      "text/plain": [
       "array([[0, 9, 0],\n",
       "       [6, 0, 0],\n",
       "       [0, 0, 0]])"
      ]
     },
     "execution_count": 103,
     "metadata": {},
     "output_type": "execute_result"
    }
   ],
   "source": [
    "a = board.get_block(1,2)\n",
    "a"
   ]
  },
  {
   "cell_type": "markdown",
   "metadata": {},
   "source": [
    "##### 4) Test: get blocks"
   ]
  },
  {
   "cell_type": "code",
   "execution_count": 104,
   "metadata": {},
   "outputs": [],
   "source": [
    "assert np.array_equal(board.get_block(1, 2), np.array([\n",
    "    [0, 9, 0],\n",
    "    [6, 0, 0],\n",
    "    [0, 0, 0]   \n",
    "]))"
   ]
  },
  {
   "cell_type": "code",
   "execution_count": 105,
   "metadata": {},
   "outputs": [],
   "source": [
    "assert np.array_equal(board.get_block(2, 2), np.array([\n",
    "    [0, 0, 9],\n",
    "    [0, 0, 5],\n",
    "    [0, 8, 0]\n",
    "]))"
   ]
  },
  {
   "cell_type": "markdown",
   "metadata": {},
   "source": [
    "##### 5) Test: iter_rows()"
   ]
  },
  {
   "cell_type": "code",
   "execution_count": 106,
   "metadata": {},
   "outputs": [],
   "source": [
    "assert np.array_equal(np.array(board.iter_rows()), np.array([\n",
    " np.array([0, 2, 0, 0, 8, 0, 0, 5, 0]),\n",
    " np.array([4, 0, 0, 0, 0, 6, 8, 0, 0]),\n",
    " np.array([6, 0, 0, 4, 5, 3, 9, 7, 0]),\n",
    " np.array([0, 0, 0, 0, 0, 2, 0, 9, 0]),\n",
    " np.array([0, 0, 4, 0, 0, 0, 6, 0, 0]),\n",
    " np.array([0, 1, 0, 3, 0, 0, 0, 0, 0]),\n",
    " np.array([0, 5, 7, 1, 3, 4, 0, 0, 9]),\n",
    " np.array([0, 0, 9, 6, 0, 0, 0, 0, 5]),\n",
    " np.array([0, 3, 0, 0, 2, 0, 0, 8, 0])]))"
   ]
  },
  {
   "cell_type": "markdown",
   "metadata": {},
   "source": [
    "##### 6) Test: iter_columns()"
   ]
  },
  {
   "cell_type": "code",
   "execution_count": 107,
   "metadata": {},
   "outputs": [],
   "source": [
    "assert np.array_equal(np.array(board.iter_columns()), np.array([\n",
    " np.array([0, 4, 6, 0, 0, 0, 0, 0, 0]),\n",
    " np.array([2, 0, 0, 0, 0, 1, 5, 0, 3]),\n",
    " np.array([0, 0, 0, 0, 4, 0, 7, 9, 0]),\n",
    " np.array([0, 0, 4, 0, 0, 3, 1, 6, 0]),\n",
    " np.array([8, 0, 5, 0, 0, 0, 3, 0, 2]),\n",
    " np.array([0, 6, 3, 2, 0, 0, 4, 0, 0]),\n",
    " np.array([0, 8, 9, 0, 6, 0, 0, 0, 0]),\n",
    " np.array([5, 0, 7, 9, 0, 0, 0, 0, 8]),\n",
    " np.array([0, 0, 0, 0, 0, 0, 9, 5, 0])]))"
   ]
  },
  {
   "cell_type": "markdown",
   "metadata": {},
   "source": [
    "## Ready to move on?\n",
    "\n",
    "Now copy your `Board` class into the file `sudoku.py`, we'll be using it in our next steps. Once you're ready, you can try running the tests using:\n"
   ]
  },
  {
   "cell_type": "code",
   "execution_count": 109,
   "metadata": {},
   "outputs": [
    {
     "name": "stdout",
     "output_type": "stream",
     "text": [
      "============================= test session starts =============================\n",
      "platform win32 -- Python 3.8.8, pytest-6.2.3, py-1.10.0, pluggy-0.13.1\n",
      "rootdir: C:\\Users\\Jacob\\data_science\\NPY-sudoku-solver-numpy\n",
      "plugins: anyio-2.2.0\n",
      "collected 8 items\n",
      "\n",
      "test_part_1.py ........                                                  [100%]\n",
      "\n",
      "============================== warnings summary ===============================\n",
      "..\\..\\anaconda3\\lib\\site-packages\\pyreadline\\py3k_compat.py:8\n",
      "  C:\\Users\\Jacob\\anaconda3\\lib\\site-packages\\pyreadline\\py3k_compat.py:8: DeprecationWarning: Using or importing the ABCs from 'collections' instead of from 'collections.abc' is deprecated since Python 3.3, and in 3.9 it will stop working\n",
      "    return isinstance(x, collections.Callable)\n",
      "\n",
      "-- Docs: https://docs.pytest.org/en/stable/warnings.html\n",
      "======================== 8 passed, 1 warning in 0.13s =========================\n"
     ]
    }
   ],
   "source": [
    "!py.test test_part_1.py"
   ]
  },
  {
   "cell_type": "markdown",
   "metadata": {},
   "source": [
    "Now head to Part 2! `2. Sudoku Validity.ipynb`."
   ]
  }
 ],
 "metadata": {
  "kernelspec": {
   "display_name": "Python 3",
   "language": "python",
   "name": "python3"
  },
  "language_info": {
   "codemirror_mode": {
    "name": "ipython",
    "version": 3
   },
   "file_extension": ".py",
   "mimetype": "text/x-python",
   "name": "python",
   "nbconvert_exporter": "python",
   "pygments_lexer": "ipython3",
   "version": "3.8.8"
  }
 },
 "nbformat": 4,
 "nbformat_minor": 4
}

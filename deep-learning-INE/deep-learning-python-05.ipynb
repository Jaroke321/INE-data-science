{
 "cells": [
  {
   "cell_type": "markdown",
   "metadata": {},
   "source": [
    "# Build an MNIST digit recognition system\n",
    "## the \"hello world\"  of deep learning\n",
    "\n",
    "In this notebook you will build a deep learning network that performs digit recognition on handwritten digits.\n",
    "We will use the famous MNIST dataset, which will be automatically downloaded for you.\n",
    "If you want to check out any info on MNIST visit, this page here\n",
    "\n",
    "http://yann.lecun.com/exdb/mnist/\n",
    "\n",
    "In this notebook, I will import things as we use them, this is not \"best\" practice for programming, but I like it for teaching reasons."
   ]
  },
  {
   "cell_type": "code",
   "execution_count": 2,
   "metadata": {},
   "outputs": [],
   "source": [
    "# get the MNIST data functions\n",
    "# matplotlib for plotting\n",
    "from keras.datasets import mnist\n",
    "import matplotlib.pyplot as plt\n",
    "%matplotlib inline"
   ]
  },
  {
   "cell_type": "markdown",
   "metadata": {},
   "source": [
    "### Load the MNIST dataset.\n",
    "\n",
    "Keras has a built in function which will automatically load the MNIST dataset.  When you run it, it will check if you have the MNIST dataset downloaded and will proceed to download it if you don't have it.\n",
    "\n",
    "The `load_data()` function automatically sends back 4 different objects.  Don't worry too much about why it's 4 right now, just understand we're creating 4 objects.\n",
    "\n",
    "`train_images`\n",
    "`train_labels`\n",
    "`test_images`\n",
    "`test_labels`"
   ]
  },
  {
   "cell_type": "code",
   "execution_count": 3,
   "metadata": {},
   "outputs": [
    {
     "name": "stdout",
     "output_type": "stream",
     "text": [
      "Downloading data from https://storage.googleapis.com/tensorflow/tf-keras-datasets/mnist.npz\n",
      "11493376/11490434 [==============================] - 2s 0us/step\n"
     ]
    }
   ],
   "source": [
    "## mnist.load_data() will automatically download the dataset if you don't have it\n",
    "(train_images, train_labels), (test_images, test_labels) = mnist.load_data()"
   ]
  },
  {
   "cell_type": "markdown",
   "metadata": {},
   "source": [
    "### Plot the first 20 datapoints, with their labels"
   ]
  },
  {
   "cell_type": "code",
   "execution_count": 12,
   "metadata": {},
   "outputs": [
    {
     "data": {
      "image/png": "[encoded data removed]",
      "text/plain": [
       "<Figure size 1008x144 with 20 Axes>"
      ]
     },
     "metadata": {},
     "output_type": "display_data"
    }
   ],
   "source": [
    "fig, axes = plt.subplots(2, 10, figsize=(14, 2))\n",
    "\n",
    "for i, ax in enumerate(axes.flat):\n",
    "    ax.imshow(train_images[i], cmap='binary', interpolation='nearest')\n",
    "    ax.text(0.05, 0.05, str(train_labels[i]),\n",
    "            transform=ax.transAxes, color='green')\n",
    "    ax.set_xticks([])\n",
    "    ax.set_yticks([])"
   ]
  },
  {
   "cell_type": "code",
   "execution_count": 5,
   "metadata": {},
   "outputs": [
    {
     "data": {
      "text/plain": [
       "(28, 28)"
      ]
     },
     "execution_count": 5,
     "metadata": {},
     "output_type": "execute_result"
    }
   ],
   "source": [
    "train_images[0].shape"
   ]
  },
  {
   "cell_type": "markdown",
   "metadata": {},
   "source": [
    "# Build the architecture of the network"
   ]
  },
  {
   "cell_type": "code",
   "execution_count": 6,
   "metadata": {},
   "outputs": [],
   "source": [
    "from keras import models\n",
    "from keras import layers"
   ]
  },
  {
   "cell_type": "code",
   "execution_count": 7,
   "metadata": {},
   "outputs": [
    {
     "data": {
      "text/plain": [
       "784"
      ]
     },
     "execution_count": 7,
     "metadata": {},
     "output_type": "execute_result"
    }
   ],
   "source": [
    "28 * 28"
   ]
  },
  {
   "cell_type": "code",
   "execution_count": 13,
   "metadata": {},
   "outputs": [],
   "source": [
    "network = models.Sequential() #we'll stick to sequential for this course\n",
    "\n",
    "network.add(layers.Dense(512, activation='relu', input_shape=(784,)))  # Dense is the same as fully connected.\n",
    "network.add(layers.Dense(10, activation='softmax'))"
   ]
  },
  {
   "cell_type": "markdown",
   "metadata": {},
   "source": [
    "## The options\n",
    "\n",
    "**`Sequential`** means what it sounds like, things go in order. We can do other more complicated things, but for this course everything will be sequential\n",
    "\n",
    "**`Dense`** is the same as fully connected. It's basically direct matrix multiplication, everything gets multiplied by everything else.\n",
    "\n",
    "**`relu`** is a kind of activation function, more on those later\n",
    "\n",
    "**`softmax`** is another activation function.\n",
    "\n",
    "The first integer we pass `512` refers to how **wide** we want our first layer to be.  We are asking for 512 units wide.  The second layer (also happens to be our output layer) is 10 units wide.  This makes sense, because we want the output to have 10 options (one for each possible digit).\n",
    "\n",
    "The first layer requires us to specify the input shape, we're going with `(784,)` which is the shape of a flattened image in the MNIST dataset.\n"
   ]
  },
  {
   "cell_type": "markdown",
   "metadata": {},
   "source": [
    "### We compile the network with an optimizer, loss function and metric"
   ]
  },
  {
   "cell_type": "code",
   "execution_count": 14,
   "metadata": {},
   "outputs": [],
   "source": [
    "network.compile(optimizer='rmsprop',\n",
    "                loss='categorical_crossentropy',\n",
    "                metrics=['accuracy'])"
   ]
  },
  {
   "cell_type": "markdown",
   "metadata": {},
   "source": [
    "## The options, again.\n",
    "\n",
    "Before we can run the network, we need compile it, which means we setup some **more** options.  \n",
    "We select our optimizer, it's going to be `rmsprop`, we select our loss function `categorical_crossentropy`, and we decide on a metric to evaluate our model, which will be `accuracy`.\n",
    "\n",
    "All these arguments are passed as strings, you can also pass custom things if you want.  But generally, whatever keras offers is good enough for most projects.  You can see all the options at the docs here:\n",
    "\n",
    "\n",
    "https://keras.io/losses/\n",
    "\n",
    "https://keras.io/metrics/\n",
    "\n",
    "https://keras.io/optimizers/\n"
   ]
  },
  {
   "cell_type": "markdown",
   "metadata": {},
   "source": [
    "### A bit of preprocessing on the data before we can train (teach) our network\n",
    "\n",
    "For today, just ignore this.  Consider it a \"Necessary evil\". It's really not evil, but it is necessary."
   ]
  },
  {
   "cell_type": "code",
   "execution_count": 15,
   "metadata": {},
   "outputs": [],
   "source": [
    "train_images = train_images.reshape((60000, 28 * 28))\n",
    "train_images = train_images.astype('float32') / 255\n",
    "\n",
    "test_images = test_images.reshape((10000, 28 * 28))\n",
    "test_images = test_images.astype('float32') / 255\n",
    "\n",
    "from keras.utils import to_categorical\n",
    "\n",
    "train_labels = to_categorical(train_labels)\n",
    "test_labels = to_categorical(test_labels)"
   ]
  },
  {
   "cell_type": "markdown",
   "metadata": {},
   "source": [
    "### Fitting the network is also called \"training\", which is when the network _learns_ from the data!\n",
    "\n",
    "So, here is the big step! We have set it all up, now we can run. \n",
    "\n",
    "### More options though:\n",
    "\n",
    "* `epochs`, we have to decide how many times to run the training data through\n",
    "* `batch_size`, we have to decide what size we want to chunk our data into\n",
    "\n",
    "Note that when we `fit` the model, we have to pass two sets of data, the `train_images` (the actual pictures) and the `train_labels` (the real answers).  In class, I showed passing the `training data` in, but the `labels` just are only shown in the loss function. \n",
    "\n",
    "In the API, we need to pass them both at the start, since the `fit` function is doing all the steps, it needs access to everything."
   ]
  },
  {
   "cell_type": "code",
   "execution_count": 16,
   "metadata": {},
   "outputs": [
    {
     "name": "stdout",
     "output_type": "stream",
     "text": [
      "Epoch 1/5\n",
      "469/469 [==============================] - 5s 11ms/step - loss: 0.2519 - accuracy: 0.9272\n",
      "Epoch 2/5\n",
      "469/469 [==============================] - 5s 11ms/step - loss: 0.1044 - accuracy: 0.9686\n",
      "Epoch 3/5\n",
      "469/469 [==============================] - 5s 11ms/step - loss: 0.0681 - accuracy: 0.9796\n",
      "Epoch 4/5\n",
      "469/469 [==============================] - 5s 11ms/step - loss: 0.0497 - accuracy: 0.9844\n",
      "Epoch 5/5\n",
      "469/469 [==============================] - 5s 11ms/step - loss: 0.0371 - accuracy: 0.9892\n"
     ]
    },
    {
     "data": {
      "text/plain": [
       "<tensorflow.python.keras.callbacks.History at 0x189160f1820>"
      ]
     },
     "execution_count": 16,
     "metadata": {},
     "output_type": "execute_result"
    }
   ],
   "source": [
    "network.fit(train_images, train_labels, epochs=5, batch_size=128)"
   ]
  },
  {
   "cell_type": "markdown",
   "metadata": {},
   "source": [
    "### How do evaluate our network?\n",
    "\n",
    "So, we got 98.87 accuracy (your result may vary).  That's being reported by keras.  This accuracy is reported on each pass through of the batches and aggregated (we see a mean accuracy per epoch).  \n",
    "\n",
    "### Question -- if you were making this product for your work - what other tests would you like to do?\n"
   ]
  },
  {
   "cell_type": "markdown",
   "metadata": {},
   "source": [
    "#### Your Answer here: \n",
    "\n",
    "\n"
   ]
  },
  {
   "cell_type": "markdown",
   "metadata": {},
   "source": []
  },
  {
   "cell_type": "markdown",
   "metadata": {},
   "source": [
    "## Test the accuracy on Test Data\n",
    "\n",
    "This is the most important step of the entire ML process.\n",
    "You need to make sure that you are evaluating your model (network) on data it has never seen before."
   ]
  },
  {
   "cell_type": "code",
   "execution_count": 17,
   "metadata": {},
   "outputs": [
    {
     "data": {
      "text/plain": [
       "(60000, 784)"
      ]
     },
     "execution_count": 17,
     "metadata": {},
     "output_type": "execute_result"
    }
   ],
   "source": [
    "train_images.shape"
   ]
  },
  {
   "cell_type": "code",
   "execution_count": 18,
   "metadata": {},
   "outputs": [
    {
     "data": {
      "text/plain": [
       "(10000, 784)"
      ]
     },
     "execution_count": 18,
     "metadata": {},
     "output_type": "execute_result"
    }
   ],
   "source": [
    "test_images.shape"
   ]
  },
  {
   "cell_type": "code",
   "execution_count": 19,
   "metadata": {},
   "outputs": [
    {
     "name": "stdout",
     "output_type": "stream",
     "text": [
      "313/313 [==============================] - 1s 3ms/step - loss: 0.0720 - accuracy: 0.9773\n"
     ]
    }
   ],
   "source": [
    "test_loss, test_acc = network.evaluate(test_images, test_labels)"
   ]
  },
  {
   "cell_type": "code",
   "execution_count": 20,
   "metadata": {},
   "outputs": [
    {
     "name": "stdout",
     "output_type": "stream",
     "text": [
      "test_acc: 0.9772999882698059\n"
     ]
    }
   ],
   "source": [
    "print('test_acc:', test_acc)"
   ]
  },
  {
   "cell_type": "markdown",
   "metadata": {},
   "source": [
    "## Experiment\n",
    "\n",
    "Now take 10 minutes and try experimenting with some parameters.  Any option that we set can be changed and you can try something else.\n",
    "\n",
    "Here are a few things that are very easy to test\n",
    "\n",
    "* the width of the first layer\n",
    "* the batch size\n",
    "* the # of epochs.\n",
    "\n",
    "How does it affect the results?  A lot of deep learning (and machine learning in general) comes from experimentation. You should not be afraid to try different things.\n",
    "\n",
    "Make sure you reinitialize the network with `network = model.Sequential()` everytime, otherwise you won't get fair comparisons.  \n",
    "\n",
    "If you just run `network.fit()` with different parameters but do not re-initialize `network = model.sequential()`  the network won't restart the weights randomly, it will literally continue optimizing from where it left off -- this can be useful, but for experimentation we want to start from scratch everytime.\n",
    "\n",
    "I've copied pasted all the code you need to experiment with in the code block below:"
   ]
  },
  {
   "cell_type": "code",
   "execution_count": 21,
   "metadata": {},
   "outputs": [
    {
     "name": "stdout",
     "output_type": "stream",
     "text": [
      "Epoch 1/5\n",
      "469/469 [==============================] - 2s 4ms/step - loss: 0.2905 - accuracy: 0.9179\n",
      "Epoch 2/5\n",
      "469/469 [==============================] - 2s 4ms/step - loss: 0.1282 - accuracy: 0.9625\n",
      "Epoch 3/5\n",
      "469/469 [==============================] - 2s 4ms/step - loss: 0.0882 - accuracy: 0.9743\n",
      "Epoch 4/5\n",
      "469/469 [==============================] - 2s 4ms/step - loss: 0.0660 - accuracy: 0.9801\n",
      "Epoch 5/5\n",
      "469/469 [==============================] - 2s 4ms/step - loss: 0.0522 - accuracy: 0.9845\n"
     ]
    },
    {
     "data": {
      "text/plain": [
       "<tensorflow.python.keras.callbacks.History at 0x18915917b50>"
      ]
     },
     "execution_count": 21,
     "metadata": {},
     "output_type": "execute_result"
    }
   ],
   "source": [
    "## Experiment with the parameters below, see how changing epochs, \n",
    "## batch size or the width of the first layer affect the results.\n",
    "\n",
    "network = models.Sequential() #we'll stick to sequential for this course\n",
    "\n",
    "network.add(layers.Dense(256, activation='relu', input_shape=(784,)))  # Dense is the same as fully connected.\n",
    "network.add(layers.Dense(10, activation='softmax'))\n",
    "\n",
    "network.compile(optimizer='rmsprop',\n",
    "                loss='categorical_crossentropy',\n",
    "                metrics=['accuracy'])\n",
    "\n",
    "network.fit(train_images, train_labels, epochs=5, batch_size=128)"
   ]
  },
  {
   "cell_type": "code",
   "execution_count": 22,
   "metadata": {},
   "outputs": [
    {
     "name": "stdout",
     "output_type": "stream",
     "text": [
      "313/313 [==============================] - 1s 2ms/step - loss: 0.0714 - accuracy: 0.9777\n",
      "test_acc: 0.9776999950408936\n"
     ]
    }
   ],
   "source": [
    "test_loss, test_acc = network.evaluate(test_images, test_labels)\n",
    "print('test_acc:', test_acc)"
   ]
  },
  {
   "cell_type": "code",
   "execution_count": null,
   "metadata": {},
   "outputs": [],
   "source": []
  }
 ],
 "metadata": {
  "kernelspec": {
   "display_name": "Python 3",
   "language": "python",
   "name": "python3"
  },
  "language_info": {
   "codemirror_mode": {
    "name": "ipython",
    "version": 3
   },
   "file_extension": ".py",
   "mimetype": "text/x-python",
   "name": "python",
   "nbconvert_exporter": "python",
   "pygments_lexer": "ipython3",
   "version": "3.8.8"
  }
 },
 "nbformat": 4,
 "nbformat_minor": 2
}

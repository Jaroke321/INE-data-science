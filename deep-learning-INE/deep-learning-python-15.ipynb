{
 "cells": [
  {
   "cell_type": "markdown",
   "metadata": {},
   "source": [
    "# Explore Metrics\n",
    "\n",
    "In this notebook, we'll use the MNIST dataset to explore different metrics available in scikit-learn and keras"
   ]
  },
  {
   "cell_type": "code",
   "execution_count": 17,
   "metadata": {},
   "outputs": [],
   "source": [
    "from keras.datasets import mnist, imdb\n",
    "from sklearn.feature_extraction.text import TfidfTransformer\n",
    "import matplotlib.pyplot as plt\n",
    "import numpy as np\n",
    "%matplotlib inline"
   ]
  },
  {
   "cell_type": "code",
   "execution_count": 2,
   "metadata": {},
   "outputs": [],
   "source": [
    "## mnist.load_data() will automatically download the dataset if you don't have it\n",
    "(MNIST_train_X, MNIST_train_y), (MNIST_test_X, MNIST_test_y) = mnist.load_data()\n",
    "\n",
    "\n",
    "MNIST_train_X = MNIST_train_X.reshape((60000, 28 * 28))\n",
    "MNIST_train_X = MNIST_train_X.astype('float32') / 255\n",
    "\n",
    "MNIST_test_X = MNIST_test_X.reshape((10000, 28 * 28))\n",
    "MNIST_test_X = MNIST_test_X.astype('float32') / 255\n",
    "\n",
    "from keras.utils import to_categorical\n",
    "\n",
    "MNIST_train_y = to_categorical(MNIST_train_y)\n",
    "MNIST_test_y = to_categorical(MNIST_test_y)"
   ]
  },
  {
   "cell_type": "markdown",
   "metadata": {},
   "source": [
    "# Build the architecture of the network"
   ]
  },
  {
   "cell_type": "code",
   "execution_count": 3,
   "metadata": {},
   "outputs": [],
   "source": [
    "from keras import models\n",
    "from keras import layers"
   ]
  },
  {
   "cell_type": "code",
   "execution_count": 4,
   "metadata": {},
   "outputs": [
    {
     "name": "stdout",
     "output_type": "stream",
     "text": [
      "Epoch 1/5\n",
      "469/469 [==============================] - 2s 4ms/step - loss: 0.2559 - accuracy: 0.9254\n",
      "Epoch 2/5\n",
      "469/469 [==============================] - 2s 4ms/step - loss: 0.1032 - accuracy: 0.9693\n",
      "Epoch 3/5\n",
      "469/469 [==============================] - 2s 4ms/step - loss: 0.0680 - accuracy: 0.9797\n",
      "Epoch 4/5\n",
      "469/469 [==============================] - 2s 4ms/step - loss: 0.0492 - accuracy: 0.9853\n",
      "Epoch 5/5\n",
      "469/469 [==============================] - 2s 4ms/step - loss: 0.0368 - accuracy: 0.9888\n"
     ]
    },
    {
     "data": {
      "text/plain": [
       "<tensorflow.python.keras.callbacks.History at 0x1f99c63fa90>"
      ]
     },
     "execution_count": 4,
     "metadata": {},
     "output_type": "execute_result"
    }
   ],
   "source": [
    "network = models.Sequential() #we'll stick to sequential for this course\n",
    "\n",
    "network.add(layers.Dense(512, activation='relu', input_shape=(784,)))  # Dense is the same as fully connected.\n",
    "network.add(layers.Dense(10, activation='softmax'))\n",
    "\n",
    "network.compile(optimizer='rmsprop',\n",
    "                loss='categorical_crossentropy',\n",
    "                metrics=['accuracy'])\n",
    "\n",
    "network.fit(MNIST_train_X, MNIST_train_y, epochs=5, batch_size=128)"
   ]
  },
  {
   "cell_type": "code",
   "execution_count": 5,
   "metadata": {},
   "outputs": [
    {
     "name": "stdout",
     "output_type": "stream",
     "text": [
      "313/313 [==============================] - 0s 787us/step - loss: 0.0836 - accuracy: 0.9742\n",
      "test_acc: 0.9742000102996826\n"
     ]
    }
   ],
   "source": [
    "test_loss, test_acc = network.evaluate(MNIST_test_X, MNIST_test_y)\n",
    "print('test_acc:', test_acc)"
   ]
  },
  {
   "cell_type": "markdown",
   "metadata": {},
   "source": [
    "## Same accuracy as we are used to seeing.  But what about those other metrics?\n",
    "\n",
    "\n",
    "## Let's generate predictions, so we can evaluate our network\n",
    "\n",
    "\n",
    "\n",
    "We are going to generate our predictions from the _test_ data.\n",
    "Then we'll evaluate these predictions with the F1-score. \n",
    "I'm going to import the f1_score from scikit-learn."
   ]
  },
  {
   "cell_type": "code",
   "execution_count": 6,
   "metadata": {},
   "outputs": [],
   "source": [
    "from sklearn.metrics import f1_score, classification_report, accuracy_score, confusion_matrix\n",
    "# get predictions, need to round them because keras returns floats. Sklearn will want 1's and 0's.\n",
    "y_preds_test = network.predict(MNIST_test_X).round()"
   ]
  },
  {
   "cell_type": "code",
   "execution_count": 7,
   "metadata": {},
   "outputs": [
    {
     "name": "stdout",
     "output_type": "stream",
     "text": [
      "[0.98871795 0.99073666 0.9736211  0.97018696 0.97907095 0.97136312\n",
      " 0.97775424 0.97534517 0.94197952 0.97219464]\n"
     ]
    }
   ],
   "source": [
    "# use predictions to get more statistics than simple accuracy\n",
    "fscores_test = f1_score(MNIST_test_y, y_preds_test, average=None)\n",
    "print(fscores_test)"
   ]
  },
  {
   "cell_type": "markdown",
   "metadata": {},
   "source": [
    "## The F1-score outputs an F1-score for _each class_ within the task\n",
    "\n",
    "This is because the F1-score is relative to the \"positive\" class. So we get an F1 score for every single label.\n",
    "\n",
    "That means we have an array of 10 scores, each one score corresponds to a digit label.  So we see that our model does the best on \"1\".\n",
    "\n",
    "Let's plot it for a more intuitive look"
   ]
  },
  {
   "cell_type": "code",
   "execution_count": 8,
   "metadata": {},
   "outputs": [
    {
     "data": {
      "image/png": "[encoded data removed]",
      "text/plain": [
       "<Figure size 432x288 with 1 Axes>"
      ]
     },
     "metadata": {
      "needs_background": "light"
     },
     "output_type": "display_data"
    }
   ],
   "source": [
    "plt.bar(range(10),fscores_test)\n",
    "plt.ylim(0.96,1.0)\n",
    "plt.xticks(range(10))\n",
    "plt.title(\"F1-score per class on Test Data\");"
   ]
  },
  {
   "cell_type": "code",
   "execution_count": 9,
   "metadata": {},
   "outputs": [
    {
     "name": "stdout",
     "output_type": "stream",
     "text": [
      "              precision    recall  f1-score   support\n",
      "\n",
      "           0       0.99      0.98      0.99       980\n",
      "           1       0.99      0.99      0.99      1135\n",
      "           2       0.96      0.98      0.97      1032\n",
      "           3       0.99      0.95      0.97      1010\n",
      "           4       0.98      0.98      0.98       982\n",
      "           5       0.99      0.95      0.97       892\n",
      "           6       0.99      0.96      0.98       958\n",
      "           7       0.99      0.96      0.98      1028\n",
      "           8       0.90      0.99      0.94       974\n",
      "           9       0.97      0.97      0.97      1009\n",
      "\n",
      "   micro avg       0.98      0.97      0.97     10000\n",
      "   macro avg       0.98      0.97      0.97     10000\n",
      "weighted avg       0.98      0.97      0.97     10000\n",
      " samples avg       0.97      0.97      0.97     10000\n",
      "\n"
     ]
    },
    {
     "name": "stderr",
     "output_type": "stream",
     "text": [
      "C:\\Users\\Jacob\\anaconda3\\lib\\site-packages\\sklearn\\metrics\\_classification.py:1245: UndefinedMetricWarning: Precision and F-score are ill-defined and being set to 0.0 in samples with no predicted labels. Use `zero_division` parameter to control this behavior.\n",
      "  _warn_prf(average, modifier, msg_start, len(result))\n"
     ]
    }
   ],
   "source": [
    "print (classification_report(MNIST_test_y, y_preds_test))"
   ]
  },
  {
   "cell_type": "markdown",
   "metadata": {},
   "source": [
    "# Ok, now you run the same metrics on the IMDB dataset.\n",
    "\n",
    "Try to recreate the work from memory as much as possible. It will help you if you don't copy paste."
   ]
  },
  {
   "cell_type": "code",
   "execution_count": 12,
   "metadata": {},
   "outputs": [
    {
     "name": "stderr",
     "output_type": "stream",
     "text": [
      "<__array_function__ internals>:5: VisibleDeprecationWarning: Creating an ndarray from ragged nested sequences (which is a list-or-tuple of lists-or-tuples-or ndarrays with different lengths or shapes) is deprecated. If you meant to do this, you must specify 'dtype=object' when creating the ndarray.\n",
      "C:\\Users\\Jacob\\anaconda3\\lib\\site-packages\\tensorflow\\python\\keras\\datasets\\imdb.py:159: VisibleDeprecationWarning: Creating an ndarray from ragged nested sequences (which is a list-or-tuple of lists-or-tuples-or ndarrays with different lengths or shapes) is deprecated. If you meant to do this, you must specify 'dtype=object' when creating the ndarray.\n",
      "  x_train, y_train = np.array(xs[:idx]), np.array(labels[:idx])\n",
      "C:\\Users\\Jacob\\anaconda3\\lib\\site-packages\\tensorflow\\python\\keras\\datasets\\imdb.py:160: VisibleDeprecationWarning: Creating an ndarray from ragged nested sequences (which is a list-or-tuple of lists-or-tuples-or ndarrays with different lengths or shapes) is deprecated. If you meant to do this, you must specify 'dtype=object' when creating the ndarray.\n",
      "  x_test, y_test = np.array(xs[idx:]), np.array(labels[idx:])\n"
     ]
    }
   ],
   "source": [
    "(train_data, train_labels), (test_data, test_labels) = imdb.load_data(num_words=10000)"
   ]
  },
  {
   "cell_type": "code",
   "execution_count": 14,
   "metadata": {},
   "outputs": [],
   "source": [
    "def convert_to_binary(X):\n",
    "    result = np.zeros((len(X), 10_000))\n",
    "    for i, seq in enumerate(X):\n",
    "        result[i, seq] = 1\n",
    "    return result"
   ]
  },
  {
   "cell_type": "code",
   "execution_count": 16,
   "metadata": {},
   "outputs": [],
   "source": [
    "def convert_to_count(X):\n",
    "    result = np.zeros((len(X), 10_000))\n",
    "    for i, seq in enumerate(X):\n",
    "        for j in seq:\n",
    "            result[i, j] += 1\n",
    "    return result"
   ]
  },
  {
   "cell_type": "code",
   "execution_count": 19,
   "metadata": {},
   "outputs": [],
   "source": [
    "# Get both binary bag and count bag from the training data\n",
    "X_train_bin = convert_to_binary(train_data)\n",
    "X_test_bin = convert_to_binary(test_data)\n",
    "\n",
    "X_train_count = convert_to_count(train_data)\n",
    "X_test_count = convert_to_count(test_data)"
   ]
  },
  {
   "cell_type": "code",
   "execution_count": 20,
   "metadata": {},
   "outputs": [],
   "source": [
    "# Use TFIDF to further process the count data \n",
    "tf = TfidfTransformer()\n",
    "\n",
    "X_train_tf = tf.fit_transform(X_train_count)\n",
    "X_test_tf = tf.transform(X_test_count)\n",
    "\n",
    "X_train_tf = X_train_tf.toarray()\n",
    "X_test_tf = X_test_tf.toarray()"
   ]
  },
  {
   "cell_type": "code",
   "execution_count": 21,
   "metadata": {},
   "outputs": [
    {
     "data": {
      "text/plain": [
       "(10000,)"
      ]
     },
     "execution_count": 21,
     "metadata": {},
     "output_type": "execute_result"
    }
   ],
   "source": [
    "X_train_count[0].shape"
   ]
  },
  {
   "cell_type": "code",
   "execution_count": 26,
   "metadata": {},
   "outputs": [],
   "source": [
    "model = models.Sequential()\n",
    "\n",
    "model.add(layers.Dense(128, activation = 'relu', input_shape = (10_000,)))\n",
    "model.add(layers.Dense(128, activation = 'relu'))\n",
    "\n",
    "model.add(layers.Dense(1, activation = 'sigmoid'))\n",
    "\n",
    "model.compile(optimizer='rmsprop',\n",
    "                loss='binary_crossentropy',\n",
    "                metrics=['accuracy'])"
   ]
  },
  {
   "cell_type": "markdown",
   "metadata": {},
   "source": [
    "# Get the accuracy metrics for the binary data"
   ]
  },
  {
   "cell_type": "code",
   "execution_count": 27,
   "metadata": {},
   "outputs": [
    {
     "name": "stdout",
     "output_type": "stream",
     "text": [
      "Epoch 1/5\n",
      "49/49 [==============================] - 1s 22ms/step - loss: 0.4247 - accuracy: 0.8134\n",
      "Epoch 2/5\n",
      "49/49 [==============================] - 1s 23ms/step - loss: 0.2317 - accuracy: 0.9086\n",
      "Epoch 3/5\n",
      "49/49 [==============================] - 1s 22ms/step - loss: 0.1707 - accuracy: 0.9360\n",
      "Epoch 4/5\n",
      "49/49 [==============================] - 1s 20ms/step - loss: 0.1256 - accuracy: 0.9549\n",
      "Epoch 5/5\n",
      "49/49 [==============================] - 1s 19ms/step - loss: 0.0693 - accuracy: 0.9764\n",
      "782/782 [==============================] - 1s 1ms/step - loss: 0.4644 - accuracy: 0.8551\n"
     ]
    }
   ],
   "source": [
    "model.fit(X_train_bin, train_labels, epochs=5, batch_size=512)\n",
    "loss, acc = model.evaluate(X_test_bin, test_labels)\n",
    "y_pred = model.predict(X_test_bin).round()"
   ]
  },
  {
   "cell_type": "code",
   "execution_count": 33,
   "metadata": {},
   "outputs": [
    {
     "data": {
      "text/plain": [
       "array([0, 1, 1, 0, 1], dtype=int64)"
      ]
     },
     "execution_count": 33,
     "metadata": {},
     "output_type": "execute_result"
    }
   ],
   "source": [
    "test_labels[:5]"
   ]
  },
  {
   "cell_type": "code",
   "execution_count": 34,
   "metadata": {},
   "outputs": [
    {
     "name": "stdout",
     "output_type": "stream",
     "text": [
      "[0.86629753 0.8419031 ]\n"
     ]
    }
   ],
   "source": [
    "fscores_test = f1_score(test_labels, y_pred, average=None)\n",
    "print(fscores_test)"
   ]
  },
  {
   "cell_type": "code",
   "execution_count": 36,
   "metadata": {},
   "outputs": [
    {
     "data": {
      "image/png": "[encoded data removed]",
      "text/plain": [
       "<Figure size 432x288 with 1 Axes>"
      ]
     },
     "metadata": {
      "needs_background": "light"
     },
     "output_type": "display_data"
    }
   ],
   "source": [
    "plt.bar(range(2),fscores_test)\n",
    "plt.xticks(range(2))\n",
    "plt.title(\"F1-score per class on Test Data\");"
   ]
  },
  {
   "cell_type": "code",
   "execution_count": 37,
   "metadata": {},
   "outputs": [
    {
     "name": "stdout",
     "output_type": "stream",
     "text": [
      "              precision    recall  f1-score   support\n",
      "\n",
      "           0       0.80      0.94      0.87     12500\n",
      "           1       0.93      0.77      0.84     12500\n",
      "\n",
      "    accuracy                           0.86     25000\n",
      "   macro avg       0.87      0.86      0.85     25000\n",
      "weighted avg       0.87      0.86      0.85     25000\n",
      "\n"
     ]
    }
   ],
   "source": [
    "print (classification_report(test_labels, y_pred))"
   ]
  },
  {
   "cell_type": "markdown",
   "metadata": {},
   "source": [
    "# Get the accuracy metrics for the count data"
   ]
  },
  {
   "cell_type": "code",
   "execution_count": 38,
   "metadata": {},
   "outputs": [
    {
     "name": "stdout",
     "output_type": "stream",
     "text": [
      "Epoch 1/5\n",
      "49/49 [==============================] - 1s 20ms/step - loss: 0.2441 - accuracy: 0.9479\n",
      "Epoch 2/5\n",
      "49/49 [==============================] - 1s 21ms/step - loss: 0.1081 - accuracy: 0.9698\n",
      "Epoch 3/5\n",
      "49/49 [==============================] - 1s 19ms/step - loss: 0.0620 - accuracy: 0.9848\n",
      "Epoch 4/5\n",
      "49/49 [==============================] - 1s 18ms/step - loss: 0.0674 - accuracy: 0.9889\n",
      "Epoch 5/5\n",
      "49/49 [==============================] - 1s 18ms/step - loss: 0.0690 - accuracy: 0.9901\n",
      "782/782 [==============================] - 1s 1ms/step - loss: 0.5426 - accuracy: 0.8730\n"
     ]
    }
   ],
   "source": [
    "model.fit(X_train_count, train_labels, epochs=5, batch_size=512)\n",
    "loss, acc = model.evaluate(X_test_count, test_labels)\n",
    "y_pred = model.predict(X_test_count).round()"
   ]
  },
  {
   "cell_type": "code",
   "execution_count": 39,
   "metadata": {},
   "outputs": [
    {
     "name": "stdout",
     "output_type": "stream",
     "text": [
      "[0.87289765 0.87318204]\n"
     ]
    }
   ],
   "source": [
    "fscores_test = f1_score(test_labels, y_pred, average=None)\n",
    "print(fscores_test)"
   ]
  },
  {
   "cell_type": "code",
   "execution_count": 40,
   "metadata": {},
   "outputs": [
    {
     "data": {
      "image/png": "[encoded data removed]",
      "text/plain": [
       "<Figure size 432x288 with 1 Axes>"
      ]
     },
     "metadata": {
      "needs_background": "light"
     },
     "output_type": "display_data"
    }
   ],
   "source": [
    "plt.bar(range(2),fscores_test)\n",
    "plt.xticks(range(2))\n",
    "plt.title(\"F1-score per class on Test Data\");"
   ]
  },
  {
   "cell_type": "code",
   "execution_count": 41,
   "metadata": {},
   "outputs": [
    {
     "name": "stdout",
     "output_type": "stream",
     "text": [
      "              precision    recall  f1-score   support\n",
      "\n",
      "           0       0.87      0.87      0.87     12500\n",
      "           1       0.87      0.87      0.87     12500\n",
      "\n",
      "    accuracy                           0.87     25000\n",
      "   macro avg       0.87      0.87      0.87     25000\n",
      "weighted avg       0.87      0.87      0.87     25000\n",
      "\n"
     ]
    }
   ],
   "source": [
    "print (classification_report(test_labels, y_pred))"
   ]
  },
  {
   "cell_type": "markdown",
   "metadata": {},
   "source": [
    "# Get the accuracy metrics for the TFIDF data"
   ]
  },
  {
   "cell_type": "code",
   "execution_count": 42,
   "metadata": {},
   "outputs": [
    {
     "name": "stdout",
     "output_type": "stream",
     "text": [
      "Epoch 1/5\n",
      "49/49 [==============================] - 1s 24ms/step - loss: 0.1408 - accuracy: 0.9632\n",
      "Epoch 2/5\n",
      "49/49 [==============================] - 1s 20ms/step - loss: 0.0654 - accuracy: 0.9831\n",
      "Epoch 3/5\n",
      "49/49 [==============================] - 1s 19ms/step - loss: 0.0300 - accuracy: 0.9938\n",
      "Epoch 4/5\n",
      "49/49 [==============================] - 1s 19ms/step - loss: 0.0110 - accuracy: 0.9985\n",
      "Epoch 5/5\n",
      "49/49 [==============================] - 1s 19ms/step - loss: 0.0040 - accuracy: 0.9998\n",
      "782/782 [==============================] - 1s 1ms/step - loss: 0.7107 - accuracy: 0.8536\n"
     ]
    }
   ],
   "source": [
    "model.fit(X_train_tf, train_labels, epochs=5, batch_size=512)\n",
    "loss, acc = model.evaluate(X_test_tf, test_labels)\n",
    "y_pred = model.predict(X_test_tf).round()"
   ]
  },
  {
   "cell_type": "code",
   "execution_count": 43,
   "metadata": {},
   "outputs": [
    {
     "name": "stdout",
     "output_type": "stream",
     "text": [
      "[0.85666171 0.85040464]\n"
     ]
    }
   ],
   "source": [
    "fscores_test = f1_score(test_labels, y_pred, average=None)\n",
    "print(fscores_test)"
   ]
  },
  {
   "cell_type": "code",
   "execution_count": 44,
   "metadata": {},
   "outputs": [
    {
     "data": {
      "image/png": "[encoded data removed]",
      "text/plain": [
       "<Figure size 432x288 with 1 Axes>"
      ]
     },
     "metadata": {
      "needs_background": "light"
     },
     "output_type": "display_data"
    }
   ],
   "source": [
    "plt.bar(range(2),fscores_test)\n",
    "plt.xticks(range(2))\n",
    "plt.title(\"F1-score per class on Test Data\");"
   ]
  },
  {
   "cell_type": "code",
   "execution_count": 45,
   "metadata": {},
   "outputs": [
    {
     "name": "stdout",
     "output_type": "stream",
     "text": [
      "              precision    recall  f1-score   support\n",
      "\n",
      "           0       0.84      0.87      0.86     12500\n",
      "           1       0.87      0.83      0.85     12500\n",
      "\n",
      "    accuracy                           0.85     25000\n",
      "   macro avg       0.85      0.85      0.85     25000\n",
      "weighted avg       0.85      0.85      0.85     25000\n",
      "\n"
     ]
    }
   ],
   "source": [
    "print (classification_report(test_labels, y_pred))"
   ]
  },
  {
   "cell_type": "markdown",
   "metadata": {},
   "source": [
    "# Cancer Detector\n",
    "\n",
    "Which metric would be most important for the task of detecting cancer?\n"
   ]
  },
  {
   "cell_type": "markdown",
   "metadata": {},
   "source": [
    "Your answer here:"
   ]
  },
  {
   "cell_type": "markdown",
   "metadata": {},
   "source": [
    "# Detecting credit card fraud\n",
    "\n",
    "What would be a good metric to judge this?"
   ]
  },
  {
   "cell_type": "markdown",
   "metadata": {},
   "source": [
    "Your answer here:"
   ]
  },
  {
   "cell_type": "code",
   "execution_count": null,
   "metadata": {},
   "outputs": [],
   "source": []
  }
 ],
 "metadata": {
  "kernelspec": {
   "display_name": "Python 3",
   "language": "python",
   "name": "python3"
  },
  "language_info": {
   "codemirror_mode": {
    "name": "ipython",
    "version": 3
   },
   "file_extension": ".py",
   "mimetype": "text/x-python",
   "name": "python",
   "nbconvert_exporter": "python",
   "pygments_lexer": "ipython3",
   "version": "3.8.8"
  }
 },
 "nbformat": 4,
 "nbformat_minor": 2
}

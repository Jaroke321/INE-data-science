{
 "cells": [
  {
   "cell_type": "markdown",
   "metadata": {},
   "source": [
    "![rmotr](https://user-images.githubusercontent.com/7065401/52071918-bda15380-2562-11e9-828c-7f95297e4a82.png)\n",
    "<hr style=\"margin-bottom: 40px;\">\n",
    "\n",
    "<img src=\"https://user-images.githubusercontent.com/7065401/58563302-42466a80-8201-11e9-9948-b3e9f88a5662.jpg\"\n",
    "    style=\"width:400px; float: right; margin: 0 40px 40px 40px;\"></img>\n",
    "\n",
    "### Project\n",
    "\n",
    "# Bike store sales\n",
    "\n",
    "Let's put in practice the topics covered in the course and analyze sales made in a Bike Shop."
   ]
  },
  {
   "cell_type": "markdown",
   "metadata": {},
   "source": [
    "![purple-divider](https://user-images.githubusercontent.com/7065401/52071927-c1cd7100-2562-11e9-908a-dde91ba14e59.png)\n",
    "\n",
    "## Hands on! "
   ]
  },
  {
   "cell_type": "code",
   "execution_count": 1,
   "metadata": {},
   "outputs": [],
   "source": [
    "import numpy as np\n",
    "import pandas as pd"
   ]
  },
  {
   "cell_type": "code",
   "execution_count": 2,
   "metadata": {},
   "outputs": [],
   "source": [
    "sales = pd.read_csv('data/sales_data.csv')"
   ]
  },
  {
   "cell_type": "markdown",
   "metadata": {},
   "source": [
    "![green-divider](https://user-images.githubusercontent.com/7065401/52071924-c003ad80-2562-11e9-8297-1c6595f8a7ff.png)\n",
    "\n",
    "### First look at our data\n",
    "\n",
    "Analyze what columns we have, what type they are and what data is on them."
   ]
  },
  {
   "cell_type": "code",
   "execution_count": 3,
   "metadata": {},
   "outputs": [
    {
     "data": {
      "text/plain": [
       "(5000, 16)"
      ]
     },
     "execution_count": 3,
     "metadata": {},
     "output_type": "execute_result"
    }
   ],
   "source": [
    "sales.shape"
   ]
  },
  {
   "cell_type": "code",
   "execution_count": 4,
   "metadata": {},
   "outputs": [
    {
     "name": "stdout",
     "output_type": "stream",
     "text": [
      "<class 'pandas.core.frame.DataFrame'>\n",
      "RangeIndex: 5000 entries, 0 to 4999\n",
      "Data columns (total 16 columns):\n",
      " #   Column            Non-Null Count  Dtype \n",
      "---  ------            --------------  ----- \n",
      " 0   Date              5000 non-null   object\n",
      " 1   Day               5000 non-null   int64 \n",
      " 2   Month             5000 non-null   object\n",
      " 3   Year              5000 non-null   int64 \n",
      " 4   Customer_Age      5000 non-null   int64 \n",
      " 5   Customer_Gender   5000 non-null   object\n",
      " 6   Country           5000 non-null   object\n",
      " 7   State             5000 non-null   object\n",
      " 8   Product_Category  5000 non-null   object\n",
      " 9   Sub_Category      5000 non-null   object\n",
      " 10  Product           5000 non-null   object\n",
      " 11  Order_Quantity    5000 non-null   int64 \n",
      " 12  Unit_Cost         5000 non-null   int64 \n",
      " 13  Unit_Price        5000 non-null   int64 \n",
      " 14  Profit            5000 non-null   int64 \n",
      " 15  Revenue           5000 non-null   int64 \n",
      "dtypes: int64(8), object(8)\n",
      "memory usage: 625.1+ KB\n"
     ]
    }
   ],
   "source": [
    "sales.info()"
   ]
  },
  {
   "cell_type": "code",
   "execution_count": 5,
   "metadata": {},
   "outputs": [
    {
     "data": {
      "text/html": [
       "<div>\n",
       "<style scoped>\n",
       "    .dataframe tbody tr th:only-of-type {\n",
       "        vertical-align: middle;\n",
       "    }\n",
       "\n",
       "    .dataframe tbody tr th {\n",
       "        vertical-align: top;\n",
       "    }\n",
       "\n",
       "    .dataframe thead th {\n",
       "        text-align: right;\n",
       "    }\n",
       "</style>\n",
       "<table border=\"1\" class=\"dataframe\">\n",
       "  <thead>\n",
       "    <tr style=\"text-align: right;\">\n",
       "      <th></th>\n",
       "      <th>Date</th>\n",
       "      <th>Day</th>\n",
       "      <th>Month</th>\n",
       "      <th>Year</th>\n",
       "      <th>Customer_Age</th>\n",
       "      <th>Customer_Gender</th>\n",
       "      <th>Country</th>\n",
       "      <th>State</th>\n",
       "      <th>Product_Category</th>\n",
       "      <th>Sub_Category</th>\n",
       "      <th>Product</th>\n",
       "      <th>Order_Quantity</th>\n",
       "      <th>Unit_Cost</th>\n",
       "      <th>Unit_Price</th>\n",
       "      <th>Profit</th>\n",
       "      <th>Revenue</th>\n",
       "    </tr>\n",
       "  </thead>\n",
       "  <tbody>\n",
       "    <tr>\n",
       "      <th>0</th>\n",
       "      <td>2014-03-05</td>\n",
       "      <td>5</td>\n",
       "      <td>March</td>\n",
       "      <td>2014</td>\n",
       "      <td>34</td>\n",
       "      <td>M</td>\n",
       "      <td>United States</td>\n",
       "      <td>California</td>\n",
       "      <td>Accessories</td>\n",
       "      <td>Fenders</td>\n",
       "      <td>Fender Set - Mountain</td>\n",
       "      <td>27</td>\n",
       "      <td>8</td>\n",
       "      <td>22</td>\n",
       "      <td>366</td>\n",
       "      <td>582</td>\n",
       "    </tr>\n",
       "    <tr>\n",
       "      <th>1</th>\n",
       "      <td>2013-08-18</td>\n",
       "      <td>18</td>\n",
       "      <td>August</td>\n",
       "      <td>2013</td>\n",
       "      <td>31</td>\n",
       "      <td>F</td>\n",
       "      <td>Canada</td>\n",
       "      <td>British Columbia</td>\n",
       "      <td>Clothing</td>\n",
       "      <td>Vests</td>\n",
       "      <td>Classic Vest, L</td>\n",
       "      <td>13</td>\n",
       "      <td>24</td>\n",
       "      <td>64</td>\n",
       "      <td>512</td>\n",
       "      <td>824</td>\n",
       "    </tr>\n",
       "    <tr>\n",
       "      <th>2</th>\n",
       "      <td>2014-02-04</td>\n",
       "      <td>4</td>\n",
       "      <td>February</td>\n",
       "      <td>2014</td>\n",
       "      <td>31</td>\n",
       "      <td>F</td>\n",
       "      <td>United States</td>\n",
       "      <td>Washington</td>\n",
       "      <td>Bikes</td>\n",
       "      <td>Touring Bikes</td>\n",
       "      <td>Touring-1000 Yellow, 54</td>\n",
       "      <td>1</td>\n",
       "      <td>1482</td>\n",
       "      <td>2384</td>\n",
       "      <td>378</td>\n",
       "      <td>1860</td>\n",
       "    </tr>\n",
       "    <tr>\n",
       "      <th>3</th>\n",
       "      <td>2013-09-09</td>\n",
       "      <td>9</td>\n",
       "      <td>September</td>\n",
       "      <td>2013</td>\n",
       "      <td>33</td>\n",
       "      <td>M</td>\n",
       "      <td>Australia</td>\n",
       "      <td>Victoria</td>\n",
       "      <td>Accessories</td>\n",
       "      <td>Tires and Tubes</td>\n",
       "      <td>LL Road Tire</td>\n",
       "      <td>25</td>\n",
       "      <td>8</td>\n",
       "      <td>21</td>\n",
       "      <td>215</td>\n",
       "      <td>415</td>\n",
       "    </tr>\n",
       "    <tr>\n",
       "      <th>4</th>\n",
       "      <td>2016-05-16</td>\n",
       "      <td>16</td>\n",
       "      <td>May</td>\n",
       "      <td>2016</td>\n",
       "      <td>35</td>\n",
       "      <td>F</td>\n",
       "      <td>United States</td>\n",
       "      <td>Washington</td>\n",
       "      <td>Accessories</td>\n",
       "      <td>Tires and Tubes</td>\n",
       "      <td>Mountain Tire Tube</td>\n",
       "      <td>28</td>\n",
       "      <td>2</td>\n",
       "      <td>5</td>\n",
       "      <td>53</td>\n",
       "      <td>109</td>\n",
       "    </tr>\n",
       "  </tbody>\n",
       "</table>\n",
       "</div>"
      ],
      "text/plain": [
       "         Date  Day      Month  Year  Customer_Age Customer_Gender  \\\n",
       "0  2014-03-05    5      March  2014            34               M   \n",
       "1  2013-08-18   18     August  2013            31               F   \n",
       "2  2014-02-04    4   February  2014            31               F   \n",
       "3  2013-09-09    9  September  2013            33               M   \n",
       "4  2016-05-16   16        May  2016            35               F   \n",
       "\n",
       "         Country             State Product_Category     Sub_Category  \\\n",
       "0  United States        California      Accessories          Fenders   \n",
       "1         Canada  British Columbia         Clothing            Vests   \n",
       "2  United States        Washington            Bikes    Touring Bikes   \n",
       "3      Australia          Victoria      Accessories  Tires and Tubes   \n",
       "4  United States        Washington      Accessories  Tires and Tubes   \n",
       "\n",
       "                   Product  Order_Quantity  Unit_Cost  Unit_Price  Profit  \\\n",
       "0    Fender Set - Mountain              27          8          22     366   \n",
       "1          Classic Vest, L              13         24          64     512   \n",
       "2  Touring-1000 Yellow, 54               1       1482        2384     378   \n",
       "3             LL Road Tire              25          8          21     215   \n",
       "4       Mountain Tire Tube              28          2           5      53   \n",
       "\n",
       "   Revenue  \n",
       "0      582  \n",
       "1      824  \n",
       "2     1860  \n",
       "3      415  \n",
       "4      109  "
      ]
     },
     "execution_count": 5,
     "metadata": {},
     "output_type": "execute_result"
    }
   ],
   "source": [
    "sales.head()"
   ]
  },
  {
   "cell_type": "code",
   "execution_count": 6,
   "metadata": {},
   "outputs": [
    {
     "data": {
      "text/html": [
       "<div>\n",
       "<style scoped>\n",
       "    .dataframe tbody tr th:only-of-type {\n",
       "        vertical-align: middle;\n",
       "    }\n",
       "\n",
       "    .dataframe tbody tr th {\n",
       "        vertical-align: top;\n",
       "    }\n",
       "\n",
       "    .dataframe thead th {\n",
       "        text-align: right;\n",
       "    }\n",
       "</style>\n",
       "<table border=\"1\" class=\"dataframe\">\n",
       "  <thead>\n",
       "    <tr style=\"text-align: right;\">\n",
       "      <th></th>\n",
       "      <th>Date</th>\n",
       "      <th>Day</th>\n",
       "      <th>Month</th>\n",
       "      <th>Year</th>\n",
       "      <th>Customer_Age</th>\n",
       "      <th>Customer_Gender</th>\n",
       "      <th>Country</th>\n",
       "      <th>State</th>\n",
       "      <th>Product_Category</th>\n",
       "      <th>Sub_Category</th>\n",
       "      <th>Product</th>\n",
       "      <th>Order_Quantity</th>\n",
       "      <th>Unit_Cost</th>\n",
       "      <th>Unit_Price</th>\n",
       "      <th>Profit</th>\n",
       "      <th>Revenue</th>\n",
       "    </tr>\n",
       "  </thead>\n",
       "  <tbody>\n",
       "    <tr>\n",
       "      <th>4995</th>\n",
       "      <td>2014-01-27</td>\n",
       "      <td>27</td>\n",
       "      <td>January</td>\n",
       "      <td>2014</td>\n",
       "      <td>34</td>\n",
       "      <td>M</td>\n",
       "      <td>United States</td>\n",
       "      <td>California</td>\n",
       "      <td>Accessories</td>\n",
       "      <td>Bottles and Cages</td>\n",
       "      <td>Water Bottle - 30 oz.</td>\n",
       "      <td>20</td>\n",
       "      <td>2</td>\n",
       "      <td>5</td>\n",
       "      <td>58</td>\n",
       "      <td>98</td>\n",
       "    </tr>\n",
       "    <tr>\n",
       "      <th>4996</th>\n",
       "      <td>2014-07-14</td>\n",
       "      <td>14</td>\n",
       "      <td>July</td>\n",
       "      <td>2014</td>\n",
       "      <td>17</td>\n",
       "      <td>M</td>\n",
       "      <td>France</td>\n",
       "      <td>Val d'Oise</td>\n",
       "      <td>Clothing</td>\n",
       "      <td>Caps</td>\n",
       "      <td>AWC Logo Cap</td>\n",
       "      <td>12</td>\n",
       "      <td>7</td>\n",
       "      <td>9</td>\n",
       "      <td>1</td>\n",
       "      <td>85</td>\n",
       "    </tr>\n",
       "    <tr>\n",
       "      <th>4997</th>\n",
       "      <td>2013-12-30</td>\n",
       "      <td>30</td>\n",
       "      <td>December</td>\n",
       "      <td>2013</td>\n",
       "      <td>25</td>\n",
       "      <td>F</td>\n",
       "      <td>Canada</td>\n",
       "      <td>British Columbia</td>\n",
       "      <td>Accessories</td>\n",
       "      <td>Helmets</td>\n",
       "      <td>Sport-100 Helmet, Blue</td>\n",
       "      <td>20</td>\n",
       "      <td>13</td>\n",
       "      <td>35</td>\n",
       "      <td>433</td>\n",
       "      <td>693</td>\n",
       "    </tr>\n",
       "    <tr>\n",
       "      <th>4998</th>\n",
       "      <td>2016-01-06</td>\n",
       "      <td>6</td>\n",
       "      <td>January</td>\n",
       "      <td>2016</td>\n",
       "      <td>57</td>\n",
       "      <td>M</td>\n",
       "      <td>Canada</td>\n",
       "      <td>British Columbia</td>\n",
       "      <td>Accessories</td>\n",
       "      <td>Tires and Tubes</td>\n",
       "      <td>Patch Kit/8 Patches</td>\n",
       "      <td>16</td>\n",
       "      <td>1</td>\n",
       "      <td>2</td>\n",
       "      <td>16</td>\n",
       "      <td>32</td>\n",
       "    </tr>\n",
       "    <tr>\n",
       "      <th>4999</th>\n",
       "      <td>2014-03-09</td>\n",
       "      <td>9</td>\n",
       "      <td>March</td>\n",
       "      <td>2014</td>\n",
       "      <td>50</td>\n",
       "      <td>F</td>\n",
       "      <td>Australia</td>\n",
       "      <td>Queensland</td>\n",
       "      <td>Accessories</td>\n",
       "      <td>Tires and Tubes</td>\n",
       "      <td>Patch Kit/8 Patches</td>\n",
       "      <td>15</td>\n",
       "      <td>1</td>\n",
       "      <td>2</td>\n",
       "      <td>10</td>\n",
       "      <td>25</td>\n",
       "    </tr>\n",
       "  </tbody>\n",
       "</table>\n",
       "</div>"
      ],
      "text/plain": [
       "            Date  Day     Month  Year  Customer_Age Customer_Gender  \\\n",
       "4995  2014-01-27   27   January  2014            34               M   \n",
       "4996  2014-07-14   14      July  2014            17               M   \n",
       "4997  2013-12-30   30  December  2013            25               F   \n",
       "4998  2016-01-06    6   January  2016            57               M   \n",
       "4999  2014-03-09    9     March  2014            50               F   \n",
       "\n",
       "            Country             State Product_Category       Sub_Category  \\\n",
       "4995  United States        California      Accessories  Bottles and Cages   \n",
       "4996         France        Val d'Oise         Clothing               Caps   \n",
       "4997         Canada  British Columbia      Accessories            Helmets   \n",
       "4998         Canada  British Columbia      Accessories    Tires and Tubes   \n",
       "4999      Australia        Queensland      Accessories    Tires and Tubes   \n",
       "\n",
       "                     Product  Order_Quantity  Unit_Cost  Unit_Price  Profit  \\\n",
       "4995   Water Bottle - 30 oz.              20          2           5      58   \n",
       "4996            AWC Logo Cap              12          7           9       1   \n",
       "4997  Sport-100 Helmet, Blue              20         13          35     433   \n",
       "4998     Patch Kit/8 Patches              16          1           2      16   \n",
       "4999     Patch Kit/8 Patches              15          1           2      10   \n",
       "\n",
       "      Revenue  \n",
       "4995       98  \n",
       "4996       85  \n",
       "4997      693  \n",
       "4998       32  \n",
       "4999       25  "
      ]
     },
     "execution_count": 6,
     "metadata": {},
     "output_type": "execute_result"
    }
   ],
   "source": [
    "sales.tail()"
   ]
  },
  {
   "cell_type": "markdown",
   "metadata": {},
   "source": [
    "![green-divider](https://user-images.githubusercontent.com/7065401/52071924-c003ad80-2562-11e9-8297-1c6595f8a7ff.png)\n",
    "\n",
    "### Fixing column types\n",
    "\n",
    "- Cast `Date` to `datetime`.\n",
    "- Cast `Customer_Gender`, `Country`, `State`, `Product_Category` and `Sub_Category` to `category`."
   ]
  },
  {
   "cell_type": "code",
   "execution_count": 7,
   "metadata": {},
   "outputs": [],
   "source": [
    "# your code goes here\n",
    "sales['Date'] = pd.to_datetime(sales['Date'])\n",
    "sales['Customer_Gender'] = sales['Customer_Gender'].astype('category')\n",
    "sales['Country'] = sales['Country'].astype('category')\n",
    "sales['State'] = sales['State'].astype('category')\n",
    "sales['Product_Category'] = sales['Product_Category'].astype('category')\n",
    "sales['Sub_Category'] = sales['Sub_Category'].astype('category')"
   ]
  },
  {
   "cell_type": "markdown",
   "metadata": {},
   "source": [
    "![green-divider](https://user-images.githubusercontent.com/7065401/52071924-c003ad80-2562-11e9-8297-1c6595f8a7ff.png)\n",
    "\n",
    "### Get a summary of the main statistics of the whole data"
   ]
  },
  {
   "cell_type": "code",
   "execution_count": 8,
   "metadata": {},
   "outputs": [
    {
     "name": "stdout",
     "output_type": "stream",
     "text": [
      "<class 'pandas.core.frame.DataFrame'>\n",
      "RangeIndex: 5000 entries, 0 to 4999\n",
      "Data columns (total 16 columns):\n",
      " #   Column            Non-Null Count  Dtype         \n",
      "---  ------            --------------  -----         \n",
      " 0   Date              5000 non-null   datetime64[ns]\n",
      " 1   Day               5000 non-null   int64         \n",
      " 2   Month             5000 non-null   object        \n",
      " 3   Year              5000 non-null   int64         \n",
      " 4   Customer_Age      5000 non-null   int64         \n",
      " 5   Customer_Gender   5000 non-null   category      \n",
      " 6   Country           5000 non-null   category      \n",
      " 7   State             5000 non-null   category      \n",
      " 8   Product_Category  5000 non-null   category      \n",
      " 9   Sub_Category      5000 non-null   category      \n",
      " 10  Product           5000 non-null   object        \n",
      " 11  Order_Quantity    5000 non-null   int64         \n",
      " 12  Unit_Cost         5000 non-null   int64         \n",
      " 13  Unit_Price        5000 non-null   int64         \n",
      " 14  Profit            5000 non-null   int64         \n",
      " 15  Revenue           5000 non-null   int64         \n",
      "dtypes: category(5), datetime64[ns](1), int64(8), object(2)\n",
      "memory usage: 456.7+ KB\n",
      "****************************************************************************************************\n"
     ]
    },
    {
     "data": {
      "text/html": [
       "<div>\n",
       "<style scoped>\n",
       "    .dataframe tbody tr th:only-of-type {\n",
       "        vertical-align: middle;\n",
       "    }\n",
       "\n",
       "    .dataframe tbody tr th {\n",
       "        vertical-align: top;\n",
       "    }\n",
       "\n",
       "    .dataframe thead th {\n",
       "        text-align: right;\n",
       "    }\n",
       "</style>\n",
       "<table border=\"1\" class=\"dataframe\">\n",
       "  <thead>\n",
       "    <tr style=\"text-align: right;\">\n",
       "      <th></th>\n",
       "      <th>Day</th>\n",
       "      <th>Year</th>\n",
       "      <th>Customer_Age</th>\n",
       "      <th>Order_Quantity</th>\n",
       "      <th>Unit_Cost</th>\n",
       "      <th>Unit_Price</th>\n",
       "      <th>Profit</th>\n",
       "      <th>Revenue</th>\n",
       "    </tr>\n",
       "  </thead>\n",
       "  <tbody>\n",
       "    <tr>\n",
       "      <th>count</th>\n",
       "      <td>5000.000000</td>\n",
       "      <td>5000.000000</td>\n",
       "      <td>5000.000000</td>\n",
       "      <td>5000.000000</td>\n",
       "      <td>5000.000000</td>\n",
       "      <td>5000.000000</td>\n",
       "      <td>5000.000000</td>\n",
       "      <td>5000.000000</td>\n",
       "    </tr>\n",
       "    <tr>\n",
       "      <th>mean</th>\n",
       "      <td>15.668800</td>\n",
       "      <td>2014.405000</td>\n",
       "      <td>35.933800</td>\n",
       "      <td>11.820400</td>\n",
       "      <td>278.415000</td>\n",
       "      <td>470.680600</td>\n",
       "      <td>291.653400</td>\n",
       "      <td>772.758000</td>\n",
       "    </tr>\n",
       "    <tr>\n",
       "      <th>std</th>\n",
       "      <td>8.797783</td>\n",
       "      <td>1.266055</td>\n",
       "      <td>11.087886</td>\n",
       "      <td>9.607841</td>\n",
       "      <td>562.721951</td>\n",
       "      <td>941.590529</td>\n",
       "      <td>457.359971</td>\n",
       "      <td>1306.052588</td>\n",
       "    </tr>\n",
       "    <tr>\n",
       "      <th>min</th>\n",
       "      <td>1.000000</td>\n",
       "      <td>2011.000000</td>\n",
       "      <td>17.000000</td>\n",
       "      <td>1.000000</td>\n",
       "      <td>1.000000</td>\n",
       "      <td>2.000000</td>\n",
       "      <td>-24.000000</td>\n",
       "      <td>2.000000</td>\n",
       "    </tr>\n",
       "    <tr>\n",
       "      <th>25%</th>\n",
       "      <td>8.000000</td>\n",
       "      <td>2013.000000</td>\n",
       "      <td>28.000000</td>\n",
       "      <td>2.000000</td>\n",
       "      <td>2.000000</td>\n",
       "      <td>5.000000</td>\n",
       "      <td>29.000000</td>\n",
       "      <td>64.000000</td>\n",
       "    </tr>\n",
       "    <tr>\n",
       "      <th>50%</th>\n",
       "      <td>16.000000</td>\n",
       "      <td>2014.000000</td>\n",
       "      <td>35.000000</td>\n",
       "      <td>10.000000</td>\n",
       "      <td>9.000000</td>\n",
       "      <td>25.000000</td>\n",
       "      <td>103.000000</td>\n",
       "      <td>226.000000</td>\n",
       "    </tr>\n",
       "    <tr>\n",
       "      <th>75%</th>\n",
       "      <td>23.000000</td>\n",
       "      <td>2016.000000</td>\n",
       "      <td>43.000000</td>\n",
       "      <td>20.000000</td>\n",
       "      <td>42.000000</td>\n",
       "      <td>70.000000</td>\n",
       "      <td>367.000000</td>\n",
       "      <td>829.250000</td>\n",
       "    </tr>\n",
       "    <tr>\n",
       "      <th>max</th>\n",
       "      <td>31.000000</td>\n",
       "      <td>2016.000000</td>\n",
       "      <td>87.000000</td>\n",
       "      <td>32.000000</td>\n",
       "      <td>2171.000000</td>\n",
       "      <td>3578.000000</td>\n",
       "      <td>5342.000000</td>\n",
       "      <td>14026.000000</td>\n",
       "    </tr>\n",
       "  </tbody>\n",
       "</table>\n",
       "</div>"
      ],
      "text/plain": [
       "               Day         Year  Customer_Age  Order_Quantity    Unit_Cost  \\\n",
       "count  5000.000000  5000.000000   5000.000000     5000.000000  5000.000000   \n",
       "mean     15.668800  2014.405000     35.933800       11.820400   278.415000   \n",
       "std       8.797783     1.266055     11.087886        9.607841   562.721951   \n",
       "min       1.000000  2011.000000     17.000000        1.000000     1.000000   \n",
       "25%       8.000000  2013.000000     28.000000        2.000000     2.000000   \n",
       "50%      16.000000  2014.000000     35.000000       10.000000     9.000000   \n",
       "75%      23.000000  2016.000000     43.000000       20.000000    42.000000   \n",
       "max      31.000000  2016.000000     87.000000       32.000000  2171.000000   \n",
       "\n",
       "        Unit_Price       Profit       Revenue  \n",
       "count  5000.000000  5000.000000   5000.000000  \n",
       "mean    470.680600   291.653400    772.758000  \n",
       "std     941.590529   457.359971   1306.052588  \n",
       "min       2.000000   -24.000000      2.000000  \n",
       "25%       5.000000    29.000000     64.000000  \n",
       "50%      25.000000   103.000000    226.000000  \n",
       "75%      70.000000   367.000000    829.250000  \n",
       "max    3578.000000  5342.000000  14026.000000  "
      ]
     },
     "execution_count": 8,
     "metadata": {},
     "output_type": "execute_result"
    }
   ],
   "source": [
    "# your code goes here\n",
    "sales.info()\n",
    "print(\"*\" * 100)\n",
    "sales.describe()"
   ]
  },
  {
   "cell_type": "markdown",
   "metadata": {},
   "source": [
    "![green-divider](https://user-images.githubusercontent.com/7065401/52071924-c003ad80-2562-11e9-8297-1c6595f8a7ff.png)\n",
    "\n",
    "### What's the mean of `Customers_Age`?"
   ]
  },
  {
   "cell_type": "code",
   "execution_count": 9,
   "metadata": {},
   "outputs": [
    {
     "data": {
      "text/plain": [
       "35.9338"
      ]
     },
     "execution_count": 9,
     "metadata": {},
     "output_type": "execute_result"
    }
   ],
   "source": [
    "# your code goes here\n",
    "sales['Customer_Age'].mean()"
   ]
  },
  {
   "cell_type": "markdown",
   "metadata": {},
   "source": [
    "Go ahead and show a <b>density (KDE)</b> and a <b>box plot</b> with the `Customer_Age` data:"
   ]
  },
  {
   "cell_type": "code",
   "execution_count": 10,
   "metadata": {},
   "outputs": [
    {
     "data": {
      "text/plain": [
       "<AxesSubplot:ylabel='Density'>"
      ]
     },
     "execution_count": 10,
     "metadata": {},
     "output_type": "execute_result"
    },
    {
     "data": {
      "image/png": "[encoded data removed]",
      "text/plain": [
       "<Figure size 432x288 with 1 Axes>"
      ]
     },
     "metadata": {
      "needs_background": "light"
     },
     "output_type": "display_data"
    }
   ],
   "source": [
    "# your code goes here\n",
    "s = sales['Customer_Age']\n",
    "s.plot.kde()"
   ]
  },
  {
   "cell_type": "code",
   "execution_count": 11,
   "metadata": {},
   "outputs": [
    {
     "data": {
      "text/plain": [
       "<AxesSubplot:>"
      ]
     },
     "execution_count": 11,
     "metadata": {},
     "output_type": "execute_result"
    },
    {
     "data": {
      "image/png": "[encoded data removed]",
      "text/plain": [
       "<Figure size 432x288 with 1 Axes>"
      ]
     },
     "metadata": {
      "needs_background": "light"
     },
     "output_type": "display_data"
    }
   ],
   "source": [
    "sales.boxplot(column=['Customer_Age'])"
   ]
  },
  {
   "cell_type": "markdown",
   "metadata": {},
   "source": [
    "![green-divider](https://user-images.githubusercontent.com/7065401/52071924-c003ad80-2562-11e9-8297-1c6595f8a7ff.png)\n",
    "\n",
    "### What's the mean of `Order_Quantity`?"
   ]
  },
  {
   "cell_type": "code",
   "execution_count": 12,
   "metadata": {},
   "outputs": [
    {
     "data": {
      "text/plain": [
       "11.8204"
      ]
     },
     "execution_count": 12,
     "metadata": {},
     "output_type": "execute_result"
    }
   ],
   "source": [
    "# your code goes here\n",
    "sales['Order_Quantity'].mean()"
   ]
  },
  {
   "cell_type": "markdown",
   "metadata": {},
   "source": [
    "Go ahead and show a <b>histogram</b> and a <b>box plot</b> with the `Order_Quantity` data:"
   ]
  },
  {
   "cell_type": "code",
   "execution_count": 13,
   "metadata": {},
   "outputs": [
    {
     "data": {
      "text/plain": [
       "<AxesSubplot:>"
      ]
     },
     "execution_count": 13,
     "metadata": {},
     "output_type": "execute_result"
    },
    {
     "data": {
      "image/png": "[encoded data removed]",
      "text/plain": [
       "<Figure size 432x288 with 1 Axes>"
      ]
     },
     "metadata": {
      "needs_background": "light"
     },
     "output_type": "display_data"
    }
   ],
   "source": [
    "# your code goes here\n",
    "sales.boxplot(column='Order_Quantity')"
   ]
  },
  {
   "cell_type": "code",
   "execution_count": 14,
   "metadata": {},
   "outputs": [
    {
     "data": {
      "text/plain": [
       "<AxesSubplot:ylabel='Frequency'>"
      ]
     },
     "execution_count": 14,
     "metadata": {},
     "output_type": "execute_result"
    },
    {
     "data": {
      "image/png": "[encoded data removed]",
      "text/plain": [
       "<Figure size 432x288 with 1 Axes>"
      ]
     },
     "metadata": {
      "needs_background": "light"
     },
     "output_type": "display_data"
    }
   ],
   "source": [
    "sales['Order_Quantity'].plot.hist()"
   ]
  },
  {
   "cell_type": "markdown",
   "metadata": {},
   "source": [
    "![green-divider](https://user-images.githubusercontent.com/7065401/52071924-c003ad80-2562-11e9-8297-1c6595f8a7ff.png)\n",
    "\n",
    "### In which countries were sales made?"
   ]
  },
  {
   "cell_type": "code",
   "execution_count": 15,
   "metadata": {},
   "outputs": [
    {
     "data": {
      "text/plain": [
       "['United States', 'Canada', 'Australia', 'United Kingdom', 'Germany', 'France']\n",
       "Categories (6, object): ['United States', 'Canada', 'Australia', 'United Kingdom', 'Germany', 'France']"
      ]
     },
     "execution_count": 15,
     "metadata": {},
     "output_type": "execute_result"
    }
   ],
   "source": [
    "# your code goes here\n",
    "sales['Country'].unique()"
   ]
  },
  {
   "cell_type": "markdown",
   "metadata": {},
   "source": [
    "![green-divider](https://user-images.githubusercontent.com/7065401/52071924-c003ad80-2562-11e9-8297-1c6595f8a7ff.png)\n",
    "\n",
    "### Sort sales by year\n",
    "\n",
    "Older sales should be at the bottom."
   ]
  },
  {
   "cell_type": "code",
   "execution_count": 16,
   "metadata": {},
   "outputs": [],
   "source": [
    "# your code goes here\n",
    "sales.sort_values(by=['Year'], ascending = False, inplace=True)"
   ]
  },
  {
   "cell_type": "markdown",
   "metadata": {},
   "source": [
    "![green-divider](https://user-images.githubusercontent.com/7065401/52071924-c003ad80-2562-11e9-8297-1c6595f8a7ff.png)\n",
    "\n",
    "### Reset the current index\n",
    "\n",
    "Don't keep the old index."
   ]
  },
  {
   "cell_type": "code",
   "execution_count": 17,
   "metadata": {},
   "outputs": [],
   "source": [
    "# your code goes here\n",
    "sales.reset_index(inplace=True)"
   ]
  },
  {
   "cell_type": "markdown",
   "metadata": {},
   "source": [
    "![green-divider](https://user-images.githubusercontent.com/7065401/52071924-c003ad80-2562-11e9-8297-1c6595f8a7ff.png)\n",
    "\n",
    "### How many sales per year do we have?"
   ]
  },
  {
   "cell_type": "code",
   "execution_count": 18,
   "metadata": {},
   "outputs": [
    {
     "data": {
      "text/html": [
       "<div>\n",
       "<style scoped>\n",
       "    .dataframe tbody tr th:only-of-type {\n",
       "        vertical-align: middle;\n",
       "    }\n",
       "\n",
       "    .dataframe tbody tr th {\n",
       "        vertical-align: top;\n",
       "    }\n",
       "\n",
       "    .dataframe thead th {\n",
       "        text-align: right;\n",
       "    }\n",
       "</style>\n",
       "<table border=\"1\" class=\"dataframe\">\n",
       "  <thead>\n",
       "    <tr style=\"text-align: right;\">\n",
       "      <th></th>\n",
       "      <th>Counts</th>\n",
       "    </tr>\n",
       "    <tr>\n",
       "      <th>Year</th>\n",
       "      <th></th>\n",
       "    </tr>\n",
       "  </thead>\n",
       "  <tbody>\n",
       "    <tr>\n",
       "      <th>2014</th>\n",
       "      <td>1327</td>\n",
       "    </tr>\n",
       "    <tr>\n",
       "      <th>2016</th>\n",
       "      <td>1272</td>\n",
       "    </tr>\n",
       "    <tr>\n",
       "      <th>2015</th>\n",
       "      <td>1123</td>\n",
       "    </tr>\n",
       "    <tr>\n",
       "      <th>2013</th>\n",
       "      <td>1040</td>\n",
       "    </tr>\n",
       "    <tr>\n",
       "      <th>2011</th>\n",
       "      <td>126</td>\n",
       "    </tr>\n",
       "    <tr>\n",
       "      <th>2012</th>\n",
       "      <td>112</td>\n",
       "    </tr>\n",
       "  </tbody>\n",
       "</table>\n",
       "</div>"
      ],
      "text/plain": [
       "      Counts\n",
       "Year        \n",
       "2014    1327\n",
       "2016    1272\n",
       "2015    1123\n",
       "2013    1040\n",
       "2011     126\n",
       "2012     112"
      ]
     },
     "execution_count": 18,
     "metadata": {},
     "output_type": "execute_result"
    }
   ],
   "source": [
    "# your code goes here\n",
    "s = sales['Year'].value_counts()\n",
    "dic = {'Year': s.index, 'Counts': s.values}\n",
    "df = pd.DataFrame(data=dic)\n",
    "df.set_index('Year', inplace=True)\n",
    "df"
   ]
  },
  {
   "cell_type": "markdown",
   "metadata": {},
   "source": [
    "Go ahead and show a <b>pie plot</b> and a <b>bar plot</b> with the previous data:"
   ]
  },
  {
   "cell_type": "code",
   "execution_count": 19,
   "metadata": {},
   "outputs": [
    {
     "data": {
      "image/png": "[encoded data removed]",
      "text/plain": [
       "<Figure size 360x360 with 1 Axes>"
      ]
     },
     "metadata": {},
     "output_type": "display_data"
    }
   ],
   "source": [
    "# your code goes here\n",
    "pie = df.plot.pie(y='Counts', figsize=(5, 5))"
   ]
  },
  {
   "cell_type": "code",
   "execution_count": 20,
   "metadata": {},
   "outputs": [
    {
     "data": {
      "image/png": "[encoded data removed]",
      "text/plain": [
       "<Figure size 432x288 with 1 Axes>"
      ]
     },
     "metadata": {
      "needs_background": "light"
     },
     "output_type": "display_data"
    }
   ],
   "source": [
    "# your code goes here\n",
    "bar = df.plot.bar()"
   ]
  },
  {
   "cell_type": "markdown",
   "metadata": {},
   "source": [
    "![green-divider](https://user-images.githubusercontent.com/7065401/52071924-c003ad80-2562-11e9-8297-1c6595f8a7ff.png)\n",
    "\n",
    "### Create a new `Cost` column\n",
    "\n",
    "This column should be:\n",
    "$$ Cost = Unit\\_Cost * Order\\_Quantity $$"
   ]
  },
  {
   "cell_type": "code",
   "execution_count": 21,
   "metadata": {},
   "outputs": [
    {
     "data": {
      "text/html": [
       "<div>\n",
       "<style scoped>\n",
       "    .dataframe tbody tr th:only-of-type {\n",
       "        vertical-align: middle;\n",
       "    }\n",
       "\n",
       "    .dataframe tbody tr th {\n",
       "        vertical-align: top;\n",
       "    }\n",
       "\n",
       "    .dataframe thead th {\n",
       "        text-align: right;\n",
       "    }\n",
       "</style>\n",
       "<table border=\"1\" class=\"dataframe\">\n",
       "  <thead>\n",
       "    <tr style=\"text-align: right;\">\n",
       "      <th></th>\n",
       "      <th>index</th>\n",
       "      <th>Date</th>\n",
       "      <th>Day</th>\n",
       "      <th>Month</th>\n",
       "      <th>Year</th>\n",
       "      <th>Customer_Age</th>\n",
       "      <th>Customer_Gender</th>\n",
       "      <th>Country</th>\n",
       "      <th>State</th>\n",
       "      <th>Product_Category</th>\n",
       "      <th>Sub_Category</th>\n",
       "      <th>Product</th>\n",
       "      <th>Order_Quantity</th>\n",
       "      <th>Unit_Cost</th>\n",
       "      <th>Unit_Price</th>\n",
       "      <th>Profit</th>\n",
       "      <th>Revenue</th>\n",
       "      <th>Cost</th>\n",
       "    </tr>\n",
       "  </thead>\n",
       "  <tbody>\n",
       "    <tr>\n",
       "      <th>0</th>\n",
       "      <td>3962</td>\n",
       "      <td>2016-07-19</td>\n",
       "      <td>19</td>\n",
       "      <td>July</td>\n",
       "      <td>2016</td>\n",
       "      <td>37</td>\n",
       "      <td>F</td>\n",
       "      <td>United States</td>\n",
       "      <td>California</td>\n",
       "      <td>Accessories</td>\n",
       "      <td>Helmets</td>\n",
       "      <td>Sport-100 Helmet, Red</td>\n",
       "      <td>25</td>\n",
       "      <td>13</td>\n",
       "      <td>35</td>\n",
       "      <td>533</td>\n",
       "      <td>858</td>\n",
       "      <td>325</td>\n",
       "    </tr>\n",
       "    <tr>\n",
       "      <th>1</th>\n",
       "      <td>3902</td>\n",
       "      <td>2016-05-20</td>\n",
       "      <td>20</td>\n",
       "      <td>May</td>\n",
       "      <td>2016</td>\n",
       "      <td>39</td>\n",
       "      <td>F</td>\n",
       "      <td>United States</td>\n",
       "      <td>California</td>\n",
       "      <td>Accessories</td>\n",
       "      <td>Bottles and Cages</td>\n",
       "      <td>Water Bottle - 30 oz.</td>\n",
       "      <td>16</td>\n",
       "      <td>2</td>\n",
       "      <td>5</td>\n",
       "      <td>46</td>\n",
       "      <td>78</td>\n",
       "      <td>32</td>\n",
       "    </tr>\n",
       "    <tr>\n",
       "      <th>2</th>\n",
       "      <td>3886</td>\n",
       "      <td>2016-03-01</td>\n",
       "      <td>1</td>\n",
       "      <td>March</td>\n",
       "      <td>2016</td>\n",
       "      <td>31</td>\n",
       "      <td>F</td>\n",
       "      <td>United Kingdom</td>\n",
       "      <td>England</td>\n",
       "      <td>Accessories</td>\n",
       "      <td>Helmets</td>\n",
       "      <td>Sport-100 Helmet, Blue</td>\n",
       "      <td>13</td>\n",
       "      <td>13</td>\n",
       "      <td>35</td>\n",
       "      <td>268</td>\n",
       "      <td>437</td>\n",
       "      <td>169</td>\n",
       "    </tr>\n",
       "    <tr>\n",
       "      <th>3</th>\n",
       "      <td>3888</td>\n",
       "      <td>2016-01-18</td>\n",
       "      <td>18</td>\n",
       "      <td>January</td>\n",
       "      <td>2016</td>\n",
       "      <td>26</td>\n",
       "      <td>F</td>\n",
       "      <td>Australia</td>\n",
       "      <td>Victoria</td>\n",
       "      <td>Accessories</td>\n",
       "      <td>Bottles and Cages</td>\n",
       "      <td>Water Bottle - 30 oz.</td>\n",
       "      <td>1</td>\n",
       "      <td>2</td>\n",
       "      <td>5</td>\n",
       "      <td>2</td>\n",
       "      <td>4</td>\n",
       "      <td>2</td>\n",
       "    </tr>\n",
       "    <tr>\n",
       "      <th>4</th>\n",
       "      <td>1571</td>\n",
       "      <td>2016-06-03</td>\n",
       "      <td>3</td>\n",
       "      <td>June</td>\n",
       "      <td>2016</td>\n",
       "      <td>44</td>\n",
       "      <td>F</td>\n",
       "      <td>Canada</td>\n",
       "      <td>British Columbia</td>\n",
       "      <td>Accessories</td>\n",
       "      <td>Helmets</td>\n",
       "      <td>Sport-100 Helmet, Black</td>\n",
       "      <td>18</td>\n",
       "      <td>13</td>\n",
       "      <td>35</td>\n",
       "      <td>390</td>\n",
       "      <td>624</td>\n",
       "      <td>234</td>\n",
       "    </tr>\n",
       "  </tbody>\n",
       "</table>\n",
       "</div>"
      ],
      "text/plain": [
       "   index       Date  Day    Month  Year  Customer_Age Customer_Gender  \\\n",
       "0   3962 2016-07-19   19     July  2016            37               F   \n",
       "1   3902 2016-05-20   20      May  2016            39               F   \n",
       "2   3886 2016-03-01    1    March  2016            31               F   \n",
       "3   3888 2016-01-18   18  January  2016            26               F   \n",
       "4   1571 2016-06-03    3     June  2016            44               F   \n",
       "\n",
       "          Country             State Product_Category       Sub_Category  \\\n",
       "0   United States        California      Accessories            Helmets   \n",
       "1   United States        California      Accessories  Bottles and Cages   \n",
       "2  United Kingdom           England      Accessories            Helmets   \n",
       "3       Australia          Victoria      Accessories  Bottles and Cages   \n",
       "4          Canada  British Columbia      Accessories            Helmets   \n",
       "\n",
       "                   Product  Order_Quantity  Unit_Cost  Unit_Price  Profit  \\\n",
       "0    Sport-100 Helmet, Red              25         13          35     533   \n",
       "1    Water Bottle - 30 oz.              16          2           5      46   \n",
       "2   Sport-100 Helmet, Blue              13         13          35     268   \n",
       "3    Water Bottle - 30 oz.               1          2           5       2   \n",
       "4  Sport-100 Helmet, Black              18         13          35     390   \n",
       "\n",
       "   Revenue  Cost  \n",
       "0      858   325  \n",
       "1       78    32  \n",
       "2      437   169  \n",
       "3        4     2  \n",
       "4      624   234  "
      ]
     },
     "execution_count": 21,
     "metadata": {},
     "output_type": "execute_result"
    }
   ],
   "source": [
    "# your code goes here\n",
    "sales['Cost'] = sales['Unit_Cost'] * sales['Order_Quantity']\n",
    "sales.head()"
   ]
  },
  {
   "cell_type": "markdown",
   "metadata": {},
   "source": [
    "![green-divider](https://user-images.githubusercontent.com/7065401/52071924-c003ad80-2562-11e9-8297-1c6595f8a7ff.png)\n",
    "\n",
    "### Create a new `YearMonth` column\n",
    "\n",
    "This new `YearMonth` column should be the concatenation of `Year` and `Month` columns, separated by a '-'."
   ]
  },
  {
   "cell_type": "code",
   "execution_count": 22,
   "metadata": {},
   "outputs": [
    {
     "data": {
      "text/plain": [
       "0       2016-July\n",
       "1        2016-May\n",
       "2      2016-March\n",
       "3    2016-January\n",
       "4       2016-June\n",
       "Name: YearMonth, dtype: object"
      ]
     },
     "execution_count": 22,
     "metadata": {},
     "output_type": "execute_result"
    }
   ],
   "source": [
    "# your code goes here\n",
    "sales['YearMonth'] = sales['Year'].astype(str) + '-' + sales['Month']\n",
    "sales['YearMonth'].head()"
   ]
  },
  {
   "cell_type": "markdown",
   "metadata": {},
   "source": [
    "![green-divider](https://user-images.githubusercontent.com/7065401/52071924-c003ad80-2562-11e9-8297-1c6595f8a7ff.png)\n",
    "\n",
    "### How did sales evolve through the years?\n",
    "\n",
    "Count how many sales we have per `YearMonth`."
   ]
  },
  {
   "cell_type": "code",
   "execution_count": 23,
   "metadata": {},
   "outputs": [
    {
     "data": {
      "text/plain": [
       "2015-December    232\n",
       "2016-April       218\n",
       "2014-June        215\n",
       "2013-December    215\n",
       "2016-May         214\n",
       "                ... \n",
       "2012-December      7\n",
       "2011-February      6\n",
       "2011-June          6\n",
       "2012-February      6\n",
       "2012-March         4\n",
       "Name: YearMonth, Length: 62, dtype: int64"
      ]
     },
     "execution_count": 23,
     "metadata": {},
     "output_type": "execute_result"
    }
   ],
   "source": [
    "# your code goes here\n",
    "s = sales['YearMonth'].value_counts()\n",
    "s"
   ]
  },
  {
   "cell_type": "markdown",
   "metadata": {},
   "source": [
    "Go ahead and show a <b>bar plot</b> with the previous data:"
   ]
  },
  {
   "cell_type": "code",
   "execution_count": 24,
   "metadata": {},
   "outputs": [
    {
     "data": {
      "text/plain": [
       "<AxesSubplot:xlabel='YearMonth'>"
      ]
     },
     "execution_count": 24,
     "metadata": {},
     "output_type": "execute_result"
    },
    {
     "data": {
      "image/png": "[encoded data removed]",
      "text/plain": [
       "<Figure size 432x288 with 1 Axes>"
      ]
     },
     "metadata": {
      "needs_background": "light"
     },
     "output_type": "display_data"
    }
   ],
   "source": [
    "# your code goes here\n",
    "ym = pd.DataFrame(data={'YearMonth': s.index, 'Sales': s.values})\n",
    "ym.set_index('YearMonth', inplace=True)\n",
    "ym.sort_values(by='YearMonth', inplace=True)\n",
    "ym.plot.bar()"
   ]
  },
  {
   "cell_type": "markdown",
   "metadata": {},
   "source": [
    "![green-divider](https://user-images.githubusercontent.com/7065401/52071924-c003ad80-2562-11e9-8297-1c6595f8a7ff.png)\n",
    "\n",
    "### Which country has the most sales `quantity of sales`?"
   ]
  },
  {
   "cell_type": "code",
   "execution_count": 25,
   "metadata": {},
   "outputs": [
    {
     "data": {
      "text/plain": [
       "United States     1700\n",
       "Australia         1066\n",
       "Canada             657\n",
       "United Kingdom     604\n",
       "France             489\n",
       "Germany            484\n",
       "Name: Country, dtype: int64"
      ]
     },
     "execution_count": 25,
     "metadata": {},
     "output_type": "execute_result"
    }
   ],
   "source": [
    "# your code goes here\n",
    "s = sales['Country'].value_counts()\n",
    "s"
   ]
  },
  {
   "cell_type": "markdown",
   "metadata": {},
   "source": [
    "Go ahead and show a <b>bar plot</b> of the sales per country:"
   ]
  },
  {
   "cell_type": "code",
   "execution_count": 26,
   "metadata": {},
   "outputs": [
    {
     "data": {
      "text/plain": [
       "<AxesSubplot:xlabel='Country'>"
      ]
     },
     "execution_count": 26,
     "metadata": {},
     "output_type": "execute_result"
    },
    {
     "data": {
      "image/png": "[encoded data removed]",
      "text/plain": [
       "<Figure size 432x288 with 1 Axes>"
      ]
     },
     "metadata": {
      "needs_background": "light"
     },
     "output_type": "display_data"
    }
   ],
   "source": [
    "# your code goes here\n",
    "qs = pd.DataFrame(data={'Country': s.index, 'Sales': s.values})\n",
    "qs.set_index('Country', inplace=True)\n",
    "qs.plot.bar()"
   ]
  },
  {
   "cell_type": "markdown",
   "metadata": {},
   "source": [
    "![green-divider](https://user-images.githubusercontent.com/7065401/52071924-c003ad80-2562-11e9-8297-1c6595f8a7ff.png)\n",
    "\n",
    "### Get a list of every product sold"
   ]
  },
  {
   "cell_type": "code",
   "execution_count": 27,
   "metadata": {},
   "outputs": [
    {
     "data": {
      "text/plain": [
       "array(['Sport-100 Helmet, Red', 'Water Bottle - 30 oz.',\n",
       "       'Sport-100 Helmet, Blue', 'Sport-100 Helmet, Black',\n",
       "       'Patch Kit/8 Patches', 'Hitch Rack - 4-Bike', 'Road Tire Tube',\n",
       "       'ML Mountain Tire', 'Mountain-400-W Silver, 42',\n",
       "       'Touring Tire Tube', 'Fender Set - Mountain',\n",
       "       'Touring-3000 Blue, 62', 'AWC Logo Cap',\n",
       "       'Long-Sleeve Logo Jersey, L', 'Bike Wash - Dissolver',\n",
       "       'Mountain-200 Silver, 46', 'Road-150 Red, 52', 'LL Mountain Tire',\n",
       "       'Road-150 Red, 44', 'Road Bottle Cage', 'LL Road Tire',\n",
       "       'Touring-1000 Yellow, 60', 'HL Road Tire', 'Mountain Tire Tube',\n",
       "       'Touring-3000 Blue, 44', 'Short-Sleeve Classic Jersey, L',\n",
       "       'Touring-1000 Blue, 50', 'HL Mountain Tire',\n",
       "       'Half-Finger Gloves, L', 'Half-Finger Gloves, M',\n",
       "       'Racing Socks, M', 'Road-650 Red, 52', 'ML Road Tire',\n",
       "       'Mountain-400-W Silver, 40', 'Mountain-200 Silver, 42',\n",
       "       'Long-Sleeve Logo Jersey, XL', 'Touring-1000 Yellow, 54',\n",
       "       'Hydration Pack - 70 oz.', 'Touring-1000 Yellow, 50',\n",
       "       \"Women's Mountain Shorts, S\", 'Classic Vest, M',\n",
       "       'Touring-3000 Yellow, 50', 'Mountain-200 Black, 42',\n",
       "       'Short-Sleeve Classic Jersey, S', 'Classic Vest, S',\n",
       "       'Road-350-W Yellow, 42', 'Long-Sleeve Logo Jersey, M',\n",
       "       'Mountain Bottle Cage', 'Road-250 Red, 48',\n",
       "       'Touring-1000 Yellow, 46', 'Touring-1000 Blue, 54',\n",
       "       'Touring-1000 Blue, 46', 'Short-Sleeve Classic Jersey, XL',\n",
       "       'Mountain-100 Black, 38', 'Mountain-100 Silver, 44',\n",
       "       'Touring-2000 Blue, 46', 'Long-Sleeve Logo Jersey, S',\n",
       "       'Classic Vest, L', 'Road-250 Black, 58', 'Mountain-200 Silver, 38',\n",
       "       'Touring-3000 Yellow, 54', 'Short-Sleeve Classic Jersey, M',\n",
       "       'Touring-3000 Blue, 54', \"Women's Mountain Shorts, M\",\n",
       "       'Road-550-W Yellow, 38', 'Half-Finger Gloves, S',\n",
       "       'Road-350-W Yellow, 48', 'Touring Tire', 'Touring-2000 Blue, 54',\n",
       "       'Touring-2000 Blue, 60', 'Mountain-200 Black, 38',\n",
       "       'Mountain-100 Silver, 38', 'Racing Socks, L',\n",
       "       \"Women's Mountain Shorts, L\", 'Touring-3000 Yellow, 62',\n",
       "       'Road-150 Red, 62', 'Road-250 Red, 58', 'Touring-2000 Blue, 50',\n",
       "       'Road-550-W Yellow, 48', 'Road-650 Red, 44', 'Road-750 Black, 48',\n",
       "       'Road-750 Black, 44', 'Touring-3000 Yellow, 58',\n",
       "       'Road-650 Black, 60', 'Road-250 Black, 48', 'Road-650 Black, 44',\n",
       "       'Road-150 Red, 56', 'Touring-3000 Yellow, 44',\n",
       "       'Mountain-100 Black, 48', 'Road-250 Red, 52', 'Road-250 Black, 44',\n",
       "       'Mountain-500 Black, 42', 'Mountain-200 Black, 46',\n",
       "       'Road-750 Black, 52', 'Touring-1000 Blue, 60',\n",
       "       'Road-550-W Yellow, 42', 'Road-550-W Yellow, 44',\n",
       "       'Mountain-100 Black, 44', 'Road-250 Black, 52',\n",
       "       'Road-550-W Yellow, 40', 'Road-350-W Yellow, 40',\n",
       "       'Mountain-500 Black, 44', 'Road-650 Red, 60',\n",
       "       'Mountain-400-W Silver, 46', 'Mountain-500 Black, 52',\n",
       "       'All-Purpose Bike Stand', 'Road-750 Black, 58', 'Road-250 Red, 44',\n",
       "       'Mountain-500 Silver, 40', 'Road-650 Black, 48',\n",
       "       'Road-650 Black, 58', 'Road-650 Red, 48', 'Road-150 Red, 48',\n",
       "       'Mountain-100 Silver, 48', 'Mountain-100 Black, 42',\n",
       "       'Mountain-400-W Silver, 38', 'Road-350-W Yellow, 44',\n",
       "       'Road-650 Red, 62', 'Touring-3000 Blue, 58', 'Road-650 Red, 58',\n",
       "       'Mountain-500 Black, 48', 'Mountain-500 Silver, 44',\n",
       "       'Road-650 Black, 62', 'Mountain-500 Black, 40',\n",
       "       'Touring-3000 Blue, 50', 'Mountain-500 Silver, 42',\n",
       "       'Mountain-500 Silver, 52', 'Road-650 Black, 52',\n",
       "       'Mountain-500 Silver, 48', 'Mountain-100 Silver, 42'], dtype=object)"
      ]
     },
     "execution_count": 27,
     "metadata": {},
     "output_type": "execute_result"
    }
   ],
   "source": [
    "# your code goes here\n",
    "sales['Product'].unique()"
   ]
  },
  {
   "cell_type": "markdown",
   "metadata": {},
   "source": [
    "Create a **bar plot** showing the 10 most sold products (best sellers):"
   ]
  },
  {
   "cell_type": "code",
   "execution_count": 28,
   "metadata": {},
   "outputs": [
    {
     "data": {
      "text/plain": [
       "<AxesSubplot:xlabel='Product'>"
      ]
     },
     "execution_count": 28,
     "metadata": {},
     "output_type": "execute_result"
    },
    {
     "data": {
      "image/png": "[encoded data removed]",
      "text/plain": [
       "<Figure size 432x288 with 1 Axes>"
      ]
     },
     "metadata": {
      "needs_background": "light"
     },
     "output_type": "display_data"
    }
   ],
   "source": [
    "# your code goes here\n",
    "s = sales['Product'].value_counts()\n",
    "sp = pd.DataFrame(data={'Product': s.index, 'Sold': s.values})\n",
    "sp.set_index('Product', inplace=True)\n",
    "vals = sp.head(10)\n",
    "vals.plot.bar()"
   ]
  },
  {
   "cell_type": "markdown",
   "metadata": {},
   "source": [
    "![green-divider](https://user-images.githubusercontent.com/7065401/52071924-c003ad80-2562-11e9-8297-1c6595f8a7ff.png)\n",
    "\n",
    "### Can you see any relationship between `Unit_Cost` and `Unit_Price`?\n",
    "\n",
    "Show a <b>scatter plot</b> between both columns."
   ]
  },
  {
   "cell_type": "code",
   "execution_count": 29,
   "metadata": {},
   "outputs": [
    {
     "data": {
      "text/plain": [
       "<AxesSubplot:xlabel='Unit_Cost', ylabel='Unit_Price'>"
      ]
     },
     "execution_count": 29,
     "metadata": {},
     "output_type": "execute_result"
    },
    {
     "data": {
      "image/png": "[encoded data removed]",
      "text/plain": [
       "<Figure size 432x288 with 1 Axes>"
      ]
     },
     "metadata": {
      "needs_background": "light"
     },
     "output_type": "display_data"
    }
   ],
   "source": [
    "# your code goes here\n",
    "sales.plot.scatter(x='Unit_Cost', y='Unit_Price')"
   ]
  },
  {
   "cell_type": "markdown",
   "metadata": {},
   "source": [
    "![green-divider](https://user-images.githubusercontent.com/7065401/52071924-c003ad80-2562-11e9-8297-1c6595f8a7ff.png)\n",
    "\n",
    "### Can you see any relationship between `Order_Quantity` and `Profit`?\n",
    "\n",
    "Show a <b>scatter plot</b> between both columns."
   ]
  },
  {
   "cell_type": "code",
   "execution_count": 30,
   "metadata": {},
   "outputs": [
    {
     "data": {
      "text/plain": [
       "<AxesSubplot:xlabel='Order_Quantity', ylabel='Profit'>"
      ]
     },
     "execution_count": 30,
     "metadata": {},
     "output_type": "execute_result"
    },
    {
     "data": {
      "image/png": "[encoded data removed]",
      "text/plain": [
       "<Figure size 432x288 with 1 Axes>"
      ]
     },
     "metadata": {
      "needs_background": "light"
     },
     "output_type": "display_data"
    }
   ],
   "source": [
    "# your code goes here\n",
    "sales.plot.scatter(x='Order_Quantity', y='Profit')"
   ]
  },
  {
   "cell_type": "markdown",
   "metadata": {},
   "source": [
    "![green-divider](https://user-images.githubusercontent.com/7065401/52071924-c003ad80-2562-11e9-8297-1c6595f8a7ff.png)\n",
    "\n",
    "### Can you see any relationship between `Profit` per `Country`?\n",
    "\n",
    "Show a grouped <b>box plot</b> per country with the profit values."
   ]
  },
  {
   "cell_type": "code",
   "execution_count": 31,
   "metadata": {},
   "outputs": [
    {
     "data": {
      "text/plain": [
       "<AxesSubplot:title={'center':'Profit'}, xlabel='[Country]'>"
      ]
     },
     "execution_count": 31,
     "metadata": {},
     "output_type": "execute_result"
    },
    {
     "data": {
      "image/png": "[encoded data removed]",
      "text/plain": [
       "<Figure size 864x576 with 1 Axes>"
      ]
     },
     "metadata": {
      "needs_background": "light"
     },
     "output_type": "display_data"
    }
   ],
   "source": [
    "# your code goes here\n",
    "sales[['Profit', 'Country']].boxplot(by='Country', figsize=(12,8))"
   ]
  },
  {
   "cell_type": "markdown",
   "metadata": {},
   "source": [
    "![green-divider](https://user-images.githubusercontent.com/7065401/52071924-c003ad80-2562-11e9-8297-1c6595f8a7ff.png)\n",
    "\n",
    "### Can you see any relationship between the `Customer_Age` per `Country`?\n",
    "\n",
    "Show a grouped <b>box plot</b> per country with the customer age values."
   ]
  },
  {
   "cell_type": "code",
   "execution_count": 32,
   "metadata": {},
   "outputs": [
    {
     "data": {
      "text/plain": [
       "<AxesSubplot:title={'center':'Customer_Age'}, xlabel='[Country]'>"
      ]
     },
     "execution_count": 32,
     "metadata": {},
     "output_type": "execute_result"
    },
    {
     "data": {
      "image/png": "[encoded data removed]",
      "text/plain": [
       "<Figure size 864x576 with 1 Axes>"
      ]
     },
     "metadata": {
      "needs_background": "light"
     },
     "output_type": "display_data"
    }
   ],
   "source": [
    "# your code goes here\n",
    "sales[['Customer_Age', 'Country']].boxplot(by='Country', figsize=(12, 8))"
   ]
  },
  {
   "cell_type": "markdown",
   "metadata": {},
   "source": [
    "![green-divider](https://user-images.githubusercontent.com/7065401/52071924-c003ad80-2562-11e9-8297-1c6595f8a7ff.png)\n",
    "\n",
    "### Increase 50 U$S revenue to every sale"
   ]
  },
  {
   "cell_type": "code",
   "execution_count": 33,
   "metadata": {},
   "outputs": [
    {
     "data": {
      "text/html": [
       "<div>\n",
       "<style scoped>\n",
       "    .dataframe tbody tr th:only-of-type {\n",
       "        vertical-align: middle;\n",
       "    }\n",
       "\n",
       "    .dataframe tbody tr th {\n",
       "        vertical-align: top;\n",
       "    }\n",
       "\n",
       "    .dataframe thead th {\n",
       "        text-align: right;\n",
       "    }\n",
       "</style>\n",
       "<table border=\"1\" class=\"dataframe\">\n",
       "  <thead>\n",
       "    <tr style=\"text-align: right;\">\n",
       "      <th></th>\n",
       "      <th>index</th>\n",
       "      <th>Date</th>\n",
       "      <th>Day</th>\n",
       "      <th>Month</th>\n",
       "      <th>Year</th>\n",
       "      <th>Customer_Age</th>\n",
       "      <th>Customer_Gender</th>\n",
       "      <th>Country</th>\n",
       "      <th>State</th>\n",
       "      <th>Product_Category</th>\n",
       "      <th>Sub_Category</th>\n",
       "      <th>Product</th>\n",
       "      <th>Order_Quantity</th>\n",
       "      <th>Unit_Cost</th>\n",
       "      <th>Unit_Price</th>\n",
       "      <th>Profit</th>\n",
       "      <th>Revenue</th>\n",
       "      <th>Cost</th>\n",
       "      <th>YearMonth</th>\n",
       "    </tr>\n",
       "  </thead>\n",
       "  <tbody>\n",
       "    <tr>\n",
       "      <th>0</th>\n",
       "      <td>3962</td>\n",
       "      <td>2016-07-19</td>\n",
       "      <td>19</td>\n",
       "      <td>July</td>\n",
       "      <td>2016</td>\n",
       "      <td>37</td>\n",
       "      <td>F</td>\n",
       "      <td>United States</td>\n",
       "      <td>California</td>\n",
       "      <td>Accessories</td>\n",
       "      <td>Helmets</td>\n",
       "      <td>Sport-100 Helmet, Red</td>\n",
       "      <td>25</td>\n",
       "      <td>13</td>\n",
       "      <td>35</td>\n",
       "      <td>533</td>\n",
       "      <td>908</td>\n",
       "      <td>325</td>\n",
       "      <td>2016-July</td>\n",
       "    </tr>\n",
       "    <tr>\n",
       "      <th>1</th>\n",
       "      <td>3902</td>\n",
       "      <td>2016-05-20</td>\n",
       "      <td>20</td>\n",
       "      <td>May</td>\n",
       "      <td>2016</td>\n",
       "      <td>39</td>\n",
       "      <td>F</td>\n",
       "      <td>United States</td>\n",
       "      <td>California</td>\n",
       "      <td>Accessories</td>\n",
       "      <td>Bottles and Cages</td>\n",
       "      <td>Water Bottle - 30 oz.</td>\n",
       "      <td>16</td>\n",
       "      <td>2</td>\n",
       "      <td>5</td>\n",
       "      <td>46</td>\n",
       "      <td>128</td>\n",
       "      <td>32</td>\n",
       "      <td>2016-May</td>\n",
       "    </tr>\n",
       "    <tr>\n",
       "      <th>2</th>\n",
       "      <td>3886</td>\n",
       "      <td>2016-03-01</td>\n",
       "      <td>1</td>\n",
       "      <td>March</td>\n",
       "      <td>2016</td>\n",
       "      <td>31</td>\n",
       "      <td>F</td>\n",
       "      <td>United Kingdom</td>\n",
       "      <td>England</td>\n",
       "      <td>Accessories</td>\n",
       "      <td>Helmets</td>\n",
       "      <td>Sport-100 Helmet, Blue</td>\n",
       "      <td>13</td>\n",
       "      <td>13</td>\n",
       "      <td>35</td>\n",
       "      <td>268</td>\n",
       "      <td>487</td>\n",
       "      <td>169</td>\n",
       "      <td>2016-March</td>\n",
       "    </tr>\n",
       "    <tr>\n",
       "      <th>3</th>\n",
       "      <td>3888</td>\n",
       "      <td>2016-01-18</td>\n",
       "      <td>18</td>\n",
       "      <td>January</td>\n",
       "      <td>2016</td>\n",
       "      <td>26</td>\n",
       "      <td>F</td>\n",
       "      <td>Australia</td>\n",
       "      <td>Victoria</td>\n",
       "      <td>Accessories</td>\n",
       "      <td>Bottles and Cages</td>\n",
       "      <td>Water Bottle - 30 oz.</td>\n",
       "      <td>1</td>\n",
       "      <td>2</td>\n",
       "      <td>5</td>\n",
       "      <td>2</td>\n",
       "      <td>54</td>\n",
       "      <td>2</td>\n",
       "      <td>2016-January</td>\n",
       "    </tr>\n",
       "    <tr>\n",
       "      <th>4</th>\n",
       "      <td>1571</td>\n",
       "      <td>2016-06-03</td>\n",
       "      <td>3</td>\n",
       "      <td>June</td>\n",
       "      <td>2016</td>\n",
       "      <td>44</td>\n",
       "      <td>F</td>\n",
       "      <td>Canada</td>\n",
       "      <td>British Columbia</td>\n",
       "      <td>Accessories</td>\n",
       "      <td>Helmets</td>\n",
       "      <td>Sport-100 Helmet, Black</td>\n",
       "      <td>18</td>\n",
       "      <td>13</td>\n",
       "      <td>35</td>\n",
       "      <td>390</td>\n",
       "      <td>674</td>\n",
       "      <td>234</td>\n",
       "      <td>2016-June</td>\n",
       "    </tr>\n",
       "  </tbody>\n",
       "</table>\n",
       "</div>"
      ],
      "text/plain": [
       "   index       Date  Day    Month  Year  Customer_Age Customer_Gender  \\\n",
       "0   3962 2016-07-19   19     July  2016            37               F   \n",
       "1   3902 2016-05-20   20      May  2016            39               F   \n",
       "2   3886 2016-03-01    1    March  2016            31               F   \n",
       "3   3888 2016-01-18   18  January  2016            26               F   \n",
       "4   1571 2016-06-03    3     June  2016            44               F   \n",
       "\n",
       "          Country             State Product_Category       Sub_Category  \\\n",
       "0   United States        California      Accessories            Helmets   \n",
       "1   United States        California      Accessories  Bottles and Cages   \n",
       "2  United Kingdom           England      Accessories            Helmets   \n",
       "3       Australia          Victoria      Accessories  Bottles and Cages   \n",
       "4          Canada  British Columbia      Accessories            Helmets   \n",
       "\n",
       "                   Product  Order_Quantity  Unit_Cost  Unit_Price  Profit  \\\n",
       "0    Sport-100 Helmet, Red              25         13          35     533   \n",
       "1    Water Bottle - 30 oz.              16          2           5      46   \n",
       "2   Sport-100 Helmet, Blue              13         13          35     268   \n",
       "3    Water Bottle - 30 oz.               1          2           5       2   \n",
       "4  Sport-100 Helmet, Black              18         13          35     390   \n",
       "\n",
       "   Revenue  Cost     YearMonth  \n",
       "0      908   325     2016-July  \n",
       "1      128    32      2016-May  \n",
       "2      487   169    2016-March  \n",
       "3       54     2  2016-January  \n",
       "4      674   234     2016-June  "
      ]
     },
     "execution_count": 33,
     "metadata": {},
     "output_type": "execute_result"
    }
   ],
   "source": [
    "# your code goes here\n",
    "sales['Revenue'] += 50\n",
    "sales.head()"
   ]
  },
  {
   "cell_type": "markdown",
   "metadata": {},
   "source": [
    "![green-divider](https://user-images.githubusercontent.com/7065401/52071924-c003ad80-2562-11e9-8297-1c6595f8a7ff.png)\n",
    "\n",
    "### How many orders were made in `Canada` or `France`?"
   ]
  },
  {
   "cell_type": "code",
   "execution_count": 34,
   "metadata": {},
   "outputs": [
    {
     "data": {
      "text/plain": [
       "1146"
      ]
     },
     "execution_count": 34,
     "metadata": {},
     "output_type": "execute_result"
    }
   ],
   "source": [
    "# your code goes here\n",
    "sales.loc[(sales['Country'] == 'France') | (sales['Country'] == 'Canada')]['Order_Quantity'].shape[0]"
   ]
  },
  {
   "cell_type": "markdown",
   "metadata": {},
   "source": [
    "![green-divider](https://user-images.githubusercontent.com/7065401/52071924-c003ad80-2562-11e9-8297-1c6595f8a7ff.png)\n",
    "\n",
    "### How many `Bike Racks` orders were made from Canada?"
   ]
  },
  {
   "cell_type": "code",
   "execution_count": 35,
   "metadata": {},
   "outputs": [
    {
     "data": {
      "text/plain": [
       "3"
      ]
     },
     "execution_count": 35,
     "metadata": {},
     "output_type": "execute_result"
    }
   ],
   "source": [
    "# your code goes here\n",
    "sales.loc[(sales['Country'] == 'Canada') & (sales['Sub_Category'] == 'Bike Racks')].shape[0]"
   ]
  },
  {
   "cell_type": "markdown",
   "metadata": {},
   "source": [
    "![green-divider](https://user-images.githubusercontent.com/7065401/52071924-c003ad80-2562-11e9-8297-1c6595f8a7ff.png)\n",
    "\n",
    "### How many orders were made in each region (state) of France?"
   ]
  },
  {
   "cell_type": "code",
   "execution_count": 42,
   "metadata": {},
   "outputs": [
    {
     "data": {
      "text/plain": [
       "Seine (Paris)        101\n",
       "Seine Saint Denis     87\n",
       "Nord                  76\n",
       "Yveline               48\n",
       "Hauts de Seine        41\n",
       "Essonne               40\n",
       "Seine et Marne        16\n",
       "Moselle               16\n",
       "Loiret                13\n",
       "Val d'Oise            11\n",
       "Garonne (Haute)       10\n",
       "Charente-Maritime     10\n",
       "Pas de Calais          6\n",
       "Val de Marne           5\n",
       "Loir et Cher           5\n",
       "Somme                  4\n",
       "Name: State, dtype: int64"
      ]
     },
     "execution_count": 42,
     "metadata": {},
     "output_type": "execute_result"
    }
   ],
   "source": [
    "# your code goes here\n",
    "f = sales.loc[sales['Country'] == 'France', 'State'].value_counts().head(16)\n",
    "f"
   ]
  },
  {
   "cell_type": "markdown",
   "metadata": {},
   "source": [
    "Go ahead and show a <b>bar plot</b> with the results:"
   ]
  },
  {
   "cell_type": "code",
   "execution_count": 44,
   "metadata": {},
   "outputs": [
    {
     "data": {
      "text/plain": [
       "<AxesSubplot:>"
      ]
     },
     "execution_count": 44,
     "metadata": {},
     "output_type": "execute_result"
    },
    {
     "data": {
      "image/png": "[encoded data removed]",
      "text/plain": [
       "<Figure size 864x576 with 1 Axes>"
      ]
     },
     "metadata": {
      "needs_background": "light"
     },
     "output_type": "display_data"
    }
   ],
   "source": [
    "# your code goes here\n",
    "f.plot.bar(figsize=(12,8))"
   ]
  },
  {
   "cell_type": "markdown",
   "metadata": {},
   "source": [
    "![green-divider](https://user-images.githubusercontent.com/7065401/52071924-c003ad80-2562-11e9-8297-1c6595f8a7ff.png)\n",
    "\n",
    "### How many sales were made per category?"
   ]
  },
  {
   "cell_type": "code",
   "execution_count": 46,
   "metadata": {},
   "outputs": [
    {
     "data": {
      "text/plain": [
       "Accessories    3090\n",
       "Bikes          1166\n",
       "Clothing        744\n",
       "Name: Product_Category, dtype: int64"
      ]
     },
     "execution_count": 46,
     "metadata": {},
     "output_type": "execute_result"
    }
   ],
   "source": [
    "# your code goes here\n",
    "c = sales['Product_Category'].value_counts()\n",
    "c"
   ]
  },
  {
   "cell_type": "markdown",
   "metadata": {},
   "source": [
    "Go ahead and show a <b>pie plot</b> with the results:"
   ]
  },
  {
   "cell_type": "code",
   "execution_count": 47,
   "metadata": {},
   "outputs": [
    {
     "data": {
      "text/plain": [
       "<AxesSubplot:ylabel='Product_Category'>"
      ]
     },
     "execution_count": 47,
     "metadata": {},
     "output_type": "execute_result"
    },
    {
     "data": {
      "image/png": "[encoded data removed]",
      "text/plain": [
       "<Figure size 432x432 with 1 Axes>"
      ]
     },
     "metadata": {},
     "output_type": "display_data"
    }
   ],
   "source": [
    "# your code goes here\n",
    "c.plot.pie(figsize=(6,6))"
   ]
  },
  {
   "cell_type": "markdown",
   "metadata": {},
   "source": [
    "![green-divider](https://user-images.githubusercontent.com/7065401/52071924-c003ad80-2562-11e9-8297-1c6595f8a7ff.png)\n",
    "\n",
    "### How many orders were made per accessory sub-categories?"
   ]
  },
  {
   "cell_type": "code",
   "execution_count": 60,
   "metadata": {},
   "outputs": [
    {
     "data": {
      "text/plain": [
       "Tires and Tubes      1458\n",
       "Bottles and Cages     719\n",
       "Helmets               553\n",
       "Fenders               183\n",
       "Cleaners               78\n",
       "Hydration Packs        64\n",
       "Bike Racks             26\n",
       "Bike Stands             9\n",
       "Name: Sub_Category, dtype: int64"
      ]
     },
     "execution_count": 60,
     "metadata": {},
     "output_type": "execute_result"
    }
   ],
   "source": [
    "# your code goes here\n",
    "s =sales.loc[sales['Product_Category'] == 'Accessories', 'Sub_Category'].value_counts().head(8)\n",
    "s "
   ]
  },
  {
   "cell_type": "markdown",
   "metadata": {},
   "source": [
    "Go ahead and show a <b>bar plot</b> with the results:"
   ]
  },
  {
   "cell_type": "code",
   "execution_count": 61,
   "metadata": {},
   "outputs": [
    {
     "data": {
      "text/plain": [
       "<AxesSubplot:>"
      ]
     },
     "execution_count": 61,
     "metadata": {},
     "output_type": "execute_result"
    },
    {
     "data": {
      "image/png": "[encoded data removed]",
      "text/plain": [
       "<Figure size 864x576 with 1 Axes>"
      ]
     },
     "metadata": {
      "needs_background": "light"
     },
     "output_type": "display_data"
    }
   ],
   "source": [
    "# your code goes here\n",
    "s.plot.bar(figsize=(12,8))"
   ]
  },
  {
   "cell_type": "markdown",
   "metadata": {},
   "source": [
    "![green-divider](https://user-images.githubusercontent.com/7065401/52071924-c003ad80-2562-11e9-8297-1c6595f8a7ff.png)\n",
    "\n",
    "### How many orders were made per bike sub-categories?"
   ]
  },
  {
   "cell_type": "code",
   "execution_count": 63,
   "metadata": {},
   "outputs": [
    {
     "data": {
      "text/plain": [
       "Road Bikes        600\n",
       "Mountain Bikes    391\n",
       "Touring Bikes     175\n",
       "Name: Sub_Category, dtype: int64"
      ]
     },
     "execution_count": 63,
     "metadata": {},
     "output_type": "execute_result"
    }
   ],
   "source": [
    "# your code goes here\n",
    "b = sales.loc[sales['Product_Category'] == 'Bikes', 'Sub_Category'].value_counts().head(3)\n",
    "b"
   ]
  },
  {
   "cell_type": "markdown",
   "metadata": {},
   "source": [
    "Go ahead and show a <b>pie plot</b> with the results:"
   ]
  },
  {
   "cell_type": "code",
   "execution_count": 64,
   "metadata": {},
   "outputs": [
    {
     "data": {
      "text/plain": [
       "<AxesSubplot:ylabel='Sub_Category'>"
      ]
     },
     "execution_count": 64,
     "metadata": {},
     "output_type": "execute_result"
    },
    {
     "data": {
      "image/png": "[encoded data removed]",
      "text/plain": [
       "<Figure size 432x432 with 1 Axes>"
      ]
     },
     "metadata": {},
     "output_type": "display_data"
    }
   ],
   "source": [
    "# your code goes here\n",
    "b.plot.pie(figsize=(6,6))"
   ]
  },
  {
   "cell_type": "markdown",
   "metadata": {},
   "source": [
    "![green-divider](https://user-images.githubusercontent.com/7065401/52071924-c003ad80-2562-11e9-8297-1c6595f8a7ff.png)\n",
    "\n",
    "### Which gender has the most amount of sales?"
   ]
  },
  {
   "cell_type": "code",
   "execution_count": 70,
   "metadata": {},
   "outputs": [
    {
     "data": {
      "text/plain": [
       "M    2564\n",
       "F    2436\n",
       "Name: Customer_Gender, dtype: int64"
      ]
     },
     "execution_count": 70,
     "metadata": {},
     "output_type": "execute_result"
    }
   ],
   "source": [
    "# your code goes here\n",
    "sales['Customer_Gender'].value_counts()"
   ]
  },
  {
   "cell_type": "markdown",
   "metadata": {},
   "source": [
    "![green-divider](https://user-images.githubusercontent.com/7065401/52071924-c003ad80-2562-11e9-8297-1c6595f8a7ff.png)\n",
    "\n",
    "### How many sales with more than 500 in `Revenue` were made by men?"
   ]
  },
  {
   "cell_type": "code",
   "execution_count": 72,
   "metadata": {},
   "outputs": [
    {
     "data": {
      "text/plain": [
       "1058"
      ]
     },
     "execution_count": 72,
     "metadata": {},
     "output_type": "execute_result"
    }
   ],
   "source": [
    "# your code goes here\n",
    "sales.loc[(sales['Customer_Gender'] == 'M') & (sales['Revenue'] > 500)].shape[0]"
   ]
  },
  {
   "cell_type": "markdown",
   "metadata": {},
   "source": [
    "![green-divider](https://user-images.githubusercontent.com/7065401/52071924-c003ad80-2562-11e9-8297-1c6595f8a7ff.png)\n",
    "\n",
    "### Get the top-5 sales with the highest revenue"
   ]
  },
  {
   "cell_type": "code",
   "execution_count": 76,
   "metadata": {},
   "outputs": [
    {
     "data": {
      "text/html": [
       "<div>\n",
       "<style scoped>\n",
       "    .dataframe tbody tr th:only-of-type {\n",
       "        vertical-align: middle;\n",
       "    }\n",
       "\n",
       "    .dataframe tbody tr th {\n",
       "        vertical-align: top;\n",
       "    }\n",
       "\n",
       "    .dataframe thead th {\n",
       "        text-align: right;\n",
       "    }\n",
       "</style>\n",
       "<table border=\"1\" class=\"dataframe\">\n",
       "  <thead>\n",
       "    <tr style=\"text-align: right;\">\n",
       "      <th></th>\n",
       "      <th>index</th>\n",
       "      <th>Date</th>\n",
       "      <th>Day</th>\n",
       "      <th>Month</th>\n",
       "      <th>Year</th>\n",
       "      <th>Customer_Age</th>\n",
       "      <th>Customer_Gender</th>\n",
       "      <th>Country</th>\n",
       "      <th>State</th>\n",
       "      <th>Product_Category</th>\n",
       "      <th>Sub_Category</th>\n",
       "      <th>Product</th>\n",
       "      <th>Order_Quantity</th>\n",
       "      <th>Unit_Cost</th>\n",
       "      <th>Unit_Price</th>\n",
       "      <th>Profit</th>\n",
       "      <th>Revenue</th>\n",
       "      <th>Cost</th>\n",
       "      <th>YearMonth</th>\n",
       "    </tr>\n",
       "  </thead>\n",
       "  <tbody>\n",
       "    <tr>\n",
       "      <th>4905</th>\n",
       "      <td>743</td>\n",
       "      <td>2011-01-17</td>\n",
       "      <td>17</td>\n",
       "      <td>January</td>\n",
       "      <td>2011</td>\n",
       "      <td>44</td>\n",
       "      <td>F</td>\n",
       "      <td>United States</td>\n",
       "      <td>California</td>\n",
       "      <td>Bikes</td>\n",
       "      <td>Road Bikes</td>\n",
       "      <td>Road-150 Red, 62</td>\n",
       "      <td>4</td>\n",
       "      <td>2171</td>\n",
       "      <td>3578</td>\n",
       "      <td>5342</td>\n",
       "      <td>14076</td>\n",
       "      <td>8684</td>\n",
       "      <td>2011-January</td>\n",
       "    </tr>\n",
       "    <tr>\n",
       "      <th>4986</th>\n",
       "      <td>2686</td>\n",
       "      <td>2011-03-27</td>\n",
       "      <td>27</td>\n",
       "      <td>March</td>\n",
       "      <td>2011</td>\n",
       "      <td>24</td>\n",
       "      <td>M</td>\n",
       "      <td>United States</td>\n",
       "      <td>California</td>\n",
       "      <td>Bikes</td>\n",
       "      <td>Road Bikes</td>\n",
       "      <td>Road-150 Red, 44</td>\n",
       "      <td>4</td>\n",
       "      <td>2171</td>\n",
       "      <td>3578</td>\n",
       "      <td>5342</td>\n",
       "      <td>14076</td>\n",
       "      <td>8684</td>\n",
       "      <td>2011-March</td>\n",
       "    </tr>\n",
       "    <tr>\n",
       "      <th>4959</th>\n",
       "      <td>1490</td>\n",
       "      <td>2011-12-29</td>\n",
       "      <td>29</td>\n",
       "      <td>December</td>\n",
       "      <td>2011</td>\n",
       "      <td>25</td>\n",
       "      <td>M</td>\n",
       "      <td>Canada</td>\n",
       "      <td>British Columbia</td>\n",
       "      <td>Bikes</td>\n",
       "      <td>Road Bikes</td>\n",
       "      <td>Road-150 Red, 62</td>\n",
       "      <td>3</td>\n",
       "      <td>2171</td>\n",
       "      <td>3578</td>\n",
       "      <td>4114</td>\n",
       "      <td>10677</td>\n",
       "      <td>6513</td>\n",
       "      <td>2011-December</td>\n",
       "    </tr>\n",
       "    <tr>\n",
       "      <th>1689</th>\n",
       "      <td>3530</td>\n",
       "      <td>2015-12-11</td>\n",
       "      <td>11</td>\n",
       "      <td>December</td>\n",
       "      <td>2015</td>\n",
       "      <td>44</td>\n",
       "      <td>M</td>\n",
       "      <td>Canada</td>\n",
       "      <td>British Columbia</td>\n",
       "      <td>Bikes</td>\n",
       "      <td>Road Bikes</td>\n",
       "      <td>Road-150 Red, 62</td>\n",
       "      <td>3</td>\n",
       "      <td>2171</td>\n",
       "      <td>3578</td>\n",
       "      <td>4114</td>\n",
       "      <td>10677</td>\n",
       "      <td>6513</td>\n",
       "      <td>2015-December</td>\n",
       "    </tr>\n",
       "    <tr>\n",
       "      <th>678</th>\n",
       "      <td>2076</td>\n",
       "      <td>2016-01-28</td>\n",
       "      <td>28</td>\n",
       "      <td>January</td>\n",
       "      <td>2016</td>\n",
       "      <td>34</td>\n",
       "      <td>M</td>\n",
       "      <td>Canada</td>\n",
       "      <td>British Columbia</td>\n",
       "      <td>Bikes</td>\n",
       "      <td>Road Bikes</td>\n",
       "      <td>Road-150 Red, 62</td>\n",
       "      <td>3</td>\n",
       "      <td>2171</td>\n",
       "      <td>3578</td>\n",
       "      <td>4114</td>\n",
       "      <td>10677</td>\n",
       "      <td>6513</td>\n",
       "      <td>2016-January</td>\n",
       "    </tr>\n",
       "  </tbody>\n",
       "</table>\n",
       "</div>"
      ],
      "text/plain": [
       "      index       Date  Day     Month  Year  Customer_Age Customer_Gender  \\\n",
       "4905    743 2011-01-17   17   January  2011            44               F   \n",
       "4986   2686 2011-03-27   27     March  2011            24               M   \n",
       "4959   1490 2011-12-29   29  December  2011            25               M   \n",
       "1689   3530 2015-12-11   11  December  2015            44               M   \n",
       "678    2076 2016-01-28   28   January  2016            34               M   \n",
       "\n",
       "            Country             State Product_Category Sub_Category  \\\n",
       "4905  United States        California            Bikes   Road Bikes   \n",
       "4986  United States        California            Bikes   Road Bikes   \n",
       "4959         Canada  British Columbia            Bikes   Road Bikes   \n",
       "1689         Canada  British Columbia            Bikes   Road Bikes   \n",
       "678          Canada  British Columbia            Bikes   Road Bikes   \n",
       "\n",
       "               Product  Order_Quantity  Unit_Cost  Unit_Price  Profit  \\\n",
       "4905  Road-150 Red, 62               4       2171        3578    5342   \n",
       "4986  Road-150 Red, 44               4       2171        3578    5342   \n",
       "4959  Road-150 Red, 62               3       2171        3578    4114   \n",
       "1689  Road-150 Red, 62               3       2171        3578    4114   \n",
       "678   Road-150 Red, 62               3       2171        3578    4114   \n",
       "\n",
       "      Revenue  Cost      YearMonth  \n",
       "4905    14076  8684   2011-January  \n",
       "4986    14076  8684     2011-March  \n",
       "4959    10677  6513  2011-December  \n",
       "1689    10677  6513  2015-December  \n",
       "678     10677  6513   2016-January  "
      ]
     },
     "execution_count": 76,
     "metadata": {},
     "output_type": "execute_result"
    }
   ],
   "source": [
    "# your code goes here\n",
    "s = sales.sort_values(by='Revenue', ascending=False).head(5)\n",
    "s"
   ]
  },
  {
   "cell_type": "markdown",
   "metadata": {},
   "source": [
    "![green-divider](https://user-images.githubusercontent.com/7065401/52071924-c003ad80-2562-11e9-8297-1c6595f8a7ff.png)\n",
    "\n",
    "### Get the sale with the highest revenue"
   ]
  },
  {
   "cell_type": "code",
   "execution_count": 79,
   "metadata": {},
   "outputs": [
    {
     "data": {
      "text/html": [
       "<div>\n",
       "<style scoped>\n",
       "    .dataframe tbody tr th:only-of-type {\n",
       "        vertical-align: middle;\n",
       "    }\n",
       "\n",
       "    .dataframe tbody tr th {\n",
       "        vertical-align: top;\n",
       "    }\n",
       "\n",
       "    .dataframe thead th {\n",
       "        text-align: right;\n",
       "    }\n",
       "</style>\n",
       "<table border=\"1\" class=\"dataframe\">\n",
       "  <thead>\n",
       "    <tr style=\"text-align: right;\">\n",
       "      <th></th>\n",
       "      <th>index</th>\n",
       "      <th>Date</th>\n",
       "      <th>Day</th>\n",
       "      <th>Month</th>\n",
       "      <th>Year</th>\n",
       "      <th>Customer_Age</th>\n",
       "      <th>Customer_Gender</th>\n",
       "      <th>Country</th>\n",
       "      <th>State</th>\n",
       "      <th>Product_Category</th>\n",
       "      <th>Sub_Category</th>\n",
       "      <th>Product</th>\n",
       "      <th>Order_Quantity</th>\n",
       "      <th>Unit_Cost</th>\n",
       "      <th>Unit_Price</th>\n",
       "      <th>Profit</th>\n",
       "      <th>Revenue</th>\n",
       "      <th>Cost</th>\n",
       "      <th>YearMonth</th>\n",
       "    </tr>\n",
       "  </thead>\n",
       "  <tbody>\n",
       "    <tr>\n",
       "      <th>4905</th>\n",
       "      <td>743</td>\n",
       "      <td>2011-01-17</td>\n",
       "      <td>17</td>\n",
       "      <td>January</td>\n",
       "      <td>2011</td>\n",
       "      <td>44</td>\n",
       "      <td>F</td>\n",
       "      <td>United States</td>\n",
       "      <td>California</td>\n",
       "      <td>Bikes</td>\n",
       "      <td>Road Bikes</td>\n",
       "      <td>Road-150 Red, 62</td>\n",
       "      <td>4</td>\n",
       "      <td>2171</td>\n",
       "      <td>3578</td>\n",
       "      <td>5342</td>\n",
       "      <td>14076</td>\n",
       "      <td>8684</td>\n",
       "      <td>2011-January</td>\n",
       "    </tr>\n",
       "  </tbody>\n",
       "</table>\n",
       "</div>"
      ],
      "text/plain": [
       "      index       Date  Day    Month  Year  Customer_Age Customer_Gender  \\\n",
       "4905    743 2011-01-17   17  January  2011            44               F   \n",
       "\n",
       "            Country       State Product_Category Sub_Category  \\\n",
       "4905  United States  California            Bikes   Road Bikes   \n",
       "\n",
       "               Product  Order_Quantity  Unit_Cost  Unit_Price  Profit  \\\n",
       "4905  Road-150 Red, 62               4       2171        3578    5342   \n",
       "\n",
       "      Revenue  Cost     YearMonth  \n",
       "4905    14076  8684  2011-January  "
      ]
     },
     "execution_count": 79,
     "metadata": {},
     "output_type": "execute_result"
    }
   ],
   "source": [
    "# your code goes here\n",
    "s.head(1)"
   ]
  },
  {
   "cell_type": "markdown",
   "metadata": {},
   "source": [
    "![green-divider](https://user-images.githubusercontent.com/7065401/52071924-c003ad80-2562-11e9-8297-1c6595f8a7ff.png)\n",
    "\n",
    "### What is the mean `Order_Quantity` of orders with more than 10K in revenue?"
   ]
  },
  {
   "cell_type": "code",
   "execution_count": 83,
   "metadata": {},
   "outputs": [
    {
     "data": {
      "text/plain": [
       "3.25"
      ]
     },
     "execution_count": 83,
     "metadata": {},
     "output_type": "execute_result"
    }
   ],
   "source": [
    "# your code goes here\n",
    "sales.loc[sales['Revenue'] > 10_000, 'Order_Quantity'].mean()"
   ]
  },
  {
   "cell_type": "markdown",
   "metadata": {},
   "source": [
    "![green-divider](https://user-images.githubusercontent.com/7065401/52071924-c003ad80-2562-11e9-8297-1c6595f8a7ff.png)\n",
    "\n",
    "### What is the mean `Order_Quantity` of orders with less than 10K in revenue?"
   ]
  },
  {
   "cell_type": "code",
   "execution_count": 84,
   "metadata": {},
   "outputs": [
    {
     "data": {
      "text/plain": [
       "11.834134615384615"
      ]
     },
     "execution_count": 84,
     "metadata": {},
     "output_type": "execute_result"
    }
   ],
   "source": [
    "# your code goes here\n",
    "sales.loc[sales['Revenue'] < 10_000, 'Order_Quantity'].mean()"
   ]
  },
  {
   "cell_type": "markdown",
   "metadata": {},
   "source": [
    "![green-divider](https://user-images.githubusercontent.com/7065401/52071924-c003ad80-2562-11e9-8297-1c6595f8a7ff.png)\n",
    "\n",
    "### How many orders were made in May of 2016?"
   ]
  },
  {
   "cell_type": "code",
   "execution_count": 87,
   "metadata": {},
   "outputs": [
    {
     "data": {
      "text/plain": [
       "214"
      ]
     },
     "execution_count": 87,
     "metadata": {},
     "output_type": "execute_result"
    }
   ],
   "source": [
    "# your code goes here\n",
    "sales.loc[sales['YearMonth'] == '2016-May'].shape[0]"
   ]
  },
  {
   "cell_type": "markdown",
   "metadata": {},
   "source": [
    "![green-divider](https://user-images.githubusercontent.com/7065401/52071924-c003ad80-2562-11e9-8297-1c6595f8a7ff.png)\n",
    "\n",
    "### How many orders were made between May and July of 2016?"
   ]
  },
  {
   "cell_type": "code",
   "execution_count": 92,
   "metadata": {},
   "outputs": [
    {
     "data": {
      "text/plain": [
       "517"
      ]
     },
     "execution_count": 92,
     "metadata": {},
     "output_type": "execute_result"
    }
   ],
   "source": [
    "# your code goes here\n",
    "sales.loc[(sales['YearMonth'] == '2016-May') | (sales['YearMonth'] == '2016-June') | (sales['YearMonth'] == '2016-July')].shape[0]"
   ]
  },
  {
   "cell_type": "markdown",
   "metadata": {},
   "source": [
    "Show a grouped <b>box plot</b> per month with the profit values."
   ]
  },
  {
   "cell_type": "code",
   "execution_count": 101,
   "metadata": {},
   "outputs": [
    {
     "data": {
      "text/plain": [
       "<AxesSubplot:title={'center':'Profit'}, xlabel='[Month]'>"
      ]
     },
     "execution_count": 101,
     "metadata": {},
     "output_type": "execute_result"
    },
    {
     "data": {
      "image/png": "[encoded data removed]",
      "text/plain": [
       "<Figure size 1008x432 with 1 Axes>"
      ]
     },
     "metadata": {
      "needs_background": "light"
     },
     "output_type": "display_data"
    }
   ],
   "source": [
    "# your code goes here\n",
    "sales.loc[sales['Year'] == 2016, ['Month', 'Profit']].boxplot(by='Month', figsize=(14,6))"
   ]
  },
  {
   "cell_type": "markdown",
   "metadata": {},
   "source": [
    "![green-divider](https://user-images.githubusercontent.com/7065401/52071924-c003ad80-2562-11e9-8297-1c6595f8a7ff.png)\n",
    "\n",
    "### Add 7.2% TAX on every sale `Unit_Price` within United States"
   ]
  },
  {
   "cell_type": "code",
   "execution_count": 103,
   "metadata": {
    "scrolled": false
   },
   "outputs": [
    {
     "data": {
      "text/html": [
       "<div>\n",
       "<style scoped>\n",
       "    .dataframe tbody tr th:only-of-type {\n",
       "        vertical-align: middle;\n",
       "    }\n",
       "\n",
       "    .dataframe tbody tr th {\n",
       "        vertical-align: top;\n",
       "    }\n",
       "\n",
       "    .dataframe thead th {\n",
       "        text-align: right;\n",
       "    }\n",
       "</style>\n",
       "<table border=\"1\" class=\"dataframe\">\n",
       "  <thead>\n",
       "    <tr style=\"text-align: right;\">\n",
       "      <th></th>\n",
       "      <th>index</th>\n",
       "      <th>Date</th>\n",
       "      <th>Day</th>\n",
       "      <th>Month</th>\n",
       "      <th>Year</th>\n",
       "      <th>Customer_Age</th>\n",
       "      <th>Customer_Gender</th>\n",
       "      <th>Country</th>\n",
       "      <th>State</th>\n",
       "      <th>Product_Category</th>\n",
       "      <th>Sub_Category</th>\n",
       "      <th>Product</th>\n",
       "      <th>Order_Quantity</th>\n",
       "      <th>Unit_Cost</th>\n",
       "      <th>Unit_Price</th>\n",
       "      <th>Profit</th>\n",
       "      <th>Revenue</th>\n",
       "      <th>Cost</th>\n",
       "      <th>YearMonth</th>\n",
       "    </tr>\n",
       "  </thead>\n",
       "  <tbody>\n",
       "    <tr>\n",
       "      <th>0</th>\n",
       "      <td>3962</td>\n",
       "      <td>2016-07-19</td>\n",
       "      <td>19</td>\n",
       "      <td>July</td>\n",
       "      <td>2016</td>\n",
       "      <td>37</td>\n",
       "      <td>F</td>\n",
       "      <td>United States</td>\n",
       "      <td>California</td>\n",
       "      <td>Accessories</td>\n",
       "      <td>Helmets</td>\n",
       "      <td>Sport-100 Helmet, Red</td>\n",
       "      <td>25</td>\n",
       "      <td>13</td>\n",
       "      <td>37.52</td>\n",
       "      <td>533</td>\n",
       "      <td>908</td>\n",
       "      <td>325</td>\n",
       "      <td>2016-July</td>\n",
       "    </tr>\n",
       "    <tr>\n",
       "      <th>1</th>\n",
       "      <td>3902</td>\n",
       "      <td>2016-05-20</td>\n",
       "      <td>20</td>\n",
       "      <td>May</td>\n",
       "      <td>2016</td>\n",
       "      <td>39</td>\n",
       "      <td>F</td>\n",
       "      <td>United States</td>\n",
       "      <td>California</td>\n",
       "      <td>Accessories</td>\n",
       "      <td>Bottles and Cages</td>\n",
       "      <td>Water Bottle - 30 oz.</td>\n",
       "      <td>16</td>\n",
       "      <td>2</td>\n",
       "      <td>5.36</td>\n",
       "      <td>46</td>\n",
       "      <td>128</td>\n",
       "      <td>32</td>\n",
       "      <td>2016-May</td>\n",
       "    </tr>\n",
       "    <tr>\n",
       "      <th>2</th>\n",
       "      <td>3886</td>\n",
       "      <td>2016-03-01</td>\n",
       "      <td>1</td>\n",
       "      <td>March</td>\n",
       "      <td>2016</td>\n",
       "      <td>31</td>\n",
       "      <td>F</td>\n",
       "      <td>United Kingdom</td>\n",
       "      <td>England</td>\n",
       "      <td>Accessories</td>\n",
       "      <td>Helmets</td>\n",
       "      <td>Sport-100 Helmet, Blue</td>\n",
       "      <td>13</td>\n",
       "      <td>13</td>\n",
       "      <td>35.00</td>\n",
       "      <td>268</td>\n",
       "      <td>487</td>\n",
       "      <td>169</td>\n",
       "      <td>2016-March</td>\n",
       "    </tr>\n",
       "    <tr>\n",
       "      <th>3</th>\n",
       "      <td>3888</td>\n",
       "      <td>2016-01-18</td>\n",
       "      <td>18</td>\n",
       "      <td>January</td>\n",
       "      <td>2016</td>\n",
       "      <td>26</td>\n",
       "      <td>F</td>\n",
       "      <td>Australia</td>\n",
       "      <td>Victoria</td>\n",
       "      <td>Accessories</td>\n",
       "      <td>Bottles and Cages</td>\n",
       "      <td>Water Bottle - 30 oz.</td>\n",
       "      <td>1</td>\n",
       "      <td>2</td>\n",
       "      <td>5.00</td>\n",
       "      <td>2</td>\n",
       "      <td>54</td>\n",
       "      <td>2</td>\n",
       "      <td>2016-January</td>\n",
       "    </tr>\n",
       "    <tr>\n",
       "      <th>4</th>\n",
       "      <td>1571</td>\n",
       "      <td>2016-06-03</td>\n",
       "      <td>3</td>\n",
       "      <td>June</td>\n",
       "      <td>2016</td>\n",
       "      <td>44</td>\n",
       "      <td>F</td>\n",
       "      <td>Canada</td>\n",
       "      <td>British Columbia</td>\n",
       "      <td>Accessories</td>\n",
       "      <td>Helmets</td>\n",
       "      <td>Sport-100 Helmet, Black</td>\n",
       "      <td>18</td>\n",
       "      <td>13</td>\n",
       "      <td>35.00</td>\n",
       "      <td>390</td>\n",
       "      <td>674</td>\n",
       "      <td>234</td>\n",
       "      <td>2016-June</td>\n",
       "    </tr>\n",
       "  </tbody>\n",
       "</table>\n",
       "</div>"
      ],
      "text/plain": [
       "   index       Date  Day    Month  Year  Customer_Age Customer_Gender  \\\n",
       "0   3962 2016-07-19   19     July  2016            37               F   \n",
       "1   3902 2016-05-20   20      May  2016            39               F   \n",
       "2   3886 2016-03-01    1    March  2016            31               F   \n",
       "3   3888 2016-01-18   18  January  2016            26               F   \n",
       "4   1571 2016-06-03    3     June  2016            44               F   \n",
       "\n",
       "          Country             State Product_Category       Sub_Category  \\\n",
       "0   United States        California      Accessories            Helmets   \n",
       "1   United States        California      Accessories  Bottles and Cages   \n",
       "2  United Kingdom           England      Accessories            Helmets   \n",
       "3       Australia          Victoria      Accessories  Bottles and Cages   \n",
       "4          Canada  British Columbia      Accessories            Helmets   \n",
       "\n",
       "                   Product  Order_Quantity  Unit_Cost  Unit_Price  Profit  \\\n",
       "0    Sport-100 Helmet, Red              25         13       37.52     533   \n",
       "1    Water Bottle - 30 oz.              16          2        5.36      46   \n",
       "2   Sport-100 Helmet, Blue              13         13       35.00     268   \n",
       "3    Water Bottle - 30 oz.               1          2        5.00       2   \n",
       "4  Sport-100 Helmet, Black              18         13       35.00     390   \n",
       "\n",
       "   Revenue  Cost     YearMonth  \n",
       "0      908   325     2016-July  \n",
       "1      128    32      2016-May  \n",
       "2      487   169    2016-March  \n",
       "3       54     2  2016-January  \n",
       "4      674   234     2016-June  "
      ]
     },
     "execution_count": 103,
     "metadata": {},
     "output_type": "execute_result"
    }
   ],
   "source": [
    "# your code goes here\n",
    "sales.loc[sales['Country'] == 'United States', 'Unit_Price'] *= 1.072\n",
    "sales.head()"
   ]
  },
  {
   "cell_type": "markdown",
   "metadata": {},
   "source": [
    "![purple-divider](https://user-images.githubusercontent.com/7065401/52071927-c1cd7100-2562-11e9-908a-dde91ba14e59.png)"
   ]
  }
 ],
 "metadata": {
  "kernelspec": {
   "display_name": "Python 3",
   "language": "python",
   "name": "python3"
  },
  "language_info": {
   "codemirror_mode": {
    "name": "ipython",
    "version": 3
   },
   "file_extension": ".py",
   "mimetype": "text/x-python",
   "name": "python",
   "nbconvert_exporter": "python",
   "pygments_lexer": "ipython3",
   "version": "3.8.8"
  }
 },
 "nbformat": 4,
 "nbformat_minor": 2
}
